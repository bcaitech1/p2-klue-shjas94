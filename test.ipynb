{
 "metadata": {
  "language_info": {
   "codemirror_mode": {
    "name": "ipython",
    "version": 3
   },
   "file_extension": ".py",
   "mimetype": "text/x-python",
   "name": "python",
   "nbconvert_exporter": "python",
   "pygments_lexer": "ipython3",
   "version": "3.7.7-final"
  },
  "orig_nbformat": 2,
  "kernelspec": {
   "name": "python377jvsc74a57bd098b0a9b7b4eaaa670588a142fd0a9b87eaafe866f1db4228be72b4211d12040f",
   "display_name": "Python 3.7.7 64-bit ('conda': conda)"
  }
 },
 "nbformat": 4,
 "nbformat_minor": 2,
 "cells": [
  {
   "cell_type": "code",
   "execution_count": 4,
   "metadata": {},
   "outputs": [
    {
     "output_type": "stream",
     "name": "stdout",
     "text": [
      "Wed Apr 14 11:26:48 2021       \n+-----------------------------------------------------------------------------+\n| NVIDIA-SMI 418.67       Driver Version: 418.67       CUDA Version: 10.1     |\n|-------------------------------+----------------------+----------------------+\n| GPU  Name        Persistence-M| Bus-Id        Disp.A | Volatile Uncorr. ECC |\n| Fan  Temp  Perf  Pwr:Usage/Cap|         Memory-Usage | GPU-Util  Compute M. |\n|===============================+======================+======================|\n|   0  Tesla V100-PCIE...  On   | 00000000:00:05.0 Off |                  Off |\n| N/A   37C    P0    26W / 250W |     11MiB / 32480MiB |      0%      Default |\n+-------------------------------+----------------------+----------------------+\n                                                                               \n+-----------------------------------------------------------------------------+\n| Processes:                                                       GPU Memory |\n|  GPU       PID   Type   Process name                             Usage      |\n|=============================================================================|\n|  No running processes found                                                 |\n+-----------------------------------------------------------------------------+\n"
     ]
    }
   ],
   "source": [
    "!nvidia-smi"
   ]
  },
  {
   "cell_type": "code",
   "execution_count": 2,
   "metadata": {},
   "outputs": [],
   "source": [
    "import os\n",
    "import pandas as pd"
   ]
  },
  {
   "cell_type": "code",
   "execution_count": 25,
   "metadata": {},
   "outputs": [],
   "source": [
    "def change_label(df, name, label):\n",
    "    loc = df.index[df[0] == name]\n",
    "    df.loc[loc, 8] = label\n",
    "    return df"
   ]
  },
  {
   "cell_type": "code",
   "execution_count": 10,
   "metadata": {},
   "outputs": [],
   "source": [
    "df = pd.read_csv(\"/opt/ml/input/data/train/train.tsv\", delimiter='\\t', header=None)\n",
    "df2 = pd.read_csv(\"/opt/ml/input/data/test/test.tsv\", delimiter='\\t', header=None)"
   ]
  },
  {
   "cell_type": "code",
   "execution_count": 27,
   "metadata": {},
   "outputs": [],
   "source": [
    "changed_label = [('wikitree-55837-4-0-2-10-11', '단체:구성원'), ('wikitree-62775-3-3-7-0-2', '단체:본사_도시')\n",
    "    ,'('wikitree-12599-4-108-111-4-7','관계_없음'), ('wikipedia-25967-115-24-26-35-37', '관계_없음'), ('wikipedia-16427-6-14-17-20-22', '관계_없음')\n",
    "     ()'wikipedia-16427-8-0-3-26-28', '관계_없음'), ('wikitree-19765-5-30-33-6-8', '관계_없음'), ('wikitree-58702-0-18-20-22-24', '관계_없음'), ('wikitree-71638-8-21-23-15-17','관계_없음')"
   ]
  },
  {
   "cell_type": "code",
   "execution_count": 28,
   "metadata": {},
   "outputs": [],
   "source": [
    "for name, label in changed_label:\n",
    "    df = change_label(df, name, label)"
   ]
  },
  {
   "cell_type": "code",
   "execution_count": 33,
   "metadata": {},
   "outputs": [
    {
     "output_type": "execute_result",
     "data": {
      "text/plain": [
       "                               0  \\\n",
       "1262  wikitree-19765-5-30-33-6-8   \n",
       "\n",
       "                                                  1     2   3   4    5  6  7  \\\n",
       "1262  허 사장은 허창수 GS그룹 명예회장의 장남으로 지난해 GS건설 사장으로 승진했다.  GS건설  30  33  허창수  6  8   \n",
       "\n",
       "          8  \n",
       "1262  관계_없음  "
      ],
      "text/html": "<div>\n<style scoped>\n    .dataframe tbody tr th:only-of-type {\n        vertical-align: middle;\n    }\n\n    .dataframe tbody tr th {\n        vertical-align: top;\n    }\n\n    .dataframe thead th {\n        text-align: right;\n    }\n</style>\n<table border=\"1\" class=\"dataframe\">\n  <thead>\n    <tr style=\"text-align: right;\">\n      <th></th>\n      <th>0</th>\n      <th>1</th>\n      <th>2</th>\n      <th>3</th>\n      <th>4</th>\n      <th>5</th>\n      <th>6</th>\n      <th>7</th>\n      <th>8</th>\n    </tr>\n  </thead>\n  <tbody>\n    <tr>\n      <th>1262</th>\n      <td>wikitree-19765-5-30-33-6-8</td>\n      <td>허 사장은 허창수 GS그룹 명예회장의 장남으로 지난해 GS건설 사장으로 승진했다.</td>\n      <td>GS건설</td>\n      <td>30</td>\n      <td>33</td>\n      <td>허창수</td>\n      <td>6</td>\n      <td>8</td>\n      <td>관계_없음</td>\n    </tr>\n  </tbody>\n</table>\n</div>"
     },
     "metadata": {},
     "execution_count": 33
    }
   ],
   "source": [
    "idx = df.index[df[0] == 'wikitree-19765-5-30-33-6-8']\n",
    "df.loc[idx, :]"
   ]
  },
  {
   "cell_type": "code",
   "execution_count": 43,
   "metadata": {},
   "outputs": [
    {
     "output_type": "execute_result",
     "data": {
      "text/plain": [
       "                                0  \\\n",
       "0  wikipedia-24896-25-30-33-19-21   \n",
       "1   wikipedia-12728-224-5-7-42-44   \n",
       "2      wikipedia-28460-3-0-7-9-12   \n",
       "3    wikipedia-11479-37-24-26-3-5   \n",
       "4     wikipedia-15581-6-0-2-32-40   \n",
       "\n",
       "                                                   1         2   3   4  \\\n",
       "0  영국에서 사용되는 스포츠 유틸리티 자동차의 브랜드로는 랜드로버(Land Rover)...      랜드로버  30  33   \n",
       "1  선거에서 민주당은 해산 전 의석인 230석에 한참 못 미치는 57석(지역구 27석,...       민주당   5   7   \n",
       "2  유럽 축구 연맹(UEFA) 집행위원회는 2014년 1월 24일에 열린 회의를 통해 ...  유럽 축구 연맹   0   7   \n",
       "3  용병 공격수 챠디의 부진과 시즌 초 활약한 강수일의 침체, 시즌 중반에 영입한 세르...       강수일  24  26   \n",
       "4  람캄행 왕은 1237년에서 1247년 사이 수코타이의 왕 퍼쿤 씨 인트라팃과 쓰엉 ...       람캄행   0   2   \n",
       "\n",
       "           5   6   7         8  \n",
       "0        자동차  19  21     단체:제작  \n",
       "1        27석  42  44     관계_없음  \n",
       "2       UEFA   9  12     단체:별칭  \n",
       "3        공격수   3   5  인물:직업/직함  \n",
       "4  퍼쿤 씨 인트라팃  32  40    인물:부모님  "
      ],
      "text/html": "<div>\n<style scoped>\n    .dataframe tbody tr th:only-of-type {\n        vertical-align: middle;\n    }\n\n    .dataframe tbody tr th {\n        vertical-align: top;\n    }\n\n    .dataframe thead th {\n        text-align: right;\n    }\n</style>\n<table border=\"1\" class=\"dataframe\">\n  <thead>\n    <tr style=\"text-align: right;\">\n      <th></th>\n      <th>0</th>\n      <th>1</th>\n      <th>2</th>\n      <th>3</th>\n      <th>4</th>\n      <th>5</th>\n      <th>6</th>\n      <th>7</th>\n      <th>8</th>\n    </tr>\n  </thead>\n  <tbody>\n    <tr>\n      <th>0</th>\n      <td>wikipedia-24896-25-30-33-19-21</td>\n      <td>영국에서 사용되는 스포츠 유틸리티 자동차의 브랜드로는 랜드로버(Land Rover)...</td>\n      <td>랜드로버</td>\n      <td>30</td>\n      <td>33</td>\n      <td>자동차</td>\n      <td>19</td>\n      <td>21</td>\n      <td>단체:제작</td>\n    </tr>\n    <tr>\n      <th>1</th>\n      <td>wikipedia-12728-224-5-7-42-44</td>\n      <td>선거에서 민주당은 해산 전 의석인 230석에 한참 못 미치는 57석(지역구 27석,...</td>\n      <td>민주당</td>\n      <td>5</td>\n      <td>7</td>\n      <td>27석</td>\n      <td>42</td>\n      <td>44</td>\n      <td>관계_없음</td>\n    </tr>\n    <tr>\n      <th>2</th>\n      <td>wikipedia-28460-3-0-7-9-12</td>\n      <td>유럽 축구 연맹(UEFA) 집행위원회는 2014년 1월 24일에 열린 회의를 통해 ...</td>\n      <td>유럽 축구 연맹</td>\n      <td>0</td>\n      <td>7</td>\n      <td>UEFA</td>\n      <td>9</td>\n      <td>12</td>\n      <td>단체:별칭</td>\n    </tr>\n    <tr>\n      <th>3</th>\n      <td>wikipedia-11479-37-24-26-3-5</td>\n      <td>용병 공격수 챠디의 부진과 시즌 초 활약한 강수일의 침체, 시즌 중반에 영입한 세르...</td>\n      <td>강수일</td>\n      <td>24</td>\n      <td>26</td>\n      <td>공격수</td>\n      <td>3</td>\n      <td>5</td>\n      <td>인물:직업/직함</td>\n    </tr>\n    <tr>\n      <th>4</th>\n      <td>wikipedia-15581-6-0-2-32-40</td>\n      <td>람캄행 왕은 1237년에서 1247년 사이 수코타이의 왕 퍼쿤 씨 인트라팃과 쓰엉 ...</td>\n      <td>람캄행</td>\n      <td>0</td>\n      <td>2</td>\n      <td>퍼쿤 씨 인트라팃</td>\n      <td>32</td>\n      <td>40</td>\n      <td>인물:부모님</td>\n    </tr>\n  </tbody>\n</table>\n</div>"
     },
     "metadata": {},
     "execution_count": 43
    }
   ],
   "source": [
    "df.head()"
   ]
  },
  {
   "cell_type": "code",
   "execution_count": 38,
   "metadata": {},
   "outputs": [],
   "source": [
    "import matplotlib as mpl\n",
    "import matplotlib.pyplot as plt\n",
    "import seaborn as sns"
   ]
  },
  {
   "cell_type": "code",
   "execution_count": 39,
   "metadata": {},
   "outputs": [],
   "source": [
    "label_count = labels.value_counts()"
   ]
  },
  {
   "cell_type": "code",
   "execution_count": 41,
   "metadata": {},
   "outputs": [
    {
     "output_type": "execute_result",
     "data": {
      "text/plain": [
       "관계_없음          4432\n",
       "단체:구성원          815\n",
       "인물:소속단체         683\n",
       "인물:직업/직함        553\n",
       "단체:상위_단체        335\n",
       "단체:별칭           231\n",
       "인물:출신성분/국적      209\n",
       "인물:동료           186\n",
       "단체:제작           171\n",
       "인물:부모님          164\n",
       "단체:본사_도시        135\n",
       "단체:본사_국가        115\n",
       "인물:별칭           103\n",
       "인물:배우자           92\n",
       "인물:자녀            84\n",
       "단체:하위_단체         79\n",
       "단체:창립일           67\n",
       "인물:기타_친족         58\n",
       "인물:제작            56\n",
       "인물:형제/자매/남매      52\n",
       "단체:창립자           45\n",
       "인물:사망_일시         45\n",
       "단체:모회사           44\n",
       "인물:출생_일시         36\n",
       "인물:거주_국가         27\n",
       "인물:거주_도시         26\n",
       "단체:본사_주(도)       23\n",
       "단체:정치/종교성향       18\n",
       "단체:해산일           15\n",
       "인물:종교            15\n",
       "인물:거주_주(도)       12\n",
       "인물:용의자           11\n",
       "단체:주주            11\n",
       "인물:학교             9\n",
       "단체:구성원_수          9\n",
       "인물:출생_국가          8\n",
       "인물:사망_원인          7\n",
       "단체:자회사            6\n",
       "인물:나이             5\n",
       "인물:출생_도시          4\n",
       "인물:사망_도시          3\n",
       "인물:사망_국가          1\n",
       "Name: 8, dtype: int64"
      ]
     },
     "metadata": {},
     "execution_count": 41
    }
   ],
   "source": [
    "label_count"
   ]
  },
  {
   "cell_type": "code",
   "execution_count": 48,
   "metadata": {},
   "outputs": [
    {
     "output_type": "stream",
     "name": "stderr",
     "text": [
      "/opt/conda/lib/python3.7/site-packages/seaborn/_decorators.py:43: FutureWarning: Pass the following variable as a keyword arg: x. From version 0.12, the only valid positional argument will be `data`, and passing other arguments without an explicit keyword will result in an error or misinterpretation.\n  FutureWarning\n"
     ]
    },
    {
     "output_type": "execute_result",
     "data": {
      "text/plain": [
       "<AxesSubplot:xlabel='8', ylabel='count'>"
      ]
     },
     "metadata": {},
     "execution_count": 48
    },
    {
     "output_type": "stream",
     "name": "stderr",
     "text": [
      "/opt/conda/lib/python3.7/site-packages/matplotlib/textpath.py:74: RuntimeWarning: Glyph 45800 missing from current font.\n",
      "  font.set_text(s, 0.0, flags=LOAD_NO_HINTING)\n",
      "/opt/conda/lib/python3.7/site-packages/matplotlib/textpath.py:74: RuntimeWarning: Glyph 52404 missing from current font.\n",
      "  font.set_text(s, 0.0, flags=LOAD_NO_HINTING)\n",
      "/opt/conda/lib/python3.7/site-packages/matplotlib/textpath.py:74: RuntimeWarning: Glyph 51228 missing from current font.\n",
      "  font.set_text(s, 0.0, flags=LOAD_NO_HINTING)\n",
      "/opt/conda/lib/python3.7/site-packages/matplotlib/textpath.py:74: RuntimeWarning: Glyph 51089 missing from current font.\n",
      "  font.set_text(s, 0.0, flags=LOAD_NO_HINTING)\n",
      "/opt/conda/lib/python3.7/site-packages/matplotlib/textpath.py:74: RuntimeWarning: Glyph 44288 missing from current font.\n",
      "  font.set_text(s, 0.0, flags=LOAD_NO_HINTING)\n",
      "/opt/conda/lib/python3.7/site-packages/matplotlib/textpath.py:74: RuntimeWarning: Glyph 44228 missing from current font.\n",
      "  font.set_text(s, 0.0, flags=LOAD_NO_HINTING)\n",
      "/opt/conda/lib/python3.7/site-packages/matplotlib/textpath.py:74: RuntimeWarning: Glyph 50630 missing from current font.\n",
      "  font.set_text(s, 0.0, flags=LOAD_NO_HINTING)\n",
      "/opt/conda/lib/python3.7/site-packages/matplotlib/textpath.py:74: RuntimeWarning: Glyph 51020 missing from current font.\n",
      "  font.set_text(s, 0.0, flags=LOAD_NO_HINTING)\n",
      "/opt/conda/lib/python3.7/site-packages/matplotlib/textpath.py:74: RuntimeWarning: Glyph 48324 missing from current font.\n",
      "  font.set_text(s, 0.0, flags=LOAD_NO_HINTING)\n",
      "/opt/conda/lib/python3.7/site-packages/matplotlib/textpath.py:74: RuntimeWarning: Glyph 52845 missing from current font.\n",
      "  font.set_text(s, 0.0, flags=LOAD_NO_HINTING)\n",
      "/opt/conda/lib/python3.7/site-packages/matplotlib/textpath.py:74: RuntimeWarning: Glyph 51064 missing from current font.\n",
      "  font.set_text(s, 0.0, flags=LOAD_NO_HINTING)\n",
      "/opt/conda/lib/python3.7/site-packages/matplotlib/textpath.py:74: RuntimeWarning: Glyph 47932 missing from current font.\n",
      "  font.set_text(s, 0.0, flags=LOAD_NO_HINTING)\n",
      "/opt/conda/lib/python3.7/site-packages/matplotlib/textpath.py:74: RuntimeWarning: Glyph 51649 missing from current font.\n",
      "  font.set_text(s, 0.0, flags=LOAD_NO_HINTING)\n",
      "/opt/conda/lib/python3.7/site-packages/matplotlib/textpath.py:74: RuntimeWarning: Glyph 50629 missing from current font.\n",
      "  font.set_text(s, 0.0, flags=LOAD_NO_HINTING)\n",
      "/opt/conda/lib/python3.7/site-packages/matplotlib/textpath.py:74: RuntimeWarning: Glyph 54632 missing from current font.\n",
      "  font.set_text(s, 0.0, flags=LOAD_NO_HINTING)\n",
      "/opt/conda/lib/python3.7/site-packages/matplotlib/textpath.py:74: RuntimeWarning: Glyph 48512 missing from current font.\n",
      "  font.set_text(s, 0.0, flags=LOAD_NO_HINTING)\n",
      "/opt/conda/lib/python3.7/site-packages/matplotlib/textpath.py:74: RuntimeWarning: Glyph 47784 missing from current font.\n",
      "  font.set_text(s, 0.0, flags=LOAD_NO_HINTING)\n",
      "/opt/conda/lib/python3.7/site-packages/matplotlib/textpath.py:74: RuntimeWarning: Glyph 45784 missing from current font.\n",
      "  font.set_text(s, 0.0, flags=LOAD_NO_HINTING)\n",
      "/opt/conda/lib/python3.7/site-packages/matplotlib/textpath.py:74: RuntimeWarning: Glyph 54924 missing from current font.\n",
      "  font.set_text(s, 0.0, flags=LOAD_NO_HINTING)\n",
      "/opt/conda/lib/python3.7/site-packages/matplotlib/textpath.py:74: RuntimeWarning: Glyph 49324 missing from current font.\n",
      "  font.set_text(s, 0.0, flags=LOAD_NO_HINTING)\n",
      "/opt/conda/lib/python3.7/site-packages/matplotlib/textpath.py:74: RuntimeWarning: Glyph 44396 missing from current font.\n",
      "  font.set_text(s, 0.0, flags=LOAD_NO_HINTING)\n",
      "/opt/conda/lib/python3.7/site-packages/matplotlib/textpath.py:74: RuntimeWarning: Glyph 49457 missing from current font.\n",
      "  font.set_text(s, 0.0, flags=LOAD_NO_HINTING)\n",
      "/opt/conda/lib/python3.7/site-packages/matplotlib/textpath.py:74: RuntimeWarning: Glyph 50896 missing from current font.\n",
      "  font.set_text(s, 0.0, flags=LOAD_NO_HINTING)\n",
      "/opt/conda/lib/python3.7/site-packages/matplotlib/textpath.py:74: RuntimeWarning: Glyph 49548 missing from current font.\n",
      "  font.set_text(s, 0.0, flags=LOAD_NO_HINTING)\n",
      "/opt/conda/lib/python3.7/site-packages/matplotlib/textpath.py:74: RuntimeWarning: Glyph 49549 missing from current font.\n",
      "  font.set_text(s, 0.0, flags=LOAD_NO_HINTING)\n",
      "/opt/conda/lib/python3.7/site-packages/matplotlib/textpath.py:74: RuntimeWarning: Glyph 48376 missing from current font.\n",
      "  font.set_text(s, 0.0, flags=LOAD_NO_HINTING)\n",
      "/opt/conda/lib/python3.7/site-packages/matplotlib/textpath.py:74: RuntimeWarning: Glyph 51452 missing from current font.\n",
      "  font.set_text(s, 0.0, flags=LOAD_NO_HINTING)\n",
      "/opt/conda/lib/python3.7/site-packages/matplotlib/textpath.py:74: RuntimeWarning: Glyph 46020 missing from current font.\n",
      "  font.set_text(s, 0.0, flags=LOAD_NO_HINTING)\n",
      "/opt/conda/lib/python3.7/site-packages/matplotlib/textpath.py:74: RuntimeWarning: Glyph 52636 missing from current font.\n",
      "  font.set_text(s, 0.0, flags=LOAD_NO_HINTING)\n",
      "/opt/conda/lib/python3.7/site-packages/matplotlib/textpath.py:74: RuntimeWarning: Glyph 49888 missing from current font.\n",
      "  font.set_text(s, 0.0, flags=LOAD_NO_HINTING)\n",
      "/opt/conda/lib/python3.7/site-packages/matplotlib/textpath.py:74: RuntimeWarning: Glyph 48516 missing from current font.\n",
      "  font.set_text(s, 0.0, flags=LOAD_NO_HINTING)\n",
      "/opt/conda/lib/python3.7/site-packages/matplotlib/textpath.py:74: RuntimeWarning: Glyph 44397 missing from current font.\n",
      "  font.set_text(s, 0.0, flags=LOAD_NO_HINTING)\n",
      "/opt/conda/lib/python3.7/site-packages/matplotlib/textpath.py:74: RuntimeWarning: Glyph 51201 missing from current font.\n",
      "  font.set_text(s, 0.0, flags=LOAD_NO_HINTING)\n",
      "/opt/conda/lib/python3.7/site-packages/matplotlib/textpath.py:74: RuntimeWarning: Glyph 49345 missing from current font.\n",
      "  font.set_text(s, 0.0, flags=LOAD_NO_HINTING)\n",
      "/opt/conda/lib/python3.7/site-packages/matplotlib/textpath.py:74: RuntimeWarning: Glyph 50948 missing from current font.\n",
      "  font.set_text(s, 0.0, flags=LOAD_NO_HINTING)\n",
      "/opt/conda/lib/python3.7/site-packages/matplotlib/textpath.py:74: RuntimeWarning: Glyph 46041 missing from current font.\n",
      "  font.set_text(s, 0.0, flags=LOAD_NO_HINTING)\n",
      "/opt/conda/lib/python3.7/site-packages/matplotlib/textpath.py:74: RuntimeWarning: Glyph 47308 missing from current font.\n",
      "  font.set_text(s, 0.0, flags=LOAD_NO_HINTING)\n",
      "/opt/conda/lib/python3.7/site-packages/matplotlib/textpath.py:74: RuntimeWarning: Glyph 54805 missing from current font.\n",
      "  font.set_text(s, 0.0, flags=LOAD_NO_HINTING)\n",
      "/opt/conda/lib/python3.7/site-packages/matplotlib/textpath.py:74: RuntimeWarning: Glyph 51088 missing from current font.\n",
      "  font.set_text(s, 0.0, flags=LOAD_NO_HINTING)\n",
      "/opt/conda/lib/python3.7/site-packages/matplotlib/textpath.py:74: RuntimeWarning: Glyph 47588 missing from current font.\n",
      "  font.set_text(s, 0.0, flags=LOAD_NO_HINTING)\n",
      "/opt/conda/lib/python3.7/site-packages/matplotlib/textpath.py:74: RuntimeWarning: Glyph 45224 missing from current font.\n",
      "  font.set_text(s, 0.0, flags=LOAD_NO_HINTING)\n",
      "/opt/conda/lib/python3.7/site-packages/matplotlib/textpath.py:74: RuntimeWarning: Glyph 54617 missing from current font.\n",
      "  font.set_text(s, 0.0, flags=LOAD_NO_HINTING)\n",
      "/opt/conda/lib/python3.7/site-packages/matplotlib/textpath.py:74: RuntimeWarning: Glyph 44368 missing from current font.\n",
      "  font.set_text(s, 0.0, flags=LOAD_NO_HINTING)\n",
      "/opt/conda/lib/python3.7/site-packages/matplotlib/textpath.py:74: RuntimeWarning: Glyph 49373 missing from current font.\n",
      "  font.set_text(s, 0.0, flags=LOAD_NO_HINTING)\n",
      "/opt/conda/lib/python3.7/site-packages/matplotlib/textpath.py:74: RuntimeWarning: Glyph 49884 missing from current font.\n",
      "  font.set_text(s, 0.0, flags=LOAD_NO_HINTING)\n",
      "/opt/conda/lib/python3.7/site-packages/matplotlib/textpath.py:74: RuntimeWarning: Glyph 51333 missing from current font.\n",
      "  font.set_text(s, 0.0, flags=LOAD_NO_HINTING)\n",
      "/opt/conda/lib/python3.7/site-packages/matplotlib/textpath.py:74: RuntimeWarning: Glyph 44144 missing from current font.\n",
      "  font.set_text(s, 0.0, flags=LOAD_NO_HINTING)\n",
      "/opt/conda/lib/python3.7/site-packages/matplotlib/textpath.py:74: RuntimeWarning: Glyph 44032 missing from current font.\n",
      "  font.set_text(s, 0.0, flags=LOAD_NO_HINTING)\n",
      "/opt/conda/lib/python3.7/site-packages/matplotlib/textpath.py:74: RuntimeWarning: Glyph 44592 missing from current font.\n",
      "  font.set_text(s, 0.0, flags=LOAD_NO_HINTING)\n",
      "/opt/conda/lib/python3.7/site-packages/matplotlib/textpath.py:74: RuntimeWarning: Glyph 53440 missing from current font.\n",
      "  font.set_text(s, 0.0, flags=LOAD_NO_HINTING)\n",
      "/opt/conda/lib/python3.7/site-packages/matplotlib/textpath.py:74: RuntimeWarning: Glyph 52828 missing from current font.\n",
      "  font.set_text(s, 0.0, flags=LOAD_NO_HINTING)\n",
      "/opt/conda/lib/python3.7/site-packages/matplotlib/textpath.py:74: RuntimeWarning: Glyph 51313 missing from current font.\n",
      "  font.set_text(s, 0.0, flags=LOAD_NO_HINTING)\n",
      "/opt/conda/lib/python3.7/site-packages/matplotlib/textpath.py:74: RuntimeWarning: Glyph 51068 missing from current font.\n",
      "  font.set_text(s, 0.0, flags=LOAD_NO_HINTING)\n",
      "/opt/conda/lib/python3.7/site-packages/matplotlib/textpath.py:74: RuntimeWarning: Glyph 48176 missing from current font.\n",
      "  font.set_text(s, 0.0, flags=LOAD_NO_HINTING)\n",
      "/opt/conda/lib/python3.7/site-packages/matplotlib/textpath.py:74: RuntimeWarning: Glyph 50864 missing from current font.\n",
      "  font.set_text(s, 0.0, flags=LOAD_NO_HINTING)\n",
      "/opt/conda/lib/python3.7/site-packages/matplotlib/textpath.py:74: RuntimeWarning: Glyph 45376 missing from current font.\n",
      "  font.set_text(s, 0.0, flags=LOAD_NO_HINTING)\n",
      "/opt/conda/lib/python3.7/site-packages/matplotlib/textpath.py:74: RuntimeWarning: Glyph 47581 missing from current font.\n",
      "  font.set_text(s, 0.0, flags=LOAD_NO_HINTING)\n",
      "/opt/conda/lib/python3.7/site-packages/matplotlib/textpath.py:74: RuntimeWarning: Glyph 54644 missing from current font.\n",
      "  font.set_text(s, 0.0, flags=LOAD_NO_HINTING)\n",
      "/opt/conda/lib/python3.7/site-packages/matplotlib/textpath.py:74: RuntimeWarning: Glyph 49328 missing from current font.\n",
      "  font.set_text(s, 0.0, flags=LOAD_NO_HINTING)\n",
      "/opt/conda/lib/python3.7/site-packages/matplotlib/textpath.py:74: RuntimeWarning: Glyph 52285 missing from current font.\n",
      "  font.set_text(s, 0.0, flags=LOAD_NO_HINTING)\n",
      "/opt/conda/lib/python3.7/site-packages/matplotlib/textpath.py:74: RuntimeWarning: Glyph 47549 missing from current font.\n",
      "  font.set_text(s, 0.0, flags=LOAD_NO_HINTING)\n",
      "/opt/conda/lib/python3.7/site-packages/matplotlib/textpath.py:74: RuntimeWarning: Glyph 54616 missing from current font.\n",
      "  font.set_text(s, 0.0, flags=LOAD_NO_HINTING)\n",
      "/opt/conda/lib/python3.7/site-packages/matplotlib/textpath.py:74: RuntimeWarning: Glyph 51221 missing from current font.\n",
      "  font.set_text(s, 0.0, flags=LOAD_NO_HINTING)\n",
      "/opt/conda/lib/python3.7/site-packages/matplotlib/textpath.py:74: RuntimeWarning: Glyph 52824 missing from current font.\n",
      "  font.set_text(s, 0.0, flags=LOAD_NO_HINTING)\n",
      "/opt/conda/lib/python3.7/site-packages/matplotlib/textpath.py:74: RuntimeWarning: Glyph 54693 missing from current font.\n",
      "  font.set_text(s, 0.0, flags=LOAD_NO_HINTING)\n",
      "/opt/conda/lib/python3.7/site-packages/matplotlib/textpath.py:74: RuntimeWarning: Glyph 50857 missing from current font.\n",
      "  font.set_text(s, 0.0, flags=LOAD_NO_HINTING)\n",
      "/opt/conda/lib/python3.7/site-packages/matplotlib/textpath.py:74: RuntimeWarning: Glyph 51032 missing from current font.\n",
      "  font.set_text(s, 0.0, flags=LOAD_NO_HINTING)\n",
      "/opt/conda/lib/python3.7/site-packages/matplotlib/textpath.py:74: RuntimeWarning: Glyph 49688 missing from current font.\n",
      "  font.set_text(s, 0.0, flags=LOAD_NO_HINTING)\n",
      "/opt/conda/lib/python3.7/site-packages/matplotlib/textpath.py:74: RuntimeWarning: Glyph 45208 missing from current font.\n",
      "  font.set_text(s, 0.0, flags=LOAD_NO_HINTING)\n",
      "/opt/conda/lib/python3.7/site-packages/matplotlib/textpath.py:74: RuntimeWarning: Glyph 51060 missing from current font.\n",
      "  font.set_text(s, 0.0, flags=LOAD_NO_HINTING)\n",
      "/opt/conda/lib/python3.7/site-packages/matplotlib/backends/backend_agg.py:238: RuntimeWarning: Glyph 45800 missing from current font.\n",
      "  font.set_text(s, 0.0, flags=flags)\n",
      "/opt/conda/lib/python3.7/site-packages/matplotlib/backends/backend_agg.py:238: RuntimeWarning: Glyph 52404 missing from current font.\n",
      "  font.set_text(s, 0.0, flags=flags)\n",
      "/opt/conda/lib/python3.7/site-packages/matplotlib/backends/backend_agg.py:238: RuntimeWarning: Glyph 51228 missing from current font.\n",
      "  font.set_text(s, 0.0, flags=flags)\n",
      "/opt/conda/lib/python3.7/site-packages/matplotlib/backends/backend_agg.py:238: RuntimeWarning: Glyph 51089 missing from current font.\n",
      "  font.set_text(s, 0.0, flags=flags)\n",
      "/opt/conda/lib/python3.7/site-packages/matplotlib/backends/backend_agg.py:238: RuntimeWarning: Glyph 44288 missing from current font.\n",
      "  font.set_text(s, 0.0, flags=flags)\n",
      "/opt/conda/lib/python3.7/site-packages/matplotlib/backends/backend_agg.py:238: RuntimeWarning: Glyph 44228 missing from current font.\n",
      "  font.set_text(s, 0.0, flags=flags)\n",
      "/opt/conda/lib/python3.7/site-packages/matplotlib/backends/backend_agg.py:238: RuntimeWarning: Glyph 50630 missing from current font.\n",
      "  font.set_text(s, 0.0, flags=flags)\n",
      "/opt/conda/lib/python3.7/site-packages/matplotlib/backends/backend_agg.py:238: RuntimeWarning: Glyph 51020 missing from current font.\n",
      "  font.set_text(s, 0.0, flags=flags)\n",
      "/opt/conda/lib/python3.7/site-packages/matplotlib/backends/backend_agg.py:238: RuntimeWarning: Glyph 48324 missing from current font.\n",
      "  font.set_text(s, 0.0, flags=flags)\n",
      "/opt/conda/lib/python3.7/site-packages/matplotlib/backends/backend_agg.py:238: RuntimeWarning: Glyph 52845 missing from current font.\n",
      "  font.set_text(s, 0.0, flags=flags)\n",
      "/opt/conda/lib/python3.7/site-packages/matplotlib/backends/backend_agg.py:238: RuntimeWarning: Glyph 51064 missing from current font.\n",
      "  font.set_text(s, 0.0, flags=flags)\n",
      "/opt/conda/lib/python3.7/site-packages/matplotlib/backends/backend_agg.py:238: RuntimeWarning: Glyph 47932 missing from current font.\n",
      "  font.set_text(s, 0.0, flags=flags)\n",
      "/opt/conda/lib/python3.7/site-packages/matplotlib/backends/backend_agg.py:238: RuntimeWarning: Glyph 51649 missing from current font.\n",
      "  font.set_text(s, 0.0, flags=flags)\n",
      "/opt/conda/lib/python3.7/site-packages/matplotlib/backends/backend_agg.py:238: RuntimeWarning: Glyph 50629 missing from current font.\n",
      "  font.set_text(s, 0.0, flags=flags)\n",
      "/opt/conda/lib/python3.7/site-packages/matplotlib/backends/backend_agg.py:238: RuntimeWarning: Glyph 54632 missing from current font.\n",
      "  font.set_text(s, 0.0, flags=flags)\n",
      "/opt/conda/lib/python3.7/site-packages/matplotlib/backends/backend_agg.py:238: RuntimeWarning: Glyph 48512 missing from current font.\n",
      "  font.set_text(s, 0.0, flags=flags)\n",
      "/opt/conda/lib/python3.7/site-packages/matplotlib/backends/backend_agg.py:238: RuntimeWarning: Glyph 47784 missing from current font.\n",
      "  font.set_text(s, 0.0, flags=flags)\n",
      "/opt/conda/lib/python3.7/site-packages/matplotlib/backends/backend_agg.py:238: RuntimeWarning: Glyph 45784 missing from current font.\n",
      "  font.set_text(s, 0.0, flags=flags)\n",
      "/opt/conda/lib/python3.7/site-packages/matplotlib/backends/backend_agg.py:238: RuntimeWarning: Glyph 54924 missing from current font.\n",
      "  font.set_text(s, 0.0, flags=flags)\n",
      "/opt/conda/lib/python3.7/site-packages/matplotlib/backends/backend_agg.py:238: RuntimeWarning: Glyph 49324 missing from current font.\n",
      "  font.set_text(s, 0.0, flags=flags)\n",
      "/opt/conda/lib/python3.7/site-packages/matplotlib/backends/backend_agg.py:238: RuntimeWarning: Glyph 44396 missing from current font.\n",
      "  font.set_text(s, 0.0, flags=flags)\n",
      "/opt/conda/lib/python3.7/site-packages/matplotlib/backends/backend_agg.py:238: RuntimeWarning: Glyph 49457 missing from current font.\n",
      "  font.set_text(s, 0.0, flags=flags)\n",
      "/opt/conda/lib/python3.7/site-packages/matplotlib/backends/backend_agg.py:238: RuntimeWarning: Glyph 50896 missing from current font.\n",
      "  font.set_text(s, 0.0, flags=flags)\n",
      "/opt/conda/lib/python3.7/site-packages/matplotlib/backends/backend_agg.py:238: RuntimeWarning: Glyph 49548 missing from current font.\n",
      "  font.set_text(s, 0.0, flags=flags)\n",
      "/opt/conda/lib/python3.7/site-packages/matplotlib/backends/backend_agg.py:238: RuntimeWarning: Glyph 49549 missing from current font.\n",
      "  font.set_text(s, 0.0, flags=flags)\n",
      "/opt/conda/lib/python3.7/site-packages/matplotlib/backends/backend_agg.py:238: RuntimeWarning: Glyph 48376 missing from current font.\n",
      "  font.set_text(s, 0.0, flags=flags)\n",
      "/opt/conda/lib/python3.7/site-packages/matplotlib/backends/backend_agg.py:238: RuntimeWarning: Glyph 51452 missing from current font.\n",
      "  font.set_text(s, 0.0, flags=flags)\n",
      "/opt/conda/lib/python3.7/site-packages/matplotlib/backends/backend_agg.py:238: RuntimeWarning: Glyph 46020 missing from current font.\n",
      "  font.set_text(s, 0.0, flags=flags)\n",
      "/opt/conda/lib/python3.7/site-packages/matplotlib/backends/backend_agg.py:238: RuntimeWarning: Glyph 52636 missing from current font.\n",
      "  font.set_text(s, 0.0, flags=flags)\n",
      "/opt/conda/lib/python3.7/site-packages/matplotlib/backends/backend_agg.py:238: RuntimeWarning: Glyph 49888 missing from current font.\n",
      "  font.set_text(s, 0.0, flags=flags)\n",
      "/opt/conda/lib/python3.7/site-packages/matplotlib/backends/backend_agg.py:238: RuntimeWarning: Glyph 48516 missing from current font.\n",
      "  font.set_text(s, 0.0, flags=flags)\n",
      "/opt/conda/lib/python3.7/site-packages/matplotlib/backends/backend_agg.py:238: RuntimeWarning: Glyph 44397 missing from current font.\n",
      "  font.set_text(s, 0.0, flags=flags)\n",
      "/opt/conda/lib/python3.7/site-packages/matplotlib/backends/backend_agg.py:238: RuntimeWarning: Glyph 51201 missing from current font.\n",
      "  font.set_text(s, 0.0, flags=flags)\n",
      "/opt/conda/lib/python3.7/site-packages/matplotlib/backends/backend_agg.py:238: RuntimeWarning: Glyph 49345 missing from current font.\n",
      "  font.set_text(s, 0.0, flags=flags)\n",
      "/opt/conda/lib/python3.7/site-packages/matplotlib/backends/backend_agg.py:238: RuntimeWarning: Glyph 50948 missing from current font.\n",
      "  font.set_text(s, 0.0, flags=flags)\n",
      "/opt/conda/lib/python3.7/site-packages/matplotlib/backends/backend_agg.py:238: RuntimeWarning: Glyph 46041 missing from current font.\n",
      "  font.set_text(s, 0.0, flags=flags)\n",
      "/opt/conda/lib/python3.7/site-packages/matplotlib/backends/backend_agg.py:238: RuntimeWarning: Glyph 47308 missing from current font.\n",
      "  font.set_text(s, 0.0, flags=flags)\n",
      "/opt/conda/lib/python3.7/site-packages/matplotlib/backends/backend_agg.py:238: RuntimeWarning: Glyph 54805 missing from current font.\n",
      "  font.set_text(s, 0.0, flags=flags)\n",
      "/opt/conda/lib/python3.7/site-packages/matplotlib/backends/backend_agg.py:238: RuntimeWarning: Glyph 51088 missing from current font.\n",
      "  font.set_text(s, 0.0, flags=flags)\n",
      "/opt/conda/lib/python3.7/site-packages/matplotlib/backends/backend_agg.py:238: RuntimeWarning: Glyph 47588 missing from current font.\n",
      "  font.set_text(s, 0.0, flags=flags)\n",
      "/opt/conda/lib/python3.7/site-packages/matplotlib/backends/backend_agg.py:238: RuntimeWarning: Glyph 45224 missing from current font.\n",
      "  font.set_text(s, 0.0, flags=flags)\n",
      "/opt/conda/lib/python3.7/site-packages/matplotlib/backends/backend_agg.py:238: RuntimeWarning: Glyph 54617 missing from current font.\n",
      "  font.set_text(s, 0.0, flags=flags)\n",
      "/opt/conda/lib/python3.7/site-packages/matplotlib/backends/backend_agg.py:238: RuntimeWarning: Glyph 44368 missing from current font.\n",
      "  font.set_text(s, 0.0, flags=flags)\n",
      "/opt/conda/lib/python3.7/site-packages/matplotlib/backends/backend_agg.py:238: RuntimeWarning: Glyph 49373 missing from current font.\n",
      "  font.set_text(s, 0.0, flags=flags)\n",
      "/opt/conda/lib/python3.7/site-packages/matplotlib/backends/backend_agg.py:238: RuntimeWarning: Glyph 49884 missing from current font.\n",
      "  font.set_text(s, 0.0, flags=flags)\n",
      "/opt/conda/lib/python3.7/site-packages/matplotlib/backends/backend_agg.py:238: RuntimeWarning: Glyph 51333 missing from current font.\n",
      "  font.set_text(s, 0.0, flags=flags)\n",
      "/opt/conda/lib/python3.7/site-packages/matplotlib/backends/backend_agg.py:238: RuntimeWarning: Glyph 44144 missing from current font.\n",
      "  font.set_text(s, 0.0, flags=flags)\n",
      "/opt/conda/lib/python3.7/site-packages/matplotlib/backends/backend_agg.py:238: RuntimeWarning: Glyph 44032 missing from current font.\n",
      "  font.set_text(s, 0.0, flags=flags)\n",
      "/opt/conda/lib/python3.7/site-packages/matplotlib/backends/backend_agg.py:238: RuntimeWarning: Glyph 44592 missing from current font.\n",
      "  font.set_text(s, 0.0, flags=flags)\n",
      "/opt/conda/lib/python3.7/site-packages/matplotlib/backends/backend_agg.py:238: RuntimeWarning: Glyph 53440 missing from current font.\n",
      "  font.set_text(s, 0.0, flags=flags)\n",
      "/opt/conda/lib/python3.7/site-packages/matplotlib/backends/backend_agg.py:238: RuntimeWarning: Glyph 52828 missing from current font.\n",
      "  font.set_text(s, 0.0, flags=flags)\n",
      "/opt/conda/lib/python3.7/site-packages/matplotlib/backends/backend_agg.py:238: RuntimeWarning: Glyph 51313 missing from current font.\n",
      "  font.set_text(s, 0.0, flags=flags)\n",
      "/opt/conda/lib/python3.7/site-packages/matplotlib/backends/backend_agg.py:238: RuntimeWarning: Glyph 51068 missing from current font.\n",
      "  font.set_text(s, 0.0, flags=flags)\n",
      "/opt/conda/lib/python3.7/site-packages/matplotlib/backends/backend_agg.py:238: RuntimeWarning: Glyph 48176 missing from current font.\n",
      "  font.set_text(s, 0.0, flags=flags)\n",
      "/opt/conda/lib/python3.7/site-packages/matplotlib/backends/backend_agg.py:238: RuntimeWarning: Glyph 50864 missing from current font.\n",
      "  font.set_text(s, 0.0, flags=flags)\n",
      "/opt/conda/lib/python3.7/site-packages/matplotlib/backends/backend_agg.py:238: RuntimeWarning: Glyph 45376 missing from current font.\n",
      "  font.set_text(s, 0.0, flags=flags)\n",
      "/opt/conda/lib/python3.7/site-packages/matplotlib/backends/backend_agg.py:238: RuntimeWarning: Glyph 47581 missing from current font.\n",
      "  font.set_text(s, 0.0, flags=flags)\n",
      "/opt/conda/lib/python3.7/site-packages/matplotlib/backends/backend_agg.py:238: RuntimeWarning: Glyph 54644 missing from current font.\n",
      "  font.set_text(s, 0.0, flags=flags)\n",
      "/opt/conda/lib/python3.7/site-packages/matplotlib/backends/backend_agg.py:238: RuntimeWarning: Glyph 49328 missing from current font.\n",
      "  font.set_text(s, 0.0, flags=flags)\n",
      "/opt/conda/lib/python3.7/site-packages/matplotlib/backends/backend_agg.py:238: RuntimeWarning: Glyph 52285 missing from current font.\n",
      "  font.set_text(s, 0.0, flags=flags)\n",
      "/opt/conda/lib/python3.7/site-packages/matplotlib/backends/backend_agg.py:238: RuntimeWarning: Glyph 47549 missing from current font.\n",
      "  font.set_text(s, 0.0, flags=flags)\n",
      "/opt/conda/lib/python3.7/site-packages/matplotlib/backends/backend_agg.py:238: RuntimeWarning: Glyph 54616 missing from current font.\n",
      "  font.set_text(s, 0.0, flags=flags)\n",
      "/opt/conda/lib/python3.7/site-packages/matplotlib/backends/backend_agg.py:238: RuntimeWarning: Glyph 51221 missing from current font.\n",
      "  font.set_text(s, 0.0, flags=flags)\n",
      "/opt/conda/lib/python3.7/site-packages/matplotlib/backends/backend_agg.py:238: RuntimeWarning: Glyph 52824 missing from current font.\n",
      "  font.set_text(s, 0.0, flags=flags)\n",
      "/opt/conda/lib/python3.7/site-packages/matplotlib/backends/backend_agg.py:238: RuntimeWarning: Glyph 54693 missing from current font.\n",
      "  font.set_text(s, 0.0, flags=flags)\n",
      "/opt/conda/lib/python3.7/site-packages/matplotlib/backends/backend_agg.py:238: RuntimeWarning: Glyph 50857 missing from current font.\n",
      "  font.set_text(s, 0.0, flags=flags)\n",
      "/opt/conda/lib/python3.7/site-packages/matplotlib/backends/backend_agg.py:238: RuntimeWarning: Glyph 51032 missing from current font.\n",
      "  font.set_text(s, 0.0, flags=flags)\n",
      "/opt/conda/lib/python3.7/site-packages/matplotlib/backends/backend_agg.py:238: RuntimeWarning: Glyph 49688 missing from current font.\n",
      "  font.set_text(s, 0.0, flags=flags)\n",
      "/opt/conda/lib/python3.7/site-packages/matplotlib/backends/backend_agg.py:238: RuntimeWarning: Glyph 45208 missing from current font.\n",
      "  font.set_text(s, 0.0, flags=flags)\n",
      "/opt/conda/lib/python3.7/site-packages/matplotlib/backends/backend_agg.py:238: RuntimeWarning: Glyph 51060 missing from current font.\n",
      "  font.set_text(s, 0.0, flags=flags)\n",
      "/opt/conda/lib/python3.7/site-packages/matplotlib/backends/backend_agg.py:201: RuntimeWarning: Glyph 45800 missing from current font.\n",
      "  font.set_text(s, 0, flags=flags)\n",
      "/opt/conda/lib/python3.7/site-packages/matplotlib/backends/backend_agg.py:201: RuntimeWarning: Glyph 52404 missing from current font.\n",
      "  font.set_text(s, 0, flags=flags)\n",
      "/opt/conda/lib/python3.7/site-packages/matplotlib/backends/backend_agg.py:201: RuntimeWarning: Glyph 51228 missing from current font.\n",
      "  font.set_text(s, 0, flags=flags)\n",
      "/opt/conda/lib/python3.7/site-packages/matplotlib/backends/backend_agg.py:201: RuntimeWarning: Glyph 51089 missing from current font.\n",
      "  font.set_text(s, 0, flags=flags)\n",
      "/opt/conda/lib/python3.7/site-packages/matplotlib/backends/backend_agg.py:201: RuntimeWarning: Glyph 44288 missing from current font.\n",
      "  font.set_text(s, 0, flags=flags)\n",
      "/opt/conda/lib/python3.7/site-packages/matplotlib/backends/backend_agg.py:201: RuntimeWarning: Glyph 44228 missing from current font.\n",
      "  font.set_text(s, 0, flags=flags)\n",
      "/opt/conda/lib/python3.7/site-packages/matplotlib/backends/backend_agg.py:201: RuntimeWarning: Glyph 50630 missing from current font.\n",
      "  font.set_text(s, 0, flags=flags)\n",
      "/opt/conda/lib/python3.7/site-packages/matplotlib/backends/backend_agg.py:201: RuntimeWarning: Glyph 51020 missing from current font.\n",
      "  font.set_text(s, 0, flags=flags)\n",
      "/opt/conda/lib/python3.7/site-packages/matplotlib/backends/backend_agg.py:201: RuntimeWarning: Glyph 48324 missing from current font.\n",
      "  font.set_text(s, 0, flags=flags)\n",
      "/opt/conda/lib/python3.7/site-packages/matplotlib/backends/backend_agg.py:201: RuntimeWarning: Glyph 52845 missing from current font.\n",
      "  font.set_text(s, 0, flags=flags)\n",
      "/opt/conda/lib/python3.7/site-packages/matplotlib/backends/backend_agg.py:201: RuntimeWarning: Glyph 51064 missing from current font.\n",
      "  font.set_text(s, 0, flags=flags)\n",
      "/opt/conda/lib/python3.7/site-packages/matplotlib/backends/backend_agg.py:201: RuntimeWarning: Glyph 47932 missing from current font.\n",
      "  font.set_text(s, 0, flags=flags)\n",
      "/opt/conda/lib/python3.7/site-packages/matplotlib/backends/backend_agg.py:201: RuntimeWarning: Glyph 51649 missing from current font.\n",
      "  font.set_text(s, 0, flags=flags)\n",
      "/opt/conda/lib/python3.7/site-packages/matplotlib/backends/backend_agg.py:201: RuntimeWarning: Glyph 50629 missing from current font.\n",
      "  font.set_text(s, 0, flags=flags)\n",
      "/opt/conda/lib/python3.7/site-packages/matplotlib/backends/backend_agg.py:201: RuntimeWarning: Glyph 54632 missing from current font.\n",
      "  font.set_text(s, 0, flags=flags)\n",
      "/opt/conda/lib/python3.7/site-packages/matplotlib/backends/backend_agg.py:201: RuntimeWarning: Glyph 48512 missing from current font.\n",
      "  font.set_text(s, 0, flags=flags)\n",
      "/opt/conda/lib/python3.7/site-packages/matplotlib/backends/backend_agg.py:201: RuntimeWarning: Glyph 47784 missing from current font.\n",
      "  font.set_text(s, 0, flags=flags)\n",
      "/opt/conda/lib/python3.7/site-packages/matplotlib/backends/backend_agg.py:201: RuntimeWarning: Glyph 45784 missing from current font.\n",
      "  font.set_text(s, 0, flags=flags)\n",
      "/opt/conda/lib/python3.7/site-packages/matplotlib/backends/backend_agg.py:201: RuntimeWarning: Glyph 54924 missing from current font.\n",
      "  font.set_text(s, 0, flags=flags)\n",
      "/opt/conda/lib/python3.7/site-packages/matplotlib/backends/backend_agg.py:201: RuntimeWarning: Glyph 49324 missing from current font.\n",
      "  font.set_text(s, 0, flags=flags)\n",
      "/opt/conda/lib/python3.7/site-packages/matplotlib/backends/backend_agg.py:201: RuntimeWarning: Glyph 44396 missing from current font.\n",
      "  font.set_text(s, 0, flags=flags)\n",
      "/opt/conda/lib/python3.7/site-packages/matplotlib/backends/backend_agg.py:201: RuntimeWarning: Glyph 49457 missing from current font.\n",
      "  font.set_text(s, 0, flags=flags)\n",
      "/opt/conda/lib/python3.7/site-packages/matplotlib/backends/backend_agg.py:201: RuntimeWarning: Glyph 50896 missing from current font.\n",
      "  font.set_text(s, 0, flags=flags)\n",
      "/opt/conda/lib/python3.7/site-packages/matplotlib/backends/backend_agg.py:201: RuntimeWarning: Glyph 49548 missing from current font.\n",
      "  font.set_text(s, 0, flags=flags)\n",
      "/opt/conda/lib/python3.7/site-packages/matplotlib/backends/backend_agg.py:201: RuntimeWarning: Glyph 49549 missing from current font.\n",
      "  font.set_text(s, 0, flags=flags)\n",
      "/opt/conda/lib/python3.7/site-packages/matplotlib/backends/backend_agg.py:201: RuntimeWarning: Glyph 48376 missing from current font.\n",
      "  font.set_text(s, 0, flags=flags)\n",
      "/opt/conda/lib/python3.7/site-packages/matplotlib/backends/backend_agg.py:201: RuntimeWarning: Glyph 51452 missing from current font.\n",
      "  font.set_text(s, 0, flags=flags)\n",
      "/opt/conda/lib/python3.7/site-packages/matplotlib/backends/backend_agg.py:201: RuntimeWarning: Glyph 46020 missing from current font.\n",
      "  font.set_text(s, 0, flags=flags)\n",
      "/opt/conda/lib/python3.7/site-packages/matplotlib/backends/backend_agg.py:201: RuntimeWarning: Glyph 52636 missing from current font.\n",
      "  font.set_text(s, 0, flags=flags)\n",
      "/opt/conda/lib/python3.7/site-packages/matplotlib/backends/backend_agg.py:201: RuntimeWarning: Glyph 49888 missing from current font.\n",
      "  font.set_text(s, 0, flags=flags)\n",
      "/opt/conda/lib/python3.7/site-packages/matplotlib/backends/backend_agg.py:201: RuntimeWarning: Glyph 48516 missing from current font.\n",
      "  font.set_text(s, 0, flags=flags)\n",
      "/opt/conda/lib/python3.7/site-packages/matplotlib/backends/backend_agg.py:201: RuntimeWarning: Glyph 44397 missing from current font.\n",
      "  font.set_text(s, 0, flags=flags)\n",
      "/opt/conda/lib/python3.7/site-packages/matplotlib/backends/backend_agg.py:201: RuntimeWarning: Glyph 51201 missing from current font.\n",
      "  font.set_text(s, 0, flags=flags)\n",
      "/opt/conda/lib/python3.7/site-packages/matplotlib/backends/backend_agg.py:201: RuntimeWarning: Glyph 49345 missing from current font.\n",
      "  font.set_text(s, 0, flags=flags)\n",
      "/opt/conda/lib/python3.7/site-packages/matplotlib/backends/backend_agg.py:201: RuntimeWarning: Glyph 50948 missing from current font.\n",
      "  font.set_text(s, 0, flags=flags)\n",
      "/opt/conda/lib/python3.7/site-packages/matplotlib/backends/backend_agg.py:201: RuntimeWarning: Glyph 46041 missing from current font.\n",
      "  font.set_text(s, 0, flags=flags)\n",
      "/opt/conda/lib/python3.7/site-packages/matplotlib/backends/backend_agg.py:201: RuntimeWarning: Glyph 47308 missing from current font.\n",
      "  font.set_text(s, 0, flags=flags)\n",
      "/opt/conda/lib/python3.7/site-packages/matplotlib/backends/backend_agg.py:201: RuntimeWarning: Glyph 54805 missing from current font.\n",
      "  font.set_text(s, 0, flags=flags)\n",
      "/opt/conda/lib/python3.7/site-packages/matplotlib/backends/backend_agg.py:201: RuntimeWarning: Glyph 51088 missing from current font.\n",
      "  font.set_text(s, 0, flags=flags)\n",
      "/opt/conda/lib/python3.7/site-packages/matplotlib/backends/backend_agg.py:201: RuntimeWarning: Glyph 47588 missing from current font.\n",
      "  font.set_text(s, 0, flags=flags)\n",
      "/opt/conda/lib/python3.7/site-packages/matplotlib/backends/backend_agg.py:201: RuntimeWarning: Glyph 45224 missing from current font.\n",
      "  font.set_text(s, 0, flags=flags)\n",
      "/opt/conda/lib/python3.7/site-packages/matplotlib/backends/backend_agg.py:201: RuntimeWarning: Glyph 54617 missing from current font.\n",
      "  font.set_text(s, 0, flags=flags)\n",
      "/opt/conda/lib/python3.7/site-packages/matplotlib/backends/backend_agg.py:201: RuntimeWarning: Glyph 44368 missing from current font.\n",
      "  font.set_text(s, 0, flags=flags)\n",
      "/opt/conda/lib/python3.7/site-packages/matplotlib/backends/backend_agg.py:201: RuntimeWarning: Glyph 49373 missing from current font.\n",
      "  font.set_text(s, 0, flags=flags)\n",
      "/opt/conda/lib/python3.7/site-packages/matplotlib/backends/backend_agg.py:201: RuntimeWarning: Glyph 49884 missing from current font.\n",
      "  font.set_text(s, 0, flags=flags)\n",
      "/opt/conda/lib/python3.7/site-packages/matplotlib/backends/backend_agg.py:201: RuntimeWarning: Glyph 51333 missing from current font.\n",
      "  font.set_text(s, 0, flags=flags)\n",
      "/opt/conda/lib/python3.7/site-packages/matplotlib/backends/backend_agg.py:201: RuntimeWarning: Glyph 44144 missing from current font.\n",
      "  font.set_text(s, 0, flags=flags)\n",
      "/opt/conda/lib/python3.7/site-packages/matplotlib/backends/backend_agg.py:201: RuntimeWarning: Glyph 44032 missing from current font.\n",
      "  font.set_text(s, 0, flags=flags)\n",
      "/opt/conda/lib/python3.7/site-packages/matplotlib/backends/backend_agg.py:201: RuntimeWarning: Glyph 44592 missing from current font.\n",
      "  font.set_text(s, 0, flags=flags)\n",
      "/opt/conda/lib/python3.7/site-packages/matplotlib/backends/backend_agg.py:201: RuntimeWarning: Glyph 53440 missing from current font.\n",
      "  font.set_text(s, 0, flags=flags)\n",
      "/opt/conda/lib/python3.7/site-packages/matplotlib/backends/backend_agg.py:201: RuntimeWarning: Glyph 52828 missing from current font.\n",
      "  font.set_text(s, 0, flags=flags)\n",
      "/opt/conda/lib/python3.7/site-packages/matplotlib/backends/backend_agg.py:201: RuntimeWarning: Glyph 51313 missing from current font.\n",
      "  font.set_text(s, 0, flags=flags)\n",
      "/opt/conda/lib/python3.7/site-packages/matplotlib/backends/backend_agg.py:201: RuntimeWarning: Glyph 51068 missing from current font.\n",
      "  font.set_text(s, 0, flags=flags)\n",
      "/opt/conda/lib/python3.7/site-packages/matplotlib/backends/backend_agg.py:201: RuntimeWarning: Glyph 48176 missing from current font.\n",
      "  font.set_text(s, 0, flags=flags)\n",
      "/opt/conda/lib/python3.7/site-packages/matplotlib/backends/backend_agg.py:201: RuntimeWarning: Glyph 50864 missing from current font.\n",
      "  font.set_text(s, 0, flags=flags)\n",
      "/opt/conda/lib/python3.7/site-packages/matplotlib/backends/backend_agg.py:201: RuntimeWarning: Glyph 45376 missing from current font.\n",
      "  font.set_text(s, 0, flags=flags)\n",
      "/opt/conda/lib/python3.7/site-packages/matplotlib/backends/backend_agg.py:201: RuntimeWarning: Glyph 47581 missing from current font.\n",
      "  font.set_text(s, 0, flags=flags)\n",
      "/opt/conda/lib/python3.7/site-packages/matplotlib/backends/backend_agg.py:201: RuntimeWarning: Glyph 54644 missing from current font.\n",
      "  font.set_text(s, 0, flags=flags)\n",
      "/opt/conda/lib/python3.7/site-packages/matplotlib/backends/backend_agg.py:201: RuntimeWarning: Glyph 49328 missing from current font.\n",
      "  font.set_text(s, 0, flags=flags)\n",
      "/opt/conda/lib/python3.7/site-packages/matplotlib/backends/backend_agg.py:201: RuntimeWarning: Glyph 52285 missing from current font.\n",
      "  font.set_text(s, 0, flags=flags)\n",
      "/opt/conda/lib/python3.7/site-packages/matplotlib/backends/backend_agg.py:201: RuntimeWarning: Glyph 47549 missing from current font.\n",
      "  font.set_text(s, 0, flags=flags)\n",
      "/opt/conda/lib/python3.7/site-packages/matplotlib/backends/backend_agg.py:201: RuntimeWarning: Glyph 54616 missing from current font.\n",
      "  font.set_text(s, 0, flags=flags)\n",
      "/opt/conda/lib/python3.7/site-packages/matplotlib/backends/backend_agg.py:201: RuntimeWarning: Glyph 51221 missing from current font.\n",
      "  font.set_text(s, 0, flags=flags)\n",
      "/opt/conda/lib/python3.7/site-packages/matplotlib/backends/backend_agg.py:201: RuntimeWarning: Glyph 52824 missing from current font.\n",
      "  font.set_text(s, 0, flags=flags)\n",
      "/opt/conda/lib/python3.7/site-packages/matplotlib/backends/backend_agg.py:201: RuntimeWarning: Glyph 54693 missing from current font.\n",
      "  font.set_text(s, 0, flags=flags)\n",
      "/opt/conda/lib/python3.7/site-packages/matplotlib/backends/backend_agg.py:201: RuntimeWarning: Glyph 50857 missing from current font.\n",
      "  font.set_text(s, 0, flags=flags)\n",
      "/opt/conda/lib/python3.7/site-packages/matplotlib/backends/backend_agg.py:201: RuntimeWarning: Glyph 51032 missing from current font.\n",
      "  font.set_text(s, 0, flags=flags)\n",
      "/opt/conda/lib/python3.7/site-packages/matplotlib/backends/backend_agg.py:201: RuntimeWarning: Glyph 49688 missing from current font.\n",
      "  font.set_text(s, 0, flags=flags)\n",
      "/opt/conda/lib/python3.7/site-packages/matplotlib/backends/backend_agg.py:201: RuntimeWarning: Glyph 45208 missing from current font.\n",
      "  font.set_text(s, 0, flags=flags)\n",
      "/opt/conda/lib/python3.7/site-packages/matplotlib/backends/backend_agg.py:201: RuntimeWarning: Glyph 51060 missing from current font.\n",
      "  font.set_text(s, 0, flags=flags)\n"
     ]
    },
    {
     "output_type": "display_data",
     "data": {
      "text/plain": "<Figure size 1080x1080 with 1 Axes>",
      "image/svg+xml": "<?xml version=\"1.0\" encoding=\"utf-8\" standalone=\"no\"?>\n<!DOCTYPE svg PUBLIC \"-//W3C//DTD SVG 1.1//EN\"\n  \"http://www.w3.org/Graphics/SVG/1.1/DTD/svg11.dtd\">\n<!-- Created with matplotlib (https://matplotlib.org/) -->\n<svg height=\"860.423437pt\" version=\"1.1\" viewBox=\"0 0 909.752902 860.423437\" width=\"909.752902pt\" xmlns=\"http://www.w3.org/2000/svg\" xmlns:xlink=\"http://www.w3.org/1999/xlink\">\n <metadata>\n  <rdf:RDF xmlns:cc=\"http://creativecommons.org/ns#\" xmlns:dc=\"http://purl.org/dc/elements/1.1/\" xmlns:rdf=\"http://www.w3.org/1999/02/22-rdf-syntax-ns#\">\n   <cc:Work>\n    <dc:type rdf:resource=\"http://purl.org/dc/dcmitype/StillImage\"/>\n    <dc:date>2021-04-14T06:32:09.738239</dc:date>\n    <dc:format>image/svg+xml</dc:format>\n    <dc:creator>\n     <cc:Agent>\n      <dc:title>Matplotlib v3.3.4, https://matplotlib.org/</dc:title>\n     </cc:Agent>\n    </dc:creator>\n   </cc:Work>\n  </rdf:RDF>\n </metadata>\n <defs>\n  <style type=\"text/css\">*{stroke-linecap:butt;stroke-linejoin:round;}</style>\n </defs>\n <g id=\"figure_1\">\n  <g id=\"patch_1\">\n   <path d=\"M 0 860.423437 \nL 909.752902 860.423437 \nL 909.752902 0 \nL 0 0 \nz\n\" style=\"fill:none;\"/>\n  </g>\n  <g id=\"axes_1\">\n   <g id=\"patch_2\">\n    <path d=\"M 53.328125 822.6 \nL 890.328125 822.6 \nL 890.328125 7.2 \nL 53.328125 7.2 \nz\n\" style=\"fill:#ffffff;\"/>\n   </g>\n   <g id=\"patch_3\">\n    <path clip-path=\"url(#p24fd4a039a)\" d=\"M 55.320982 822.6 \nL 71.263839 822.6 \nL 71.263839 792.637519 \nL 55.320982 792.637519 \nz\n\" style=\"fill:#ea96a3;\"/>\n   </g>\n   <g id=\"patch_4\">\n    <path clip-path=\"url(#p24fd4a039a)\" d=\"M 75.249554 822.6 \nL 91.192411 822.6 \nL 91.192411 46.028571 \nL 75.249554 46.028571 \nz\n\" style=\"fill:#ea9797;\"/>\n   </g>\n   <g id=\"patch_5\">\n    <path clip-path=\"url(#p24fd4a039a)\" d=\"M 95.178125 822.6 \nL 111.120982 822.6 \nL 111.120982 782.124368 \nL 95.178125 782.124368 \nz\n\" style=\"fill:#e89685;\"/>\n   </g>\n   <g id=\"patch_6\">\n    <path clip-path=\"url(#p24fd4a039a)\" d=\"M 115.106696 822.6 \nL 131.049554 822.6 \nL 131.049554 725.703791 \nL 115.106696 725.703791 \nz\n\" style=\"fill:#e4946a;\"/>\n   </g>\n   <g id=\"patch_7\">\n    <path clip-path=\"url(#p24fd4a039a)\" d=\"M 135.035268 822.6 \nL 150.978125 822.6 \nL 150.978125 793.864054 \nL 135.035268 793.864054 \nz\n\" style=\"fill:#da934e;\"/>\n   </g>\n   <g id=\"patch_8\">\n    <path clip-path=\"url(#p24fd4a039a)\" d=\"M 154.963839 822.6 \nL 170.906696 822.6 \nL 170.906696 814.890356 \nL 154.963839 814.890356 \nz\n\" style=\"fill:#cd974c;\"/>\n   </g>\n   <g id=\"patch_9\">\n    <path clip-path=\"url(#p24fd4a039a)\" d=\"M 174.892411 822.6 \nL 190.835268 822.6 \nL 190.835268 679.796364 \nL 174.892411 679.796364 \nz\n\" style=\"fill:#c29a4b;\"/>\n   </g>\n   <g id=\"patch_10\">\n    <path clip-path=\"url(#p24fd4a039a)\" d=\"M 194.820982 822.6 \nL 210.763839 822.6 \nL 210.763839 702.925297 \nL 194.820982 702.925297 \nz\n\" style=\"fill:#b89c49;\"/>\n   </g>\n   <g id=\"patch_11\">\n    <path clip-path=\"url(#p24fd4a039a)\" d=\"M 214.749554 822.6 \nL 230.692411 822.6 \nL 230.692411 818.569959 \nL 214.749554 818.569959 \nz\n\" style=\"fill:#af9d48;\"/>\n   </g>\n   <g id=\"patch_12\">\n    <path clip-path=\"url(#p24fd4a039a)\" d=\"M 234.678125 822.6 \nL 250.620982 822.6 \nL 250.620982 785.97919 \nL 234.678125 785.97919 \nz\n\" style=\"fill:#a69f46;\"/>\n   </g>\n   <g id=\"patch_13\">\n    <path clip-path=\"url(#p24fd4a039a)\" d=\"M 254.606696 822.6 \nL 270.549554 822.6 \nL 270.549554 763.901573 \nL 254.606696 763.901573 \nz\n\" style=\"fill:#9ca145;\"/>\n   </g>\n   <g id=\"patch_14\">\n    <path clip-path=\"url(#p24fd4a039a)\" d=\"M 274.535268 822.6 \nL 290.478125 822.6 \nL 290.478125 790.009232 \nL 274.535268 790.009232 \nz\n\" style=\"fill:#93a446;\"/>\n   </g>\n   <g id=\"patch_15\">\n    <path clip-path=\"url(#p24fd4a039a)\" d=\"M 294.463839 822.6 \nL 310.406696 822.6 \nL 310.406696 813.488602 \nL 294.463839 813.488602 \nz\n\" style=\"fill:#88a746;\"/>\n   </g>\n   <g id=\"patch_16\">\n    <path clip-path=\"url(#p24fd4a039a)\" d=\"M 314.392411 822.6 \nL 330.335268 822.6 \nL 330.335268 821.023027 \nL 314.392411 821.023027 \nz\n\" style=\"fill:#78aa47;\"/>\n   </g>\n   <g id=\"patch_17\">\n    <path clip-path=\"url(#p24fd4a039a)\" d=\"M 334.320982 822.6 \nL 350.263839 822.6 \nL 350.263839 821.899123 \nL 334.320982 821.899123 \nz\n\" style=\"fill:#60ae47;\"/>\n   </g>\n   <g id=\"patch_18\">\n    <path clip-path=\"url(#p24fd4a039a)\" d=\"M 354.249554 822.6 \nL 370.192411 822.6 \nL 370.192411 819.971712 \nL 354.249554 819.971712 \nz\n\" style=\"fill:#48b05e;\"/>\n   </g>\n   <g id=\"patch_19\">\n    <path clip-path=\"url(#p24fd4a039a)\" d=\"M 374.178125 822.6 \nL 390.120982 822.6 \nL 390.120982 820.672589 \nL 374.178125 820.672589 \nz\n\" style=\"fill:#49af77;\"/>\n   </g>\n   <g id=\"patch_20\">\n    <path clip-path=\"url(#p24fd4a039a)\" d=\"M 394.106696 822.6 \nL 410.049554 822.6 \nL 410.049554 817.869082 \nL 394.106696 817.869082 \nz\n\" style=\"fill:#49ae85;\"/>\n   </g>\n   <g id=\"patch_21\">\n    <path clip-path=\"url(#p24fd4a039a)\" d=\"M 414.035268 822.6 \nL 429.978125 822.6 \nL 429.978125 820.49737 \nL 414.035268 820.49737 \nz\n\" style=\"fill:#4aad8f;\"/>\n   </g>\n   <g id=\"patch_22\">\n    <path clip-path=\"url(#p24fd4a039a)\" d=\"M 433.963839 822.6 \nL 449.906696 822.6 \nL 449.906696 812.437287 \nL 433.963839 812.437287 \nz\n\" style=\"fill:#4aac97;\"/>\n   </g>\n   <g id=\"patch_23\">\n    <path clip-path=\"url(#p24fd4a039a)\" d=\"M 453.892411 822.6 \nL 469.835268 822.6 \nL 469.835268 802.449794 \nL 453.892411 802.449794 \nz\n\" style=\"fill:#4bac9e;\"/>\n   </g>\n   <g id=\"patch_24\">\n    <path clip-path=\"url(#p24fd4a039a)\" d=\"M 473.820982 822.6 \nL 489.763839 822.6 \nL 489.763839 816.292109 \nL 473.820982 816.292109 \nz\n\" style=\"fill:#4baba4;\"/>\n   </g>\n   <g id=\"patch_25\">\n    <path clip-path=\"url(#p24fd4a039a)\" d=\"M 493.749554 822.6 \nL 509.692411 822.6 \nL 509.692411 806.479835 \nL 493.749554 806.479835 \nz\n\" style=\"fill:#4babaa;\"/>\n   </g>\n   <g id=\"patch_26\">\n    <path clip-path=\"url(#p24fd4a039a)\" d=\"M 513.678125 822.6 \nL 529.620982 822.6 \nL 529.620982 798.94541 \nL 513.678125 798.94541 \nz\n\" style=\"fill:#4dabb1;\"/>\n   </g>\n   <g id=\"patch_27\">\n    <path clip-path=\"url(#p24fd4a039a)\" d=\"M 533.606696 822.6 \nL 549.549554 822.6 \nL 549.549554 804.552424 \nL 533.606696 804.552424 \nz\n\" style=\"fill:#4eabb8;\"/>\n   </g>\n   <g id=\"patch_28\">\n    <path clip-path=\"url(#p24fd4a039a)\" d=\"M 553.535268 822.6 \nL 569.478125 822.6 \nL 569.478125 812.787726 \nL 553.535268 812.787726 \nz\n\" style=\"fill:#50acc1;\"/>\n   </g>\n   <g id=\"patch_29\">\n    <path clip-path=\"url(#p24fd4a039a)\" d=\"M 573.463839 822.6 \nL 589.406696 822.6 \nL 589.406696 807.881588 \nL 573.463839 807.881588 \nz\n\" style=\"fill:#52acca;\"/>\n   </g>\n   <g id=\"patch_30\">\n    <path clip-path=\"url(#p24fd4a039a)\" d=\"M 593.392411 822.6 \nL 609.335268 822.6 \nL 609.335268 814.715137 \nL 593.392411 814.715137 \nz\n\" style=\"fill:#55acd7;\"/>\n   </g>\n   <g id=\"patch_31\">\n    <path clip-path=\"url(#p24fd4a039a)\" d=\"M 613.320982 822.6 \nL 629.263839 822.6 \nL 629.263839 819.971712 \nL 613.320982 819.971712 \nz\n\" style=\"fill:#6daee2;\"/>\n   </g>\n   <g id=\"patch_32\">\n    <path clip-path=\"url(#p24fd4a039a)\" d=\"M 633.249554 822.6 \nL 649.192411 822.6 \nL 649.192411 810.860315 \nL 633.249554 810.860315 \nz\n\" style=\"fill:#8baee7;\"/>\n   </g>\n   <g id=\"patch_33\">\n    <path clip-path=\"url(#p24fd4a039a)\" d=\"M 653.178125 822.6 \nL 669.120982 822.6 \nL 669.120982 814.715137 \nL 653.178125 814.715137 \nz\n\" style=\"fill:#a0adea;\"/>\n   </g>\n   <g id=\"patch_34\">\n    <path clip-path=\"url(#p24fd4a039a)\" d=\"M 673.106696 822.6 \nL 689.049554 822.6 \nL 689.049554 808.757684 \nL 673.106696 808.757684 \nz\n\" style=\"fill:#b0aaeb;\"/>\n   </g>\n   <g id=\"patch_35\">\n    <path clip-path=\"url(#p24fd4a039a)\" d=\"M 693.035268 822.6 \nL 708.978125 822.6 \nL 708.978125 818.044301 \nL 693.035268 818.044301 \nz\n\" style=\"fill:#bca5ea;\"/>\n   </g>\n   <g id=\"patch_36\">\n    <path clip-path=\"url(#p24fd4a039a)\" d=\"M 712.963839 822.6 \nL 728.906696 822.6 \nL 728.906696 821.373466 \nL 712.963839 821.373466 \nz\n\" style=\"fill:#c79fe9;\"/>\n   </g>\n   <g id=\"patch_37\">\n    <path clip-path=\"url(#p24fd4a039a)\" d=\"M 732.892411 822.6 \nL 748.835268 822.6 \nL 748.835268 819.446055 \nL 732.892411 819.446055 \nz\n\" style=\"fill:#d398e8;\"/>\n   </g>\n   <g id=\"patch_38\">\n    <path clip-path=\"url(#p24fd4a039a)\" d=\"M 752.820982 822.6 \nL 768.763839 822.6 \nL 768.763839 821.198247 \nL 752.820982 821.198247 \nz\n\" style=\"fill:#df8fe7;\"/>\n   </g>\n   <g id=\"patch_39\">\n    <path clip-path=\"url(#p24fd4a039a)\" d=\"M 772.749554 822.6 \nL 788.692411 822.6 \nL 788.692411 821.548685 \nL 772.749554 821.548685 \nz\n\" style=\"fill:#e78ae0;\"/>\n   </g>\n   <g id=\"patch_40\">\n    <path clip-path=\"url(#p24fd4a039a)\" d=\"M 792.678125 822.6 \nL 808.620982 822.6 \nL 808.620982 822.074342 \nL 792.678125 822.074342 \nz\n\" style=\"fill:#e78dd5;\"/>\n   </g>\n   <g id=\"patch_41\">\n    <path clip-path=\"url(#p24fd4a039a)\" d=\"M 812.606696 822.6 \nL 828.549554 822.6 \nL 828.549554 820.672589 \nL 812.606696 820.672589 \nz\n\" style=\"fill:#e88fca;\"/>\n   </g>\n   <g id=\"patch_42\">\n    <path clip-path=\"url(#p24fd4a039a)\" d=\"M 832.535268 822.6 \nL 848.478125 822.6 \nL 848.478125 821.023027 \nL 832.535268 821.023027 \nz\n\" style=\"fill:#e891c1;\"/>\n   </g>\n   <g id=\"patch_43\">\n    <path clip-path=\"url(#p24fd4a039a)\" d=\"M 852.463839 822.6 \nL 868.406696 822.6 \nL 868.406696 821.723904 \nL 852.463839 821.723904 \nz\n\" style=\"fill:#e993b8;\"/>\n   </g>\n   <g id=\"patch_44\">\n    <path clip-path=\"url(#p24fd4a039a)\" d=\"M 872.392411 822.6 \nL 888.335268 822.6 \nL 888.335268 822.424781 \nL 872.392411 822.424781 \nz\n\" style=\"fill:#e994af;\"/>\n   </g>\n   <g id=\"matplotlib.axis_1\">\n    <g id=\"xtick_1\">\n     <g id=\"line2d_1\">\n      <defs>\n       <path d=\"M 0 0 \nL 0 3.5 \n\" id=\"m5b674ea9f0\" style=\"stroke:#000000;stroke-width:0.8;\"/>\n      </defs>\n      <g>\n       <use style=\"stroke:#000000;stroke-width:0.8;\" x=\"63.292411\" xlink:href=\"#m5b674ea9f0\" y=\"822.6\"/>\n      </g>\n     </g>\n     <g id=\"text_1\">\n      <!-- 단체:제작 -->\n      <g transform=\"translate(49.604911 837.198437)scale(0.1 -0.1)\">\n       <defs>\n        <path d=\"M 4.984375 -17.671875 \nL 4.984375 70.515625 \nL 54.984375 70.515625 \nL 54.984375 -17.671875 \nz\nM 10.59375 -12.109375 \nL 49.421875 -12.109375 \nL 49.421875 64.890625 \nL 10.59375 64.890625 \nz\n\" id=\"DejaVuSans-45800\"/>\n        <path d=\"M 4.984375 -17.671875 \nL 4.984375 70.515625 \nL 54.984375 70.515625 \nL 54.984375 -17.671875 \nz\nM 10.59375 -12.109375 \nL 49.421875 -12.109375 \nL 49.421875 64.890625 \nL 10.59375 64.890625 \nz\n\" id=\"DejaVuSans-52404\"/>\n        <path d=\"M 11.71875 12.40625 \nL 22.015625 12.40625 \nL 22.015625 0 \nL 11.71875 0 \nz\nM 11.71875 51.703125 \nL 22.015625 51.703125 \nL 22.015625 39.3125 \nL 11.71875 39.3125 \nz\n\" id=\"DejaVuSans-58\"/>\n        <path d=\"M 4.984375 -17.671875 \nL 4.984375 70.515625 \nL 54.984375 70.515625 \nL 54.984375 -17.671875 \nz\nM 10.59375 -12.109375 \nL 49.421875 -12.109375 \nL 49.421875 64.890625 \nL 10.59375 64.890625 \nz\n\" id=\"DejaVuSans-51228\"/>\n        <path d=\"M 4.984375 -17.671875 \nL 4.984375 70.515625 \nL 54.984375 70.515625 \nL 54.984375 -17.671875 \nz\nM 10.59375 -12.109375 \nL 49.421875 -12.109375 \nL 49.421875 64.890625 \nL 10.59375 64.890625 \nz\n\" id=\"DejaVuSans-51089\"/>\n       </defs>\n       <use xlink:href=\"#DejaVuSans-45800\"/>\n       <use x=\"60.009766\" xlink:href=\"#DejaVuSans-52404\"/>\n       <use x=\"120.019531\" xlink:href=\"#DejaVuSans-58\"/>\n       <use x=\"153.710938\" xlink:href=\"#DejaVuSans-51228\"/>\n       <use x=\"213.720703\" xlink:href=\"#DejaVuSans-51089\"/>\n      </g>\n     </g>\n    </g>\n    <g id=\"xtick_2\">\n     <g id=\"line2d_2\">\n      <g>\n       <use style=\"stroke:#000000;stroke-width:0.8;\" x=\"83.220982\" xlink:href=\"#m5b674ea9f0\" y=\"822.6\"/>\n      </g>\n     </g>\n     <g id=\"text_2\">\n      <!-- 관계_없음 -->\n      <g transform=\"translate(68.717857 836.920312)scale(0.1 -0.1)\">\n       <defs>\n        <path d=\"M 4.984375 -17.671875 \nL 4.984375 70.515625 \nL 54.984375 70.515625 \nL 54.984375 -17.671875 \nz\nM 10.59375 -12.109375 \nL 49.421875 -12.109375 \nL 49.421875 64.890625 \nL 10.59375 64.890625 \nz\n\" id=\"DejaVuSans-44288\"/>\n        <path d=\"M 4.984375 -17.671875 \nL 4.984375 70.515625 \nL 54.984375 70.515625 \nL 54.984375 -17.671875 \nz\nM 10.59375 -12.109375 \nL 49.421875 -12.109375 \nL 49.421875 64.890625 \nL 10.59375 64.890625 \nz\n\" id=\"DejaVuSans-44228\"/>\n        <path d=\"M 50.984375 -16.609375 \nL 50.984375 -23.578125 \nL -0.984375 -23.578125 \nL -0.984375 -16.609375 \nz\n\" id=\"DejaVuSans-95\"/>\n        <path d=\"M 4.984375 -17.671875 \nL 4.984375 70.515625 \nL 54.984375 70.515625 \nL 54.984375 -17.671875 \nz\nM 10.59375 -12.109375 \nL 49.421875 -12.109375 \nL 49.421875 64.890625 \nL 10.59375 64.890625 \nz\n\" id=\"DejaVuSans-50630\"/>\n        <path d=\"M 4.984375 -17.671875 \nL 4.984375 70.515625 \nL 54.984375 70.515625 \nL 54.984375 -17.671875 \nz\nM 10.59375 -12.109375 \nL 49.421875 -12.109375 \nL 49.421875 64.890625 \nL 10.59375 64.890625 \nz\n\" id=\"DejaVuSans-51020\"/>\n       </defs>\n       <use xlink:href=\"#DejaVuSans-44288\"/>\n       <use x=\"60.009766\" xlink:href=\"#DejaVuSans-44228\"/>\n       <use x=\"120.019531\" xlink:href=\"#DejaVuSans-95\"/>\n       <use x=\"170.019531\" xlink:href=\"#DejaVuSans-50630\"/>\n       <use x=\"230.029297\" xlink:href=\"#DejaVuSans-51020\"/>\n      </g>\n     </g>\n    </g>\n    <g id=\"xtick_3\">\n     <g id=\"line2d_3\">\n      <g>\n       <use style=\"stroke:#000000;stroke-width:0.8;\" x=\"103.149554\" xlink:href=\"#m5b674ea9f0\" y=\"822.6\"/>\n      </g>\n     </g>\n     <g id=\"text_3\">\n      <!-- 단체:별칭 -->\n      <g transform=\"translate(89.462054 837.198437)scale(0.1 -0.1)\">\n       <defs>\n        <path d=\"M 4.984375 -17.671875 \nL 4.984375 70.515625 \nL 54.984375 70.515625 \nL 54.984375 -17.671875 \nz\nM 10.59375 -12.109375 \nL 49.421875 -12.109375 \nL 49.421875 64.890625 \nL 10.59375 64.890625 \nz\n\" id=\"DejaVuSans-48324\"/>\n        <path d=\"M 4.984375 -17.671875 \nL 4.984375 70.515625 \nL 54.984375 70.515625 \nL 54.984375 -17.671875 \nz\nM 10.59375 -12.109375 \nL 49.421875 -12.109375 \nL 49.421875 64.890625 \nL 10.59375 64.890625 \nz\n\" id=\"DejaVuSans-52845\"/>\n       </defs>\n       <use xlink:href=\"#DejaVuSans-45800\"/>\n       <use x=\"60.009766\" xlink:href=\"#DejaVuSans-52404\"/>\n       <use x=\"120.019531\" xlink:href=\"#DejaVuSans-58\"/>\n       <use x=\"153.710938\" xlink:href=\"#DejaVuSans-48324\"/>\n       <use x=\"213.720703\" xlink:href=\"#DejaVuSans-52845\"/>\n      </g>\n     </g>\n    </g>\n    <g id=\"xtick_4\">\n     <g id=\"line2d_4\">\n      <g>\n       <use style=\"stroke:#000000;stroke-width:0.8;\" x=\"123.078125\" xlink:href=\"#m5b674ea9f0\" y=\"822.6\"/>\n      </g>\n     </g>\n     <g id=\"text_4\">\n      <!-- 인물:직업/직함 -->\n      <g transform=\"translate(101.704688 837.198437)scale(0.1 -0.1)\">\n       <defs>\n        <path d=\"M 4.984375 -17.671875 \nL 4.984375 70.515625 \nL 54.984375 70.515625 \nL 54.984375 -17.671875 \nz\nM 10.59375 -12.109375 \nL 49.421875 -12.109375 \nL 49.421875 64.890625 \nL 10.59375 64.890625 \nz\n\" id=\"DejaVuSans-51064\"/>\n        <path d=\"M 4.984375 -17.671875 \nL 4.984375 70.515625 \nL 54.984375 70.515625 \nL 54.984375 -17.671875 \nz\nM 10.59375 -12.109375 \nL 49.421875 -12.109375 \nL 49.421875 64.890625 \nL 10.59375 64.890625 \nz\n\" id=\"DejaVuSans-47932\"/>\n        <path d=\"M 4.984375 -17.671875 \nL 4.984375 70.515625 \nL 54.984375 70.515625 \nL 54.984375 -17.671875 \nz\nM 10.59375 -12.109375 \nL 49.421875 -12.109375 \nL 49.421875 64.890625 \nL 10.59375 64.890625 \nz\n\" id=\"DejaVuSans-51649\"/>\n        <path d=\"M 4.984375 -17.671875 \nL 4.984375 70.515625 \nL 54.984375 70.515625 \nL 54.984375 -17.671875 \nz\nM 10.59375 -12.109375 \nL 49.421875 -12.109375 \nL 49.421875 64.890625 \nL 10.59375 64.890625 \nz\n\" id=\"DejaVuSans-50629\"/>\n        <path d=\"M 25.390625 72.90625 \nL 33.6875 72.90625 \nL 8.296875 -9.28125 \nL 0 -9.28125 \nz\n\" id=\"DejaVuSans-47\"/>\n        <path d=\"M 4.984375 -17.671875 \nL 4.984375 70.515625 \nL 54.984375 70.515625 \nL 54.984375 -17.671875 \nz\nM 10.59375 -12.109375 \nL 49.421875 -12.109375 \nL 49.421875 64.890625 \nL 10.59375 64.890625 \nz\n\" id=\"DejaVuSans-54632\"/>\n       </defs>\n       <use xlink:href=\"#DejaVuSans-51064\"/>\n       <use x=\"60.009766\" xlink:href=\"#DejaVuSans-47932\"/>\n       <use x=\"120.019531\" xlink:href=\"#DejaVuSans-58\"/>\n       <use x=\"153.710938\" xlink:href=\"#DejaVuSans-51649\"/>\n       <use x=\"213.720703\" xlink:href=\"#DejaVuSans-50629\"/>\n       <use x=\"273.730469\" xlink:href=\"#DejaVuSans-47\"/>\n       <use x=\"307.421875\" xlink:href=\"#DejaVuSans-51649\"/>\n       <use x=\"367.431641\" xlink:href=\"#DejaVuSans-54632\"/>\n      </g>\n     </g>\n    </g>\n    <g id=\"xtick_5\">\n     <g id=\"line2d_5\">\n      <g>\n       <use style=\"stroke:#000000;stroke-width:0.8;\" x=\"143.006696\" xlink:href=\"#m5b674ea9f0\" y=\"822.6\"/>\n      </g>\n     </g>\n     <g id=\"text_5\">\n      <!-- 인물:부모님 -->\n      <g transform=\"translate(126.318415 837.198437)scale(0.1 -0.1)\">\n       <defs>\n        <path d=\"M 4.984375 -17.671875 \nL 4.984375 70.515625 \nL 54.984375 70.515625 \nL 54.984375 -17.671875 \nz\nM 10.59375 -12.109375 \nL 49.421875 -12.109375 \nL 49.421875 64.890625 \nL 10.59375 64.890625 \nz\n\" id=\"DejaVuSans-48512\"/>\n        <path d=\"M 4.984375 -17.671875 \nL 4.984375 70.515625 \nL 54.984375 70.515625 \nL 54.984375 -17.671875 \nz\nM 10.59375 -12.109375 \nL 49.421875 -12.109375 \nL 49.421875 64.890625 \nL 10.59375 64.890625 \nz\n\" id=\"DejaVuSans-47784\"/>\n        <path d=\"M 4.984375 -17.671875 \nL 4.984375 70.515625 \nL 54.984375 70.515625 \nL 54.984375 -17.671875 \nz\nM 10.59375 -12.109375 \nL 49.421875 -12.109375 \nL 49.421875 64.890625 \nL 10.59375 64.890625 \nz\n\" id=\"DejaVuSans-45784\"/>\n       </defs>\n       <use xlink:href=\"#DejaVuSans-51064\"/>\n       <use x=\"60.009766\" xlink:href=\"#DejaVuSans-47932\"/>\n       <use x=\"120.019531\" xlink:href=\"#DejaVuSans-58\"/>\n       <use x=\"153.710938\" xlink:href=\"#DejaVuSans-48512\"/>\n       <use x=\"213.720703\" xlink:href=\"#DejaVuSans-47784\"/>\n       <use x=\"273.730469\" xlink:href=\"#DejaVuSans-45784\"/>\n      </g>\n     </g>\n    </g>\n    <g id=\"xtick_6\">\n     <g id=\"line2d_6\">\n      <g>\n       <use style=\"stroke:#000000;stroke-width:0.8;\" x=\"162.935268\" xlink:href=\"#m5b674ea9f0\" y=\"822.6\"/>\n      </g>\n     </g>\n     <g id=\"text_6\">\n      <!-- 단체:모회사 -->\n      <g transform=\"translate(146.246987 837.198437)scale(0.1 -0.1)\">\n       <defs>\n        <path d=\"M 4.984375 -17.671875 \nL 4.984375 70.515625 \nL 54.984375 70.515625 \nL 54.984375 -17.671875 \nz\nM 10.59375 -12.109375 \nL 49.421875 -12.109375 \nL 49.421875 64.890625 \nL 10.59375 64.890625 \nz\n\" id=\"DejaVuSans-54924\"/>\n        <path d=\"M 4.984375 -17.671875 \nL 4.984375 70.515625 \nL 54.984375 70.515625 \nL 54.984375 -17.671875 \nz\nM 10.59375 -12.109375 \nL 49.421875 -12.109375 \nL 49.421875 64.890625 \nL 10.59375 64.890625 \nz\n\" id=\"DejaVuSans-49324\"/>\n       </defs>\n       <use xlink:href=\"#DejaVuSans-45800\"/>\n       <use x=\"60.009766\" xlink:href=\"#DejaVuSans-52404\"/>\n       <use x=\"120.019531\" xlink:href=\"#DejaVuSans-58\"/>\n       <use x=\"153.710938\" xlink:href=\"#DejaVuSans-47784\"/>\n       <use x=\"213.720703\" xlink:href=\"#DejaVuSans-54924\"/>\n       <use x=\"273.730469\" xlink:href=\"#DejaVuSans-49324\"/>\n      </g>\n     </g>\n    </g>\n    <g id=\"xtick_7\">\n     <g id=\"line2d_7\">\n      <g>\n       <use style=\"stroke:#000000;stroke-width:0.8;\" x=\"182.863839\" xlink:href=\"#m5b674ea9f0\" y=\"822.6\"/>\n      </g>\n     </g>\n     <g id=\"text_7\">\n      <!-- 단체:구성원 -->\n      <g transform=\"translate(166.175558 837.198437)scale(0.1 -0.1)\">\n       <defs>\n        <path d=\"M 4.984375 -17.671875 \nL 4.984375 70.515625 \nL 54.984375 70.515625 \nL 54.984375 -17.671875 \nz\nM 10.59375 -12.109375 \nL 49.421875 -12.109375 \nL 49.421875 64.890625 \nL 10.59375 64.890625 \nz\n\" id=\"DejaVuSans-44396\"/>\n        <path d=\"M 4.984375 -17.671875 \nL 4.984375 70.515625 \nL 54.984375 70.515625 \nL 54.984375 -17.671875 \nz\nM 10.59375 -12.109375 \nL 49.421875 -12.109375 \nL 49.421875 64.890625 \nL 10.59375 64.890625 \nz\n\" id=\"DejaVuSans-49457\"/>\n        <path d=\"M 4.984375 -17.671875 \nL 4.984375 70.515625 \nL 54.984375 70.515625 \nL 54.984375 -17.671875 \nz\nM 10.59375 -12.109375 \nL 49.421875 -12.109375 \nL 49.421875 64.890625 \nL 10.59375 64.890625 \nz\n\" id=\"DejaVuSans-50896\"/>\n       </defs>\n       <use xlink:href=\"#DejaVuSans-45800\"/>\n       <use x=\"60.009766\" xlink:href=\"#DejaVuSans-52404\"/>\n       <use x=\"120.019531\" xlink:href=\"#DejaVuSans-58\"/>\n       <use x=\"153.710938\" xlink:href=\"#DejaVuSans-44396\"/>\n       <use x=\"213.720703\" xlink:href=\"#DejaVuSans-49457\"/>\n       <use x=\"273.730469\" xlink:href=\"#DejaVuSans-50896\"/>\n      </g>\n     </g>\n    </g>\n    <g id=\"xtick_8\">\n     <g id=\"line2d_8\">\n      <g>\n       <use style=\"stroke:#000000;stroke-width:0.8;\" x=\"202.792411\" xlink:href=\"#m5b674ea9f0\" y=\"822.6\"/>\n      </g>\n     </g>\n     <g id=\"text_8\">\n      <!-- 인물:소속단체 -->\n      <g transform=\"translate(183.103348 837.198437)scale(0.1 -0.1)\">\n       <defs>\n        <path d=\"M 4.984375 -17.671875 \nL 4.984375 70.515625 \nL 54.984375 70.515625 \nL 54.984375 -17.671875 \nz\nM 10.59375 -12.109375 \nL 49.421875 -12.109375 \nL 49.421875 64.890625 \nL 10.59375 64.890625 \nz\n\" id=\"DejaVuSans-49548\"/>\n        <path d=\"M 4.984375 -17.671875 \nL 4.984375 70.515625 \nL 54.984375 70.515625 \nL 54.984375 -17.671875 \nz\nM 10.59375 -12.109375 \nL 49.421875 -12.109375 \nL 49.421875 64.890625 \nL 10.59375 64.890625 \nz\n\" id=\"DejaVuSans-49549\"/>\n       </defs>\n       <use xlink:href=\"#DejaVuSans-51064\"/>\n       <use x=\"60.009766\" xlink:href=\"#DejaVuSans-47932\"/>\n       <use x=\"120.019531\" xlink:href=\"#DejaVuSans-58\"/>\n       <use x=\"153.710938\" xlink:href=\"#DejaVuSans-49548\"/>\n       <use x=\"213.720703\" xlink:href=\"#DejaVuSans-49549\"/>\n       <use x=\"273.730469\" xlink:href=\"#DejaVuSans-45800\"/>\n       <use x=\"333.740234\" xlink:href=\"#DejaVuSans-52404\"/>\n      </g>\n     </g>\n    </g>\n    <g id=\"xtick_9\">\n     <g id=\"line2d_9\">\n      <g>\n       <use style=\"stroke:#000000;stroke-width:0.8;\" x=\"222.720982\" xlink:href=\"#m5b674ea9f0\" y=\"822.6\"/>\n      </g>\n     </g>\n     <g id=\"text_9\">\n      <!-- 단체:본사_주(도) -->\n      <g transform=\"translate(196.630357 837.1875)scale(0.1 -0.1)\">\n       <defs>\n        <path d=\"M 4.984375 -17.671875 \nL 4.984375 70.515625 \nL 54.984375 70.515625 \nL 54.984375 -17.671875 \nz\nM 10.59375 -12.109375 \nL 49.421875 -12.109375 \nL 49.421875 64.890625 \nL 10.59375 64.890625 \nz\n\" id=\"DejaVuSans-48376\"/>\n        <path d=\"M 4.984375 -17.671875 \nL 4.984375 70.515625 \nL 54.984375 70.515625 \nL 54.984375 -17.671875 \nz\nM 10.59375 -12.109375 \nL 49.421875 -12.109375 \nL 49.421875 64.890625 \nL 10.59375 64.890625 \nz\n\" id=\"DejaVuSans-51452\"/>\n        <path d=\"M 31 75.875 \nQ 24.46875 64.65625 21.28125 53.65625 \nQ 18.109375 42.671875 18.109375 31.390625 \nQ 18.109375 20.125 21.3125 9.0625 \nQ 24.515625 -2 31 -13.1875 \nL 23.1875 -13.1875 \nQ 15.875 -1.703125 12.234375 9.375 \nQ 8.59375 20.453125 8.59375 31.390625 \nQ 8.59375 42.28125 12.203125 53.3125 \nQ 15.828125 64.359375 23.1875 75.875 \nz\n\" id=\"DejaVuSans-40\"/>\n        <path d=\"M 4.984375 -17.671875 \nL 4.984375 70.515625 \nL 54.984375 70.515625 \nL 54.984375 -17.671875 \nz\nM 10.59375 -12.109375 \nL 49.421875 -12.109375 \nL 49.421875 64.890625 \nL 10.59375 64.890625 \nz\n\" id=\"DejaVuSans-46020\"/>\n        <path d=\"M 8.015625 75.875 \nL 15.828125 75.875 \nQ 23.140625 64.359375 26.78125 53.3125 \nQ 30.421875 42.28125 30.421875 31.390625 \nQ 30.421875 20.453125 26.78125 9.375 \nQ 23.140625 -1.703125 15.828125 -13.1875 \nL 8.015625 -13.1875 \nQ 14.5 -2 17.703125 9.0625 \nQ 20.90625 20.125 20.90625 31.390625 \nQ 20.90625 42.671875 17.703125 53.65625 \nQ 14.5 64.65625 8.015625 75.875 \nz\n\" id=\"DejaVuSans-41\"/>\n       </defs>\n       <use xlink:href=\"#DejaVuSans-45800\"/>\n       <use x=\"60.009766\" xlink:href=\"#DejaVuSans-52404\"/>\n       <use x=\"120.019531\" xlink:href=\"#DejaVuSans-58\"/>\n       <use x=\"153.710938\" xlink:href=\"#DejaVuSans-48376\"/>\n       <use x=\"213.720703\" xlink:href=\"#DejaVuSans-49324\"/>\n       <use x=\"273.730469\" xlink:href=\"#DejaVuSans-95\"/>\n       <use x=\"323.730469\" xlink:href=\"#DejaVuSans-51452\"/>\n       <use x=\"383.740234\" xlink:href=\"#DejaVuSans-40\"/>\n       <use x=\"422.753906\" xlink:href=\"#DejaVuSans-46020\"/>\n       <use x=\"482.763672\" xlink:href=\"#DejaVuSans-41\"/>\n      </g>\n     </g>\n    </g>\n    <g id=\"xtick_10\">\n     <g id=\"line2d_10\">\n      <g>\n       <use style=\"stroke:#000000;stroke-width:0.8;\" x=\"242.649554\" xlink:href=\"#m5b674ea9f0\" y=\"822.6\"/>\n      </g>\n     </g>\n     <g id=\"text_10\">\n      <!-- 인물:출신성분/국적 -->\n      <g transform=\"translate(215.274554 837.198437)scale(0.1 -0.1)\">\n       <defs>\n        <path d=\"M 4.984375 -17.671875 \nL 4.984375 70.515625 \nL 54.984375 70.515625 \nL 54.984375 -17.671875 \nz\nM 10.59375 -12.109375 \nL 49.421875 -12.109375 \nL 49.421875 64.890625 \nL 10.59375 64.890625 \nz\n\" id=\"DejaVuSans-52636\"/>\n        <path d=\"M 4.984375 -17.671875 \nL 4.984375 70.515625 \nL 54.984375 70.515625 \nL 54.984375 -17.671875 \nz\nM 10.59375 -12.109375 \nL 49.421875 -12.109375 \nL 49.421875 64.890625 \nL 10.59375 64.890625 \nz\n\" id=\"DejaVuSans-49888\"/>\n        <path d=\"M 4.984375 -17.671875 \nL 4.984375 70.515625 \nL 54.984375 70.515625 \nL 54.984375 -17.671875 \nz\nM 10.59375 -12.109375 \nL 49.421875 -12.109375 \nL 49.421875 64.890625 \nL 10.59375 64.890625 \nz\n\" id=\"DejaVuSans-48516\"/>\n        <path d=\"M 4.984375 -17.671875 \nL 4.984375 70.515625 \nL 54.984375 70.515625 \nL 54.984375 -17.671875 \nz\nM 10.59375 -12.109375 \nL 49.421875 -12.109375 \nL 49.421875 64.890625 \nL 10.59375 64.890625 \nz\n\" id=\"DejaVuSans-44397\"/>\n        <path d=\"M 4.984375 -17.671875 \nL 4.984375 70.515625 \nL 54.984375 70.515625 \nL 54.984375 -17.671875 \nz\nM 10.59375 -12.109375 \nL 49.421875 -12.109375 \nL 49.421875 64.890625 \nL 10.59375 64.890625 \nz\n\" id=\"DejaVuSans-51201\"/>\n       </defs>\n       <use xlink:href=\"#DejaVuSans-51064\"/>\n       <use x=\"60.009766\" xlink:href=\"#DejaVuSans-47932\"/>\n       <use x=\"120.019531\" xlink:href=\"#DejaVuSans-58\"/>\n       <use x=\"153.710938\" xlink:href=\"#DejaVuSans-52636\"/>\n       <use x=\"213.720703\" xlink:href=\"#DejaVuSans-49888\"/>\n       <use x=\"273.730469\" xlink:href=\"#DejaVuSans-49457\"/>\n       <use x=\"333.740234\" xlink:href=\"#DejaVuSans-48516\"/>\n       <use x=\"393.75\" xlink:href=\"#DejaVuSans-47\"/>\n       <use x=\"427.441406\" xlink:href=\"#DejaVuSans-44397\"/>\n       <use x=\"487.451172\" xlink:href=\"#DejaVuSans-51201\"/>\n      </g>\n     </g>\n    </g>\n    <g id=\"xtick_11\">\n     <g id=\"line2d_11\">\n      <g>\n       <use style=\"stroke:#000000;stroke-width:0.8;\" x=\"262.578125\" xlink:href=\"#m5b674ea9f0\" y=\"822.6\"/>\n      </g>\n     </g>\n     <g id=\"text_11\">\n      <!-- 단체:상위_단체 -->\n      <g transform=\"translate(240.389062 836.920312)scale(0.1 -0.1)\">\n       <defs>\n        <path d=\"M 4.984375 -17.671875 \nL 4.984375 70.515625 \nL 54.984375 70.515625 \nL 54.984375 -17.671875 \nz\nM 10.59375 -12.109375 \nL 49.421875 -12.109375 \nL 49.421875 64.890625 \nL 10.59375 64.890625 \nz\n\" id=\"DejaVuSans-49345\"/>\n        <path d=\"M 4.984375 -17.671875 \nL 4.984375 70.515625 \nL 54.984375 70.515625 \nL 54.984375 -17.671875 \nz\nM 10.59375 -12.109375 \nL 49.421875 -12.109375 \nL 49.421875 64.890625 \nL 10.59375 64.890625 \nz\n\" id=\"DejaVuSans-50948\"/>\n       </defs>\n       <use xlink:href=\"#DejaVuSans-45800\"/>\n       <use x=\"60.009766\" xlink:href=\"#DejaVuSans-52404\"/>\n       <use x=\"120.019531\" xlink:href=\"#DejaVuSans-58\"/>\n       <use x=\"153.710938\" xlink:href=\"#DejaVuSans-49345\"/>\n       <use x=\"213.720703\" xlink:href=\"#DejaVuSans-50948\"/>\n       <use x=\"273.730469\" xlink:href=\"#DejaVuSans-95\"/>\n       <use x=\"323.730469\" xlink:href=\"#DejaVuSans-45800\"/>\n       <use x=\"383.740234\" xlink:href=\"#DejaVuSans-52404\"/>\n      </g>\n     </g>\n    </g>\n    <g id=\"xtick_12\">\n     <g id=\"line2d_12\">\n      <g>\n       <use style=\"stroke:#000000;stroke-width:0.8;\" x=\"282.506696\" xlink:href=\"#m5b674ea9f0\" y=\"822.6\"/>\n      </g>\n     </g>\n     <g id=\"text_12\">\n      <!-- 인물:동료 -->\n      <g transform=\"translate(268.819196 837.198437)scale(0.1 -0.1)\">\n       <defs>\n        <path d=\"M 4.984375 -17.671875 \nL 4.984375 70.515625 \nL 54.984375 70.515625 \nL 54.984375 -17.671875 \nz\nM 10.59375 -12.109375 \nL 49.421875 -12.109375 \nL 49.421875 64.890625 \nL 10.59375 64.890625 \nz\n\" id=\"DejaVuSans-46041\"/>\n        <path d=\"M 4.984375 -17.671875 \nL 4.984375 70.515625 \nL 54.984375 70.515625 \nL 54.984375 -17.671875 \nz\nM 10.59375 -12.109375 \nL 49.421875 -12.109375 \nL 49.421875 64.890625 \nL 10.59375 64.890625 \nz\n\" id=\"DejaVuSans-47308\"/>\n       </defs>\n       <use xlink:href=\"#DejaVuSans-51064\"/>\n       <use x=\"60.009766\" xlink:href=\"#DejaVuSans-47932\"/>\n       <use x=\"120.019531\" xlink:href=\"#DejaVuSans-58\"/>\n       <use x=\"153.710938\" xlink:href=\"#DejaVuSans-46041\"/>\n       <use x=\"213.720703\" xlink:href=\"#DejaVuSans-47308\"/>\n      </g>\n     </g>\n    </g>\n    <g id=\"xtick_13\">\n     <g id=\"line2d_13\">\n      <g>\n       <use style=\"stroke:#000000;stroke-width:0.8;\" x=\"302.435268\" xlink:href=\"#m5b674ea9f0\" y=\"822.6\"/>\n      </g>\n     </g>\n     <g id=\"text_13\">\n      <!-- 인물:형제/자매/남매 -->\n      <g transform=\"translate(273.375893 837.198437)scale(0.1 -0.1)\">\n       <defs>\n        <path d=\"M 4.984375 -17.671875 \nL 4.984375 70.515625 \nL 54.984375 70.515625 \nL 54.984375 -17.671875 \nz\nM 10.59375 -12.109375 \nL 49.421875 -12.109375 \nL 49.421875 64.890625 \nL 10.59375 64.890625 \nz\n\" id=\"DejaVuSans-54805\"/>\n        <path d=\"M 4.984375 -17.671875 \nL 4.984375 70.515625 \nL 54.984375 70.515625 \nL 54.984375 -17.671875 \nz\nM 10.59375 -12.109375 \nL 49.421875 -12.109375 \nL 49.421875 64.890625 \nL 10.59375 64.890625 \nz\n\" id=\"DejaVuSans-51088\"/>\n        <path d=\"M 4.984375 -17.671875 \nL 4.984375 70.515625 \nL 54.984375 70.515625 \nL 54.984375 -17.671875 \nz\nM 10.59375 -12.109375 \nL 49.421875 -12.109375 \nL 49.421875 64.890625 \nL 10.59375 64.890625 \nz\n\" id=\"DejaVuSans-47588\"/>\n        <path d=\"M 4.984375 -17.671875 \nL 4.984375 70.515625 \nL 54.984375 70.515625 \nL 54.984375 -17.671875 \nz\nM 10.59375 -12.109375 \nL 49.421875 -12.109375 \nL 49.421875 64.890625 \nL 10.59375 64.890625 \nz\n\" id=\"DejaVuSans-45224\"/>\n       </defs>\n       <use xlink:href=\"#DejaVuSans-51064\"/>\n       <use x=\"60.009766\" xlink:href=\"#DejaVuSans-47932\"/>\n       <use x=\"120.019531\" xlink:href=\"#DejaVuSans-58\"/>\n       <use x=\"153.710938\" xlink:href=\"#DejaVuSans-54805\"/>\n       <use x=\"213.720703\" xlink:href=\"#DejaVuSans-51228\"/>\n       <use x=\"273.730469\" xlink:href=\"#DejaVuSans-47\"/>\n       <use x=\"307.421875\" xlink:href=\"#DejaVuSans-51088\"/>\n       <use x=\"367.431641\" xlink:href=\"#DejaVuSans-47588\"/>\n       <use x=\"427.441406\" xlink:href=\"#DejaVuSans-47\"/>\n       <use x=\"461.132812\" xlink:href=\"#DejaVuSans-45224\"/>\n       <use x=\"521.142578\" xlink:href=\"#DejaVuSans-47588\"/>\n      </g>\n     </g>\n    </g>\n    <g id=\"xtick_14\">\n     <g id=\"line2d_14\">\n      <g>\n       <use style=\"stroke:#000000;stroke-width:0.8;\" x=\"322.363839\" xlink:href=\"#m5b674ea9f0\" y=\"822.6\"/>\n      </g>\n     </g>\n     <g id=\"text_14\">\n      <!-- 인물:학교 -->\n      <g transform=\"translate(308.676339 837.198437)scale(0.1 -0.1)\">\n       <defs>\n        <path d=\"M 4.984375 -17.671875 \nL 4.984375 70.515625 \nL 54.984375 70.515625 \nL 54.984375 -17.671875 \nz\nM 10.59375 -12.109375 \nL 49.421875 -12.109375 \nL 49.421875 64.890625 \nL 10.59375 64.890625 \nz\n\" id=\"DejaVuSans-54617\"/>\n        <path d=\"M 4.984375 -17.671875 \nL 4.984375 70.515625 \nL 54.984375 70.515625 \nL 54.984375 -17.671875 \nz\nM 10.59375 -12.109375 \nL 49.421875 -12.109375 \nL 49.421875 64.890625 \nL 10.59375 64.890625 \nz\n\" id=\"DejaVuSans-44368\"/>\n       </defs>\n       <use xlink:href=\"#DejaVuSans-51064\"/>\n       <use x=\"60.009766\" xlink:href=\"#DejaVuSans-47932\"/>\n       <use x=\"120.019531\" xlink:href=\"#DejaVuSans-58\"/>\n       <use x=\"153.710938\" xlink:href=\"#DejaVuSans-54617\"/>\n       <use x=\"213.720703\" xlink:href=\"#DejaVuSans-44368\"/>\n      </g>\n     </g>\n    </g>\n    <g id=\"xtick_15\">\n     <g id=\"line2d_15\">\n      <g>\n       <use style=\"stroke:#000000;stroke-width:0.8;\" x=\"342.292411\" xlink:href=\"#m5b674ea9f0\" y=\"822.6\"/>\n      </g>\n     </g>\n     <g id=\"text_15\">\n      <!-- 인물:출생_도시 -->\n      <g transform=\"translate(320.103348 836.920312)scale(0.1 -0.1)\">\n       <defs>\n        <path d=\"M 4.984375 -17.671875 \nL 4.984375 70.515625 \nL 54.984375 70.515625 \nL 54.984375 -17.671875 \nz\nM 10.59375 -12.109375 \nL 49.421875 -12.109375 \nL 49.421875 64.890625 \nL 10.59375 64.890625 \nz\n\" id=\"DejaVuSans-49373\"/>\n        <path d=\"M 4.984375 -17.671875 \nL 4.984375 70.515625 \nL 54.984375 70.515625 \nL 54.984375 -17.671875 \nz\nM 10.59375 -12.109375 \nL 49.421875 -12.109375 \nL 49.421875 64.890625 \nL 10.59375 64.890625 \nz\n\" id=\"DejaVuSans-49884\"/>\n       </defs>\n       <use xlink:href=\"#DejaVuSans-51064\"/>\n       <use x=\"60.009766\" xlink:href=\"#DejaVuSans-47932\"/>\n       <use x=\"120.019531\" xlink:href=\"#DejaVuSans-58\"/>\n       <use x=\"153.710938\" xlink:href=\"#DejaVuSans-52636\"/>\n       <use x=\"213.720703\" xlink:href=\"#DejaVuSans-49373\"/>\n       <use x=\"273.730469\" xlink:href=\"#DejaVuSans-95\"/>\n       <use x=\"323.730469\" xlink:href=\"#DejaVuSans-46020\"/>\n       <use x=\"383.740234\" xlink:href=\"#DejaVuSans-49884\"/>\n      </g>\n     </g>\n    </g>\n    <g id=\"xtick_16\">\n     <g id=\"line2d_16\">\n      <g>\n       <use style=\"stroke:#000000;stroke-width:0.8;\" x=\"362.220982\" xlink:href=\"#m5b674ea9f0\" y=\"822.6\"/>\n      </g>\n     </g>\n     <g id=\"text_16\">\n      <!-- 인물:종교 -->\n      <g transform=\"translate(348.533482 837.198437)scale(0.1 -0.1)\">\n       <defs>\n        <path d=\"M 4.984375 -17.671875 \nL 4.984375 70.515625 \nL 54.984375 70.515625 \nL 54.984375 -17.671875 \nz\nM 10.59375 -12.109375 \nL 49.421875 -12.109375 \nL 49.421875 64.890625 \nL 10.59375 64.890625 \nz\n\" id=\"DejaVuSans-51333\"/>\n       </defs>\n       <use xlink:href=\"#DejaVuSans-51064\"/>\n       <use x=\"60.009766\" xlink:href=\"#DejaVuSans-47932\"/>\n       <use x=\"120.019531\" xlink:href=\"#DejaVuSans-58\"/>\n       <use x=\"153.710938\" xlink:href=\"#DejaVuSans-51333\"/>\n       <use x=\"213.720703\" xlink:href=\"#DejaVuSans-44368\"/>\n      </g>\n     </g>\n    </g>\n    <g id=\"xtick_17\">\n     <g id=\"line2d_17\">\n      <g>\n       <use style=\"stroke:#000000;stroke-width:0.8;\" x=\"382.149554\" xlink:href=\"#m5b674ea9f0\" y=\"822.6\"/>\n      </g>\n     </g>\n     <g id=\"text_17\">\n      <!-- 단체:주주 -->\n      <g transform=\"translate(368.462054 837.198437)scale(0.1 -0.1)\">\n       <use xlink:href=\"#DejaVuSans-45800\"/>\n       <use x=\"60.009766\" xlink:href=\"#DejaVuSans-52404\"/>\n       <use x=\"120.019531\" xlink:href=\"#DejaVuSans-58\"/>\n       <use x=\"153.710938\" xlink:href=\"#DejaVuSans-51452\"/>\n       <use x=\"213.720703\" xlink:href=\"#DejaVuSans-51452\"/>\n      </g>\n     </g>\n    </g>\n    <g id=\"xtick_18\">\n     <g id=\"line2d_18\">\n      <g>\n       <use style=\"stroke:#000000;stroke-width:0.8;\" x=\"402.078125\" xlink:href=\"#m5b674ea9f0\" y=\"822.6\"/>\n      </g>\n     </g>\n     <g id=\"text_18\">\n      <!-- 인물:거주_국가 -->\n      <g transform=\"translate(379.889063 836.920312)scale(0.1 -0.1)\">\n       <defs>\n        <path d=\"M 4.984375 -17.671875 \nL 4.984375 70.515625 \nL 54.984375 70.515625 \nL 54.984375 -17.671875 \nz\nM 10.59375 -12.109375 \nL 49.421875 -12.109375 \nL 49.421875 64.890625 \nL 10.59375 64.890625 \nz\n\" id=\"DejaVuSans-44144\"/>\n        <path d=\"M 4.984375 -17.671875 \nL 4.984375 70.515625 \nL 54.984375 70.515625 \nL 54.984375 -17.671875 \nz\nM 10.59375 -12.109375 \nL 49.421875 -12.109375 \nL 49.421875 64.890625 \nL 10.59375 64.890625 \nz\n\" id=\"DejaVuSans-44032\"/>\n       </defs>\n       <use xlink:href=\"#DejaVuSans-51064\"/>\n       <use x=\"60.009766\" xlink:href=\"#DejaVuSans-47932\"/>\n       <use x=\"120.019531\" xlink:href=\"#DejaVuSans-58\"/>\n       <use x=\"153.710938\" xlink:href=\"#DejaVuSans-44144\"/>\n       <use x=\"213.720703\" xlink:href=\"#DejaVuSans-51452\"/>\n       <use x=\"273.730469\" xlink:href=\"#DejaVuSans-95\"/>\n       <use x=\"323.730469\" xlink:href=\"#DejaVuSans-44397\"/>\n       <use x=\"383.740234\" xlink:href=\"#DejaVuSans-44032\"/>\n      </g>\n     </g>\n    </g>\n    <g id=\"xtick_19\">\n     <g id=\"line2d_19\">\n      <g>\n       <use style=\"stroke:#000000;stroke-width:0.8;\" x=\"422.006696\" xlink:href=\"#m5b674ea9f0\" y=\"822.6\"/>\n      </g>\n     </g>\n     <g id=\"text_19\">\n      <!-- 인물:거주_주(도) -->\n      <g transform=\"translate(395.916071 837.1875)scale(0.1 -0.1)\">\n       <use xlink:href=\"#DejaVuSans-51064\"/>\n       <use x=\"60.009766\" xlink:href=\"#DejaVuSans-47932\"/>\n       <use x=\"120.019531\" xlink:href=\"#DejaVuSans-58\"/>\n       <use x=\"153.710938\" xlink:href=\"#DejaVuSans-44144\"/>\n       <use x=\"213.720703\" xlink:href=\"#DejaVuSans-51452\"/>\n       <use x=\"273.730469\" xlink:href=\"#DejaVuSans-95\"/>\n       <use x=\"323.730469\" xlink:href=\"#DejaVuSans-51452\"/>\n       <use x=\"383.740234\" xlink:href=\"#DejaVuSans-40\"/>\n       <use x=\"422.753906\" xlink:href=\"#DejaVuSans-46020\"/>\n       <use x=\"482.763672\" xlink:href=\"#DejaVuSans-41\"/>\n      </g>\n     </g>\n    </g>\n    <g id=\"xtick_20\">\n     <g id=\"line2d_20\">\n      <g>\n       <use style=\"stroke:#000000;stroke-width:0.8;\" x=\"441.935268\" xlink:href=\"#m5b674ea9f0\" y=\"822.6\"/>\n      </g>\n     </g>\n     <g id=\"text_20\">\n      <!-- 인물:기타_친족 -->\n      <g transform=\"translate(419.746205 836.920312)scale(0.1 -0.1)\">\n       <defs>\n        <path d=\"M 4.984375 -17.671875 \nL 4.984375 70.515625 \nL 54.984375 70.515625 \nL 54.984375 -17.671875 \nz\nM 10.59375 -12.109375 \nL 49.421875 -12.109375 \nL 49.421875 64.890625 \nL 10.59375 64.890625 \nz\n\" id=\"DejaVuSans-44592\"/>\n        <path d=\"M 4.984375 -17.671875 \nL 4.984375 70.515625 \nL 54.984375 70.515625 \nL 54.984375 -17.671875 \nz\nM 10.59375 -12.109375 \nL 49.421875 -12.109375 \nL 49.421875 64.890625 \nL 10.59375 64.890625 \nz\n\" id=\"DejaVuSans-53440\"/>\n        <path d=\"M 4.984375 -17.671875 \nL 4.984375 70.515625 \nL 54.984375 70.515625 \nL 54.984375 -17.671875 \nz\nM 10.59375 -12.109375 \nL 49.421875 -12.109375 \nL 49.421875 64.890625 \nL 10.59375 64.890625 \nz\n\" id=\"DejaVuSans-52828\"/>\n        <path d=\"M 4.984375 -17.671875 \nL 4.984375 70.515625 \nL 54.984375 70.515625 \nL 54.984375 -17.671875 \nz\nM 10.59375 -12.109375 \nL 49.421875 -12.109375 \nL 49.421875 64.890625 \nL 10.59375 64.890625 \nz\n\" id=\"DejaVuSans-51313\"/>\n       </defs>\n       <use xlink:href=\"#DejaVuSans-51064\"/>\n       <use x=\"60.009766\" xlink:href=\"#DejaVuSans-47932\"/>\n       <use x=\"120.019531\" xlink:href=\"#DejaVuSans-58\"/>\n       <use x=\"153.710938\" xlink:href=\"#DejaVuSans-44592\"/>\n       <use x=\"213.720703\" xlink:href=\"#DejaVuSans-53440\"/>\n       <use x=\"273.730469\" xlink:href=\"#DejaVuSans-95\"/>\n       <use x=\"323.730469\" xlink:href=\"#DejaVuSans-52828\"/>\n       <use x=\"383.740234\" xlink:href=\"#DejaVuSans-51313\"/>\n      </g>\n     </g>\n    </g>\n    <g id=\"xtick_21\">\n     <g id=\"line2d_21\">\n      <g>\n       <use style=\"stroke:#000000;stroke-width:0.8;\" x=\"461.863839\" xlink:href=\"#m5b674ea9f0\" y=\"822.6\"/>\n      </g>\n     </g>\n     <g id=\"text_21\">\n      <!-- 단체:본사_국가 -->\n      <g transform=\"translate(439.674777 836.920312)scale(0.1 -0.1)\">\n       <use xlink:href=\"#DejaVuSans-45800\"/>\n       <use x=\"60.009766\" xlink:href=\"#DejaVuSans-52404\"/>\n       <use x=\"120.019531\" xlink:href=\"#DejaVuSans-58\"/>\n       <use x=\"153.710938\" xlink:href=\"#DejaVuSans-48376\"/>\n       <use x=\"213.720703\" xlink:href=\"#DejaVuSans-49324\"/>\n       <use x=\"273.730469\" xlink:href=\"#DejaVuSans-95\"/>\n       <use x=\"323.730469\" xlink:href=\"#DejaVuSans-44397\"/>\n       <use x=\"383.740234\" xlink:href=\"#DejaVuSans-44032\"/>\n      </g>\n     </g>\n    </g>\n    <g id=\"xtick_22\">\n     <g id=\"line2d_22\">\n      <g>\n       <use style=\"stroke:#000000;stroke-width:0.8;\" x=\"481.792411\" xlink:href=\"#m5b674ea9f0\" y=\"822.6\"/>\n      </g>\n     </g>\n     <g id=\"text_22\">\n      <!-- 인물:출생_일시 -->\n      <g transform=\"translate(459.603348 836.920312)scale(0.1 -0.1)\">\n       <defs>\n        <path d=\"M 4.984375 -17.671875 \nL 4.984375 70.515625 \nL 54.984375 70.515625 \nL 54.984375 -17.671875 \nz\nM 10.59375 -12.109375 \nL 49.421875 -12.109375 \nL 49.421875 64.890625 \nL 10.59375 64.890625 \nz\n\" id=\"DejaVuSans-51068\"/>\n       </defs>\n       <use xlink:href=\"#DejaVuSans-51064\"/>\n       <use x=\"60.009766\" xlink:href=\"#DejaVuSans-47932\"/>\n       <use x=\"120.019531\" xlink:href=\"#DejaVuSans-58\"/>\n       <use x=\"153.710938\" xlink:href=\"#DejaVuSans-52636\"/>\n       <use x=\"213.720703\" xlink:href=\"#DejaVuSans-49373\"/>\n       <use x=\"273.730469\" xlink:href=\"#DejaVuSans-95\"/>\n       <use x=\"323.730469\" xlink:href=\"#DejaVuSans-51068\"/>\n       <use x=\"383.740234\" xlink:href=\"#DejaVuSans-49884\"/>\n      </g>\n     </g>\n    </g>\n    <g id=\"xtick_23\">\n     <g id=\"line2d_23\">\n      <g>\n       <use style=\"stroke:#000000;stroke-width:0.8;\" x=\"501.720982\" xlink:href=\"#m5b674ea9f0\" y=\"822.6\"/>\n      </g>\n     </g>\n     <g id=\"text_23\">\n      <!-- 인물:배우자 -->\n      <g transform=\"translate(485.032701 837.198437)scale(0.1 -0.1)\">\n       <defs>\n        <path d=\"M 4.984375 -17.671875 \nL 4.984375 70.515625 \nL 54.984375 70.515625 \nL 54.984375 -17.671875 \nz\nM 10.59375 -12.109375 \nL 49.421875 -12.109375 \nL 49.421875 64.890625 \nL 10.59375 64.890625 \nz\n\" id=\"DejaVuSans-48176\"/>\n        <path d=\"M 4.984375 -17.671875 \nL 4.984375 70.515625 \nL 54.984375 70.515625 \nL 54.984375 -17.671875 \nz\nM 10.59375 -12.109375 \nL 49.421875 -12.109375 \nL 49.421875 64.890625 \nL 10.59375 64.890625 \nz\n\" id=\"DejaVuSans-50864\"/>\n       </defs>\n       <use xlink:href=\"#DejaVuSans-51064\"/>\n       <use x=\"60.009766\" xlink:href=\"#DejaVuSans-47932\"/>\n       <use x=\"120.019531\" xlink:href=\"#DejaVuSans-58\"/>\n       <use x=\"153.710938\" xlink:href=\"#DejaVuSans-48176\"/>\n       <use x=\"213.720703\" xlink:href=\"#DejaVuSans-50864\"/>\n       <use x=\"273.730469\" xlink:href=\"#DejaVuSans-51088\"/>\n      </g>\n     </g>\n    </g>\n    <g id=\"xtick_24\">\n     <g id=\"line2d_24\">\n      <g>\n       <use style=\"stroke:#000000;stroke-width:0.8;\" x=\"521.649554\" xlink:href=\"#m5b674ea9f0\" y=\"822.6\"/>\n      </g>\n     </g>\n     <g id=\"text_24\">\n      <!-- 단체:본사_도시 -->\n      <g transform=\"translate(499.460491 836.920312)scale(0.1 -0.1)\">\n       <use xlink:href=\"#DejaVuSans-45800\"/>\n       <use x=\"60.009766\" xlink:href=\"#DejaVuSans-52404\"/>\n       <use x=\"120.019531\" xlink:href=\"#DejaVuSans-58\"/>\n       <use x=\"153.710938\" xlink:href=\"#DejaVuSans-48376\"/>\n       <use x=\"213.720703\" xlink:href=\"#DejaVuSans-49324\"/>\n       <use x=\"273.730469\" xlink:href=\"#DejaVuSans-95\"/>\n       <use x=\"323.730469\" xlink:href=\"#DejaVuSans-46020\"/>\n       <use x=\"383.740234\" xlink:href=\"#DejaVuSans-49884\"/>\n      </g>\n     </g>\n    </g>\n    <g id=\"xtick_25\">\n     <g id=\"line2d_25\">\n      <g>\n       <use style=\"stroke:#000000;stroke-width:0.8;\" x=\"541.578125\" xlink:href=\"#m5b674ea9f0\" y=\"822.6\"/>\n      </g>\n     </g>\n     <g id=\"text_25\">\n      <!-- 인물:별칭 -->\n      <g transform=\"translate(527.890625 837.198437)scale(0.1 -0.1)\">\n       <use xlink:href=\"#DejaVuSans-51064\"/>\n       <use x=\"60.009766\" xlink:href=\"#DejaVuSans-47932\"/>\n       <use x=\"120.019531\" xlink:href=\"#DejaVuSans-58\"/>\n       <use x=\"153.710938\" xlink:href=\"#DejaVuSans-48324\"/>\n       <use x=\"213.720703\" xlink:href=\"#DejaVuSans-52845\"/>\n      </g>\n     </g>\n    </g>\n    <g id=\"xtick_26\">\n     <g id=\"line2d_26\">\n      <g>\n       <use style=\"stroke:#000000;stroke-width:0.8;\" x=\"561.506696\" xlink:href=\"#m5b674ea9f0\" y=\"822.6\"/>\n      </g>\n     </g>\n     <g id=\"text_26\">\n      <!-- 인물:제작 -->\n      <g transform=\"translate(547.819196 837.198437)scale(0.1 -0.1)\">\n       <use xlink:href=\"#DejaVuSans-51064\"/>\n       <use x=\"60.009766\" xlink:href=\"#DejaVuSans-47932\"/>\n       <use x=\"120.019531\" xlink:href=\"#DejaVuSans-58\"/>\n       <use x=\"153.710938\" xlink:href=\"#DejaVuSans-51228\"/>\n       <use x=\"213.720703\" xlink:href=\"#DejaVuSans-51089\"/>\n      </g>\n     </g>\n    </g>\n    <g id=\"xtick_27\">\n     <g id=\"line2d_27\">\n      <g>\n       <use style=\"stroke:#000000;stroke-width:0.8;\" x=\"581.435268\" xlink:href=\"#m5b674ea9f0\" y=\"822.6\"/>\n      </g>\n     </g>\n     <g id=\"text_27\">\n      <!-- 인물:자녀 -->\n      <g transform=\"translate(567.747768 837.198437)scale(0.1 -0.1)\">\n       <defs>\n        <path d=\"M 4.984375 -17.671875 \nL 4.984375 70.515625 \nL 54.984375 70.515625 \nL 54.984375 -17.671875 \nz\nM 10.59375 -12.109375 \nL 49.421875 -12.109375 \nL 49.421875 64.890625 \nL 10.59375 64.890625 \nz\n\" id=\"DejaVuSans-45376\"/>\n       </defs>\n       <use xlink:href=\"#DejaVuSans-51064\"/>\n       <use x=\"60.009766\" xlink:href=\"#DejaVuSans-47932\"/>\n       <use x=\"120.019531\" xlink:href=\"#DejaVuSans-58\"/>\n       <use x=\"153.710938\" xlink:href=\"#DejaVuSans-51088\"/>\n       <use x=\"213.720703\" xlink:href=\"#DejaVuSans-45376\"/>\n      </g>\n     </g>\n    </g>\n    <g id=\"xtick_28\">\n     <g id=\"line2d_28\">\n      <g>\n       <use style=\"stroke:#000000;stroke-width:0.8;\" x=\"601.363839\" xlink:href=\"#m5b674ea9f0\" y=\"822.6\"/>\n      </g>\n     </g>\n     <g id=\"text_28\">\n      <!-- 인물:사망_일시 -->\n      <g transform=\"translate(579.174777 836.920312)scale(0.1 -0.1)\">\n       <defs>\n        <path d=\"M 4.984375 -17.671875 \nL 4.984375 70.515625 \nL 54.984375 70.515625 \nL 54.984375 -17.671875 \nz\nM 10.59375 -12.109375 \nL 49.421875 -12.109375 \nL 49.421875 64.890625 \nL 10.59375 64.890625 \nz\n\" id=\"DejaVuSans-47581\"/>\n       </defs>\n       <use xlink:href=\"#DejaVuSans-51064\"/>\n       <use x=\"60.009766\" xlink:href=\"#DejaVuSans-47932\"/>\n       <use x=\"120.019531\" xlink:href=\"#DejaVuSans-58\"/>\n       <use x=\"153.710938\" xlink:href=\"#DejaVuSans-49324\"/>\n       <use x=\"213.720703\" xlink:href=\"#DejaVuSans-47581\"/>\n       <use x=\"273.730469\" xlink:href=\"#DejaVuSans-95\"/>\n       <use x=\"323.730469\" xlink:href=\"#DejaVuSans-51068\"/>\n       <use x=\"383.740234\" xlink:href=\"#DejaVuSans-49884\"/>\n      </g>\n     </g>\n    </g>\n    <g id=\"xtick_29\">\n     <g id=\"line2d_29\">\n      <g>\n       <use style=\"stroke:#000000;stroke-width:0.8;\" x=\"621.292411\" xlink:href=\"#m5b674ea9f0\" y=\"822.6\"/>\n      </g>\n     </g>\n     <g id=\"text_29\">\n      <!-- 단체:해산일 -->\n      <g transform=\"translate(604.604129 837.198437)scale(0.1 -0.1)\">\n       <defs>\n        <path d=\"M 4.984375 -17.671875 \nL 4.984375 70.515625 \nL 54.984375 70.515625 \nL 54.984375 -17.671875 \nz\nM 10.59375 -12.109375 \nL 49.421875 -12.109375 \nL 49.421875 64.890625 \nL 10.59375 64.890625 \nz\n\" id=\"DejaVuSans-54644\"/>\n        <path d=\"M 4.984375 -17.671875 \nL 4.984375 70.515625 \nL 54.984375 70.515625 \nL 54.984375 -17.671875 \nz\nM 10.59375 -12.109375 \nL 49.421875 -12.109375 \nL 49.421875 64.890625 \nL 10.59375 64.890625 \nz\n\" id=\"DejaVuSans-49328\"/>\n       </defs>\n       <use xlink:href=\"#DejaVuSans-45800\"/>\n       <use x=\"60.009766\" xlink:href=\"#DejaVuSans-52404\"/>\n       <use x=\"120.019531\" xlink:href=\"#DejaVuSans-58\"/>\n       <use x=\"153.710938\" xlink:href=\"#DejaVuSans-54644\"/>\n       <use x=\"213.720703\" xlink:href=\"#DejaVuSans-49328\"/>\n       <use x=\"273.730469\" xlink:href=\"#DejaVuSans-51068\"/>\n      </g>\n     </g>\n    </g>\n    <g id=\"xtick_30\">\n     <g id=\"line2d_30\">\n      <g>\n       <use style=\"stroke:#000000;stroke-width:0.8;\" x=\"641.220982\" xlink:href=\"#m5b674ea9f0\" y=\"822.6\"/>\n      </g>\n     </g>\n     <g id=\"text_30\">\n      <!-- 단체:창립일 -->\n      <g transform=\"translate(624.532701 837.198437)scale(0.1 -0.1)\">\n       <defs>\n        <path d=\"M 4.984375 -17.671875 \nL 4.984375 70.515625 \nL 54.984375 70.515625 \nL 54.984375 -17.671875 \nz\nM 10.59375 -12.109375 \nL 49.421875 -12.109375 \nL 49.421875 64.890625 \nL 10.59375 64.890625 \nz\n\" id=\"DejaVuSans-52285\"/>\n        <path d=\"M 4.984375 -17.671875 \nL 4.984375 70.515625 \nL 54.984375 70.515625 \nL 54.984375 -17.671875 \nz\nM 10.59375 -12.109375 \nL 49.421875 -12.109375 \nL 49.421875 64.890625 \nL 10.59375 64.890625 \nz\n\" id=\"DejaVuSans-47549\"/>\n       </defs>\n       <use xlink:href=\"#DejaVuSans-45800\"/>\n       <use x=\"60.009766\" xlink:href=\"#DejaVuSans-52404\"/>\n       <use x=\"120.019531\" xlink:href=\"#DejaVuSans-58\"/>\n       <use x=\"153.710938\" xlink:href=\"#DejaVuSans-52285\"/>\n       <use x=\"213.720703\" xlink:href=\"#DejaVuSans-47549\"/>\n       <use x=\"273.730469\" xlink:href=\"#DejaVuSans-51068\"/>\n      </g>\n     </g>\n    </g>\n    <g id=\"xtick_31\">\n     <g id=\"line2d_31\">\n      <g>\n       <use style=\"stroke:#000000;stroke-width:0.8;\" x=\"661.149554\" xlink:href=\"#m5b674ea9f0\" y=\"822.6\"/>\n      </g>\n     </g>\n     <g id=\"text_31\">\n      <!-- 단체:창립자 -->\n      <g transform=\"translate(644.461272 837.198437)scale(0.1 -0.1)\">\n       <use xlink:href=\"#DejaVuSans-45800\"/>\n       <use x=\"60.009766\" xlink:href=\"#DejaVuSans-52404\"/>\n       <use x=\"120.019531\" xlink:href=\"#DejaVuSans-58\"/>\n       <use x=\"153.710938\" xlink:href=\"#DejaVuSans-52285\"/>\n       <use x=\"213.720703\" xlink:href=\"#DejaVuSans-47549\"/>\n       <use x=\"273.730469\" xlink:href=\"#DejaVuSans-51088\"/>\n      </g>\n     </g>\n    </g>\n    <g id=\"xtick_32\">\n     <g id=\"line2d_32\">\n      <g>\n       <use style=\"stroke:#000000;stroke-width:0.8;\" x=\"681.078125\" xlink:href=\"#m5b674ea9f0\" y=\"822.6\"/>\n      </g>\n     </g>\n     <g id=\"text_32\">\n      <!-- 단체:하위_단체 -->\n      <g transform=\"translate(658.889063 836.920312)scale(0.1 -0.1)\">\n       <defs>\n        <path d=\"M 4.984375 -17.671875 \nL 4.984375 70.515625 \nL 54.984375 70.515625 \nL 54.984375 -17.671875 \nz\nM 10.59375 -12.109375 \nL 49.421875 -12.109375 \nL 49.421875 64.890625 \nL 10.59375 64.890625 \nz\n\" id=\"DejaVuSans-54616\"/>\n       </defs>\n       <use xlink:href=\"#DejaVuSans-45800\"/>\n       <use x=\"60.009766\" xlink:href=\"#DejaVuSans-52404\"/>\n       <use x=\"120.019531\" xlink:href=\"#DejaVuSans-58\"/>\n       <use x=\"153.710938\" xlink:href=\"#DejaVuSans-54616\"/>\n       <use x=\"213.720703\" xlink:href=\"#DejaVuSans-50948\"/>\n       <use x=\"273.730469\" xlink:href=\"#DejaVuSans-95\"/>\n       <use x=\"323.730469\" xlink:href=\"#DejaVuSans-45800\"/>\n       <use x=\"383.740234\" xlink:href=\"#DejaVuSans-52404\"/>\n      </g>\n     </g>\n    </g>\n    <g id=\"xtick_33\">\n     <g id=\"line2d_33\">\n      <g>\n       <use style=\"stroke:#000000;stroke-width:0.8;\" x=\"701.006696\" xlink:href=\"#m5b674ea9f0\" y=\"822.6\"/>\n      </g>\n     </g>\n     <g id=\"text_33\">\n      <!-- 인물:거주_도시 -->\n      <g transform=\"translate(678.817634 836.920312)scale(0.1 -0.1)\">\n       <use xlink:href=\"#DejaVuSans-51064\"/>\n       <use x=\"60.009766\" xlink:href=\"#DejaVuSans-47932\"/>\n       <use x=\"120.019531\" xlink:href=\"#DejaVuSans-58\"/>\n       <use x=\"153.710938\" xlink:href=\"#DejaVuSans-44144\"/>\n       <use x=\"213.720703\" xlink:href=\"#DejaVuSans-51452\"/>\n       <use x=\"273.730469\" xlink:href=\"#DejaVuSans-95\"/>\n       <use x=\"323.730469\" xlink:href=\"#DejaVuSans-46020\"/>\n       <use x=\"383.740234\" xlink:href=\"#DejaVuSans-49884\"/>\n      </g>\n     </g>\n    </g>\n    <g id=\"xtick_34\">\n     <g id=\"line2d_34\">\n      <g>\n       <use style=\"stroke:#000000;stroke-width:0.8;\" x=\"720.935268\" xlink:href=\"#m5b674ea9f0\" y=\"822.6\"/>\n      </g>\n     </g>\n     <g id=\"text_34\">\n      <!-- 인물:사망_원인 -->\n      <g transform=\"translate(698.746205 836.920312)scale(0.1 -0.1)\">\n       <use xlink:href=\"#DejaVuSans-51064\"/>\n       <use x=\"60.009766\" xlink:href=\"#DejaVuSans-47932\"/>\n       <use x=\"120.019531\" xlink:href=\"#DejaVuSans-58\"/>\n       <use x=\"153.710938\" xlink:href=\"#DejaVuSans-49324\"/>\n       <use x=\"213.720703\" xlink:href=\"#DejaVuSans-47581\"/>\n       <use x=\"273.730469\" xlink:href=\"#DejaVuSans-95\"/>\n       <use x=\"323.730469\" xlink:href=\"#DejaVuSans-50896\"/>\n       <use x=\"383.740234\" xlink:href=\"#DejaVuSans-51064\"/>\n      </g>\n     </g>\n    </g>\n    <g id=\"xtick_35\">\n     <g id=\"line2d_35\">\n      <g>\n       <use style=\"stroke:#000000;stroke-width:0.8;\" x=\"740.863839\" xlink:href=\"#m5b674ea9f0\" y=\"822.6\"/>\n      </g>\n     </g>\n     <g id=\"text_35\">\n      <!-- 단체:정치/종교성향 -->\n      <g transform=\"translate(713.488839 837.198437)scale(0.1 -0.1)\">\n       <defs>\n        <path d=\"M 4.984375 -17.671875 \nL 4.984375 70.515625 \nL 54.984375 70.515625 \nL 54.984375 -17.671875 \nz\nM 10.59375 -12.109375 \nL 49.421875 -12.109375 \nL 49.421875 64.890625 \nL 10.59375 64.890625 \nz\n\" id=\"DejaVuSans-51221\"/>\n        <path d=\"M 4.984375 -17.671875 \nL 4.984375 70.515625 \nL 54.984375 70.515625 \nL 54.984375 -17.671875 \nz\nM 10.59375 -12.109375 \nL 49.421875 -12.109375 \nL 49.421875 64.890625 \nL 10.59375 64.890625 \nz\n\" id=\"DejaVuSans-52824\"/>\n        <path d=\"M 4.984375 -17.671875 \nL 4.984375 70.515625 \nL 54.984375 70.515625 \nL 54.984375 -17.671875 \nz\nM 10.59375 -12.109375 \nL 49.421875 -12.109375 \nL 49.421875 64.890625 \nL 10.59375 64.890625 \nz\n\" id=\"DejaVuSans-54693\"/>\n       </defs>\n       <use xlink:href=\"#DejaVuSans-45800\"/>\n       <use x=\"60.009766\" xlink:href=\"#DejaVuSans-52404\"/>\n       <use x=\"120.019531\" xlink:href=\"#DejaVuSans-58\"/>\n       <use x=\"153.710938\" xlink:href=\"#DejaVuSans-51221\"/>\n       <use x=\"213.720703\" xlink:href=\"#DejaVuSans-52824\"/>\n       <use x=\"273.730469\" xlink:href=\"#DejaVuSans-47\"/>\n       <use x=\"307.421875\" xlink:href=\"#DejaVuSans-51333\"/>\n       <use x=\"367.431641\" xlink:href=\"#DejaVuSans-44368\"/>\n       <use x=\"427.441406\" xlink:href=\"#DejaVuSans-49457\"/>\n       <use x=\"487.451172\" xlink:href=\"#DejaVuSans-54693\"/>\n      </g>\n     </g>\n    </g>\n    <g id=\"xtick_36\">\n     <g id=\"line2d_36\">\n      <g>\n       <use style=\"stroke:#000000;stroke-width:0.8;\" x=\"760.792411\" xlink:href=\"#m5b674ea9f0\" y=\"822.6\"/>\n      </g>\n     </g>\n     <g id=\"text_36\">\n      <!-- 인물:출생_국가 -->\n      <g transform=\"translate(738.603348 836.920312)scale(0.1 -0.1)\">\n       <use xlink:href=\"#DejaVuSans-51064\"/>\n       <use x=\"60.009766\" xlink:href=\"#DejaVuSans-47932\"/>\n       <use x=\"120.019531\" xlink:href=\"#DejaVuSans-58\"/>\n       <use x=\"153.710938\" xlink:href=\"#DejaVuSans-52636\"/>\n       <use x=\"213.720703\" xlink:href=\"#DejaVuSans-49373\"/>\n       <use x=\"273.730469\" xlink:href=\"#DejaVuSans-95\"/>\n       <use x=\"323.730469\" xlink:href=\"#DejaVuSans-44397\"/>\n       <use x=\"383.740234\" xlink:href=\"#DejaVuSans-44032\"/>\n      </g>\n     </g>\n    </g>\n    <g id=\"xtick_37\">\n     <g id=\"line2d_37\">\n      <g>\n       <use style=\"stroke:#000000;stroke-width:0.8;\" x=\"780.720982\" xlink:href=\"#m5b674ea9f0\" y=\"822.6\"/>\n      </g>\n     </g>\n     <g id=\"text_37\">\n      <!-- 단체:자회사 -->\n      <g transform=\"translate(764.032701 837.198437)scale(0.1 -0.1)\">\n       <use xlink:href=\"#DejaVuSans-45800\"/>\n       <use x=\"60.009766\" xlink:href=\"#DejaVuSans-52404\"/>\n       <use x=\"120.019531\" xlink:href=\"#DejaVuSans-58\"/>\n       <use x=\"153.710938\" xlink:href=\"#DejaVuSans-51088\"/>\n       <use x=\"213.720703\" xlink:href=\"#DejaVuSans-54924\"/>\n       <use x=\"273.730469\" xlink:href=\"#DejaVuSans-49324\"/>\n      </g>\n     </g>\n    </g>\n    <g id=\"xtick_38\">\n     <g id=\"line2d_38\">\n      <g>\n       <use style=\"stroke:#000000;stroke-width:0.8;\" x=\"800.649554\" xlink:href=\"#m5b674ea9f0\" y=\"822.6\"/>\n      </g>\n     </g>\n     <g id=\"text_38\">\n      <!-- 인물:사망_도시 -->\n      <g transform=\"translate(778.460491 836.920312)scale(0.1 -0.1)\">\n       <use xlink:href=\"#DejaVuSans-51064\"/>\n       <use x=\"60.009766\" xlink:href=\"#DejaVuSans-47932\"/>\n       <use x=\"120.019531\" xlink:href=\"#DejaVuSans-58\"/>\n       <use x=\"153.710938\" xlink:href=\"#DejaVuSans-49324\"/>\n       <use x=\"213.720703\" xlink:href=\"#DejaVuSans-47581\"/>\n       <use x=\"273.730469\" xlink:href=\"#DejaVuSans-95\"/>\n       <use x=\"323.730469\" xlink:href=\"#DejaVuSans-46020\"/>\n       <use x=\"383.740234\" xlink:href=\"#DejaVuSans-49884\"/>\n      </g>\n     </g>\n    </g>\n    <g id=\"xtick_39\">\n     <g id=\"line2d_39\">\n      <g>\n       <use style=\"stroke:#000000;stroke-width:0.8;\" x=\"820.578125\" xlink:href=\"#m5b674ea9f0\" y=\"822.6\"/>\n      </g>\n     </g>\n     <g id=\"text_39\">\n      <!-- 인물:용의자 -->\n      <g transform=\"translate(803.889844 837.198437)scale(0.1 -0.1)\">\n       <defs>\n        <path d=\"M 4.984375 -17.671875 \nL 4.984375 70.515625 \nL 54.984375 70.515625 \nL 54.984375 -17.671875 \nz\nM 10.59375 -12.109375 \nL 49.421875 -12.109375 \nL 49.421875 64.890625 \nL 10.59375 64.890625 \nz\n\" id=\"DejaVuSans-50857\"/>\n        <path d=\"M 4.984375 -17.671875 \nL 4.984375 70.515625 \nL 54.984375 70.515625 \nL 54.984375 -17.671875 \nz\nM 10.59375 -12.109375 \nL 49.421875 -12.109375 \nL 49.421875 64.890625 \nL 10.59375 64.890625 \nz\n\" id=\"DejaVuSans-51032\"/>\n       </defs>\n       <use xlink:href=\"#DejaVuSans-51064\"/>\n       <use x=\"60.009766\" xlink:href=\"#DejaVuSans-47932\"/>\n       <use x=\"120.019531\" xlink:href=\"#DejaVuSans-58\"/>\n       <use x=\"153.710938\" xlink:href=\"#DejaVuSans-50857\"/>\n       <use x=\"213.720703\" xlink:href=\"#DejaVuSans-51032\"/>\n       <use x=\"273.730469\" xlink:href=\"#DejaVuSans-51088\"/>\n      </g>\n     </g>\n    </g>\n    <g id=\"xtick_40\">\n     <g id=\"line2d_40\">\n      <g>\n       <use style=\"stroke:#000000;stroke-width:0.8;\" x=\"840.506696\" xlink:href=\"#m5b674ea9f0\" y=\"822.6\"/>\n      </g>\n     </g>\n     <g id=\"text_40\">\n      <!-- 단체:구성원_수 -->\n      <g transform=\"translate(818.317634 836.920312)scale(0.1 -0.1)\">\n       <defs>\n        <path d=\"M 4.984375 -17.671875 \nL 4.984375 70.515625 \nL 54.984375 70.515625 \nL 54.984375 -17.671875 \nz\nM 10.59375 -12.109375 \nL 49.421875 -12.109375 \nL 49.421875 64.890625 \nL 10.59375 64.890625 \nz\n\" id=\"DejaVuSans-49688\"/>\n       </defs>\n       <use xlink:href=\"#DejaVuSans-45800\"/>\n       <use x=\"60.009766\" xlink:href=\"#DejaVuSans-52404\"/>\n       <use x=\"120.019531\" xlink:href=\"#DejaVuSans-58\"/>\n       <use x=\"153.710938\" xlink:href=\"#DejaVuSans-44396\"/>\n       <use x=\"213.720703\" xlink:href=\"#DejaVuSans-49457\"/>\n       <use x=\"273.730469\" xlink:href=\"#DejaVuSans-50896\"/>\n       <use x=\"333.740234\" xlink:href=\"#DejaVuSans-95\"/>\n       <use x=\"383.740234\" xlink:href=\"#DejaVuSans-49688\"/>\n      </g>\n     </g>\n    </g>\n    <g id=\"xtick_41\">\n     <g id=\"line2d_41\">\n      <g>\n       <use style=\"stroke:#000000;stroke-width:0.8;\" x=\"860.435268\" xlink:href=\"#m5b674ea9f0\" y=\"822.6\"/>\n      </g>\n     </g>\n     <g id=\"text_41\">\n      <!-- 인물:나이 -->\n      <g transform=\"translate(846.747768 837.198437)scale(0.1 -0.1)\">\n       <defs>\n        <path d=\"M 4.984375 -17.671875 \nL 4.984375 70.515625 \nL 54.984375 70.515625 \nL 54.984375 -17.671875 \nz\nM 10.59375 -12.109375 \nL 49.421875 -12.109375 \nL 49.421875 64.890625 \nL 10.59375 64.890625 \nz\n\" id=\"DejaVuSans-45208\"/>\n        <path d=\"M 4.984375 -17.671875 \nL 4.984375 70.515625 \nL 54.984375 70.515625 \nL 54.984375 -17.671875 \nz\nM 10.59375 -12.109375 \nL 49.421875 -12.109375 \nL 49.421875 64.890625 \nL 10.59375 64.890625 \nz\n\" id=\"DejaVuSans-51060\"/>\n       </defs>\n       <use xlink:href=\"#DejaVuSans-51064\"/>\n       <use x=\"60.009766\" xlink:href=\"#DejaVuSans-47932\"/>\n       <use x=\"120.019531\" xlink:href=\"#DejaVuSans-58\"/>\n       <use x=\"153.710938\" xlink:href=\"#DejaVuSans-45208\"/>\n       <use x=\"213.720703\" xlink:href=\"#DejaVuSans-51060\"/>\n      </g>\n     </g>\n    </g>\n    <g id=\"xtick_42\">\n     <g id=\"line2d_42\">\n      <g>\n       <use style=\"stroke:#000000;stroke-width:0.8;\" x=\"880.363839\" xlink:href=\"#m5b674ea9f0\" y=\"822.6\"/>\n      </g>\n     </g>\n     <g id=\"text_42\">\n      <!-- 인물:사망_국가 -->\n      <g transform=\"translate(858.174777 836.920312)scale(0.1 -0.1)\">\n       <use xlink:href=\"#DejaVuSans-51064\"/>\n       <use x=\"60.009766\" xlink:href=\"#DejaVuSans-47932\"/>\n       <use x=\"120.019531\" xlink:href=\"#DejaVuSans-58\"/>\n       <use x=\"153.710938\" xlink:href=\"#DejaVuSans-49324\"/>\n       <use x=\"213.720703\" xlink:href=\"#DejaVuSans-47581\"/>\n       <use x=\"273.730469\" xlink:href=\"#DejaVuSans-95\"/>\n       <use x=\"323.730469\" xlink:href=\"#DejaVuSans-44397\"/>\n       <use x=\"383.740234\" xlink:href=\"#DejaVuSans-44032\"/>\n      </g>\n     </g>\n    </g>\n    <g id=\"text_43\">\n     <!-- 8 -->\n     <g transform=\"translate(468.646875 851.14375)scale(0.1 -0.1)\">\n      <defs>\n       <path d=\"M 31.78125 34.625 \nQ 24.75 34.625 20.71875 30.859375 \nQ 16.703125 27.09375 16.703125 20.515625 \nQ 16.703125 13.921875 20.71875 10.15625 \nQ 24.75 6.390625 31.78125 6.390625 \nQ 38.8125 6.390625 42.859375 10.171875 \nQ 46.921875 13.96875 46.921875 20.515625 \nQ 46.921875 27.09375 42.890625 30.859375 \nQ 38.875 34.625 31.78125 34.625 \nz\nM 21.921875 38.8125 \nQ 15.578125 40.375 12.03125 44.71875 \nQ 8.5 49.078125 8.5 55.328125 \nQ 8.5 64.0625 14.71875 69.140625 \nQ 20.953125 74.21875 31.78125 74.21875 \nQ 42.671875 74.21875 48.875 69.140625 \nQ 55.078125 64.0625 55.078125 55.328125 \nQ 55.078125 49.078125 51.53125 44.71875 \nQ 48 40.375 41.703125 38.8125 \nQ 48.828125 37.15625 52.796875 32.3125 \nQ 56.78125 27.484375 56.78125 20.515625 \nQ 56.78125 9.90625 50.3125 4.234375 \nQ 43.84375 -1.421875 31.78125 -1.421875 \nQ 19.734375 -1.421875 13.25 4.234375 \nQ 6.78125 9.90625 6.78125 20.515625 \nQ 6.78125 27.484375 10.78125 32.3125 \nQ 14.796875 37.15625 21.921875 38.8125 \nz\nM 18.3125 54.390625 \nQ 18.3125 48.734375 21.84375 45.5625 \nQ 25.390625 42.390625 31.78125 42.390625 \nQ 38.140625 42.390625 41.71875 45.5625 \nQ 45.3125 48.734375 45.3125 54.390625 \nQ 45.3125 60.0625 41.71875 63.234375 \nQ 38.140625 66.40625 31.78125 66.40625 \nQ 25.390625 66.40625 21.84375 63.234375 \nQ 18.3125 60.0625 18.3125 54.390625 \nz\n\" id=\"DejaVuSans-56\"/>\n      </defs>\n      <use xlink:href=\"#DejaVuSans-56\"/>\n     </g>\n    </g>\n   </g>\n   <g id=\"matplotlib.axis_2\">\n    <g id=\"ytick_1\">\n     <g id=\"line2d_43\">\n      <defs>\n       <path d=\"M 0 0 \nL -3.5 0 \n\" id=\"md47c05c839\" style=\"stroke:#000000;stroke-width:0.8;\"/>\n      </defs>\n      <g>\n       <use style=\"stroke:#000000;stroke-width:0.8;\" x=\"53.328125\" xlink:href=\"#md47c05c839\" y=\"822.6\"/>\n      </g>\n     </g>\n     <g id=\"text_44\">\n      <!-- 0 -->\n      <g transform=\"translate(39.965625 826.399219)scale(0.1 -0.1)\">\n       <defs>\n        <path d=\"M 31.78125 66.40625 \nQ 24.171875 66.40625 20.328125 58.90625 \nQ 16.5 51.421875 16.5 36.375 \nQ 16.5 21.390625 20.328125 13.890625 \nQ 24.171875 6.390625 31.78125 6.390625 \nQ 39.453125 6.390625 43.28125 13.890625 \nQ 47.125 21.390625 47.125 36.375 \nQ 47.125 51.421875 43.28125 58.90625 \nQ 39.453125 66.40625 31.78125 66.40625 \nz\nM 31.78125 74.21875 \nQ 44.046875 74.21875 50.515625 64.515625 \nQ 56.984375 54.828125 56.984375 36.375 \nQ 56.984375 17.96875 50.515625 8.265625 \nQ 44.046875 -1.421875 31.78125 -1.421875 \nQ 19.53125 -1.421875 13.0625 8.265625 \nQ 6.59375 17.96875 6.59375 36.375 \nQ 6.59375 54.828125 13.0625 64.515625 \nQ 19.53125 74.21875 31.78125 74.21875 \nz\n\" id=\"DejaVuSans-48\"/>\n       </defs>\n       <use xlink:href=\"#DejaVuSans-48\"/>\n      </g>\n     </g>\n    </g>\n    <g id=\"ytick_2\">\n     <g id=\"line2d_44\">\n      <g>\n       <use style=\"stroke:#000000;stroke-width:0.8;\" x=\"53.328125\" xlink:href=\"#md47c05c839\" y=\"647.380815\"/>\n      </g>\n     </g>\n     <g id=\"text_45\">\n      <!-- 1000 -->\n      <g transform=\"translate(20.878125 651.180034)scale(0.1 -0.1)\">\n       <defs>\n        <path d=\"M 12.40625 8.296875 \nL 28.515625 8.296875 \nL 28.515625 63.921875 \nL 10.984375 60.40625 \nL 10.984375 69.390625 \nL 28.421875 72.90625 \nL 38.28125 72.90625 \nL 38.28125 8.296875 \nL 54.390625 8.296875 \nL 54.390625 0 \nL 12.40625 0 \nz\n\" id=\"DejaVuSans-49\"/>\n       </defs>\n       <use xlink:href=\"#DejaVuSans-49\"/>\n       <use x=\"63.623047\" xlink:href=\"#DejaVuSans-48\"/>\n       <use x=\"127.246094\" xlink:href=\"#DejaVuSans-48\"/>\n       <use x=\"190.869141\" xlink:href=\"#DejaVuSans-48\"/>\n      </g>\n     </g>\n    </g>\n    <g id=\"ytick_3\">\n     <g id=\"line2d_45\">\n      <g>\n       <use style=\"stroke:#000000;stroke-width:0.8;\" x=\"53.328125\" xlink:href=\"#md47c05c839\" y=\"472.16163\"/>\n      </g>\n     </g>\n     <g id=\"text_46\">\n      <!-- 2000 -->\n      <g transform=\"translate(20.878125 475.960848)scale(0.1 -0.1)\">\n       <defs>\n        <path d=\"M 19.1875 8.296875 \nL 53.609375 8.296875 \nL 53.609375 0 \nL 7.328125 0 \nL 7.328125 8.296875 \nQ 12.9375 14.109375 22.625 23.890625 \nQ 32.328125 33.6875 34.8125 36.53125 \nQ 39.546875 41.84375 41.421875 45.53125 \nQ 43.3125 49.21875 43.3125 52.78125 \nQ 43.3125 58.59375 39.234375 62.25 \nQ 35.15625 65.921875 28.609375 65.921875 \nQ 23.96875 65.921875 18.8125 64.3125 \nQ 13.671875 62.703125 7.8125 59.421875 \nL 7.8125 69.390625 \nQ 13.765625 71.78125 18.9375 73 \nQ 24.125 74.21875 28.421875 74.21875 \nQ 39.75 74.21875 46.484375 68.546875 \nQ 53.21875 62.890625 53.21875 53.421875 \nQ 53.21875 48.921875 51.53125 44.890625 \nQ 49.859375 40.875 45.40625 35.40625 \nQ 44.1875 33.984375 37.640625 27.21875 \nQ 31.109375 20.453125 19.1875 8.296875 \nz\n\" id=\"DejaVuSans-50\"/>\n       </defs>\n       <use xlink:href=\"#DejaVuSans-50\"/>\n       <use x=\"63.623047\" xlink:href=\"#DejaVuSans-48\"/>\n       <use x=\"127.246094\" xlink:href=\"#DejaVuSans-48\"/>\n       <use x=\"190.869141\" xlink:href=\"#DejaVuSans-48\"/>\n      </g>\n     </g>\n    </g>\n    <g id=\"ytick_4\">\n     <g id=\"line2d_46\">\n      <g>\n       <use style=\"stroke:#000000;stroke-width:0.8;\" x=\"53.328125\" xlink:href=\"#md47c05c839\" y=\"296.942445\"/>\n      </g>\n     </g>\n     <g id=\"text_47\">\n      <!-- 3000 -->\n      <g transform=\"translate(20.878125 300.741663)scale(0.1 -0.1)\">\n       <defs>\n        <path d=\"M 40.578125 39.3125 \nQ 47.65625 37.796875 51.625 33 \nQ 55.609375 28.21875 55.609375 21.1875 \nQ 55.609375 10.40625 48.1875 4.484375 \nQ 40.765625 -1.421875 27.09375 -1.421875 \nQ 22.515625 -1.421875 17.65625 -0.515625 \nQ 12.796875 0.390625 7.625 2.203125 \nL 7.625 11.71875 \nQ 11.71875 9.328125 16.59375 8.109375 \nQ 21.484375 6.890625 26.8125 6.890625 \nQ 36.078125 6.890625 40.9375 10.546875 \nQ 45.796875 14.203125 45.796875 21.1875 \nQ 45.796875 27.640625 41.28125 31.265625 \nQ 36.765625 34.90625 28.71875 34.90625 \nL 20.21875 34.90625 \nL 20.21875 43.015625 \nL 29.109375 43.015625 \nQ 36.375 43.015625 40.234375 45.921875 \nQ 44.09375 48.828125 44.09375 54.296875 \nQ 44.09375 59.90625 40.109375 62.90625 \nQ 36.140625 65.921875 28.71875 65.921875 \nQ 24.65625 65.921875 20.015625 65.03125 \nQ 15.375 64.15625 9.8125 62.3125 \nL 9.8125 71.09375 \nQ 15.4375 72.65625 20.34375 73.4375 \nQ 25.25 74.21875 29.59375 74.21875 \nQ 40.828125 74.21875 47.359375 69.109375 \nQ 53.90625 64.015625 53.90625 55.328125 \nQ 53.90625 49.265625 50.4375 45.09375 \nQ 46.96875 40.921875 40.578125 39.3125 \nz\n\" id=\"DejaVuSans-51\"/>\n       </defs>\n       <use xlink:href=\"#DejaVuSans-51\"/>\n       <use x=\"63.623047\" xlink:href=\"#DejaVuSans-48\"/>\n       <use x=\"127.246094\" xlink:href=\"#DejaVuSans-48\"/>\n       <use x=\"190.869141\" xlink:href=\"#DejaVuSans-48\"/>\n      </g>\n     </g>\n    </g>\n    <g id=\"ytick_5\">\n     <g id=\"line2d_47\">\n      <g>\n       <use style=\"stroke:#000000;stroke-width:0.8;\" x=\"53.328125\" xlink:href=\"#md47c05c839\" y=\"121.723259\"/>\n      </g>\n     </g>\n     <g id=\"text_48\">\n      <!-- 4000 -->\n      <g transform=\"translate(20.878125 125.522478)scale(0.1 -0.1)\">\n       <defs>\n        <path d=\"M 37.796875 64.3125 \nL 12.890625 25.390625 \nL 37.796875 25.390625 \nz\nM 35.203125 72.90625 \nL 47.609375 72.90625 \nL 47.609375 25.390625 \nL 58.015625 25.390625 \nL 58.015625 17.1875 \nL 47.609375 17.1875 \nL 47.609375 0 \nL 37.796875 0 \nL 37.796875 17.1875 \nL 4.890625 17.1875 \nL 4.890625 26.703125 \nz\n\" id=\"DejaVuSans-52\"/>\n       </defs>\n       <use xlink:href=\"#DejaVuSans-52\"/>\n       <use x=\"63.623047\" xlink:href=\"#DejaVuSans-48\"/>\n       <use x=\"127.246094\" xlink:href=\"#DejaVuSans-48\"/>\n       <use x=\"190.869141\" xlink:href=\"#DejaVuSans-48\"/>\n      </g>\n     </g>\n    </g>\n    <g id=\"text_49\">\n     <!-- count -->\n     <g transform=\"translate(14.798438 429.00625)rotate(-90)scale(0.1 -0.1)\">\n      <defs>\n       <path d=\"M 48.78125 52.59375 \nL 48.78125 44.1875 \nQ 44.96875 46.296875 41.140625 47.34375 \nQ 37.3125 48.390625 33.40625 48.390625 \nQ 24.65625 48.390625 19.8125 42.84375 \nQ 14.984375 37.3125 14.984375 27.296875 \nQ 14.984375 17.28125 19.8125 11.734375 \nQ 24.65625 6.203125 33.40625 6.203125 \nQ 37.3125 6.203125 41.140625 7.25 \nQ 44.96875 8.296875 48.78125 10.40625 \nL 48.78125 2.09375 \nQ 45.015625 0.34375 40.984375 -0.53125 \nQ 36.96875 -1.421875 32.421875 -1.421875 \nQ 20.0625 -1.421875 12.78125 6.34375 \nQ 5.515625 14.109375 5.515625 27.296875 \nQ 5.515625 40.671875 12.859375 48.328125 \nQ 20.21875 56 33.015625 56 \nQ 37.15625 56 41.109375 55.140625 \nQ 45.0625 54.296875 48.78125 52.59375 \nz\n\" id=\"DejaVuSans-99\"/>\n       <path d=\"M 30.609375 48.390625 \nQ 23.390625 48.390625 19.1875 42.75 \nQ 14.984375 37.109375 14.984375 27.296875 \nQ 14.984375 17.484375 19.15625 11.84375 \nQ 23.34375 6.203125 30.609375 6.203125 \nQ 37.796875 6.203125 41.984375 11.859375 \nQ 46.1875 17.53125 46.1875 27.296875 \nQ 46.1875 37.015625 41.984375 42.703125 \nQ 37.796875 48.390625 30.609375 48.390625 \nz\nM 30.609375 56 \nQ 42.328125 56 49.015625 48.375 \nQ 55.71875 40.765625 55.71875 27.296875 \nQ 55.71875 13.875 49.015625 6.21875 \nQ 42.328125 -1.421875 30.609375 -1.421875 \nQ 18.84375 -1.421875 12.171875 6.21875 \nQ 5.515625 13.875 5.515625 27.296875 \nQ 5.515625 40.765625 12.171875 48.375 \nQ 18.84375 56 30.609375 56 \nz\n\" id=\"DejaVuSans-111\"/>\n       <path d=\"M 8.5 21.578125 \nL 8.5 54.6875 \nL 17.484375 54.6875 \nL 17.484375 21.921875 \nQ 17.484375 14.15625 20.5 10.265625 \nQ 23.53125 6.390625 29.59375 6.390625 \nQ 36.859375 6.390625 41.078125 11.03125 \nQ 45.3125 15.671875 45.3125 23.6875 \nL 45.3125 54.6875 \nL 54.296875 54.6875 \nL 54.296875 0 \nL 45.3125 0 \nL 45.3125 8.40625 \nQ 42.046875 3.421875 37.71875 1 \nQ 33.40625 -1.421875 27.6875 -1.421875 \nQ 18.265625 -1.421875 13.375 4.4375 \nQ 8.5 10.296875 8.5 21.578125 \nz\nM 31.109375 56 \nz\n\" id=\"DejaVuSans-117\"/>\n       <path d=\"M 54.890625 33.015625 \nL 54.890625 0 \nL 45.90625 0 \nL 45.90625 32.71875 \nQ 45.90625 40.484375 42.875 44.328125 \nQ 39.84375 48.1875 33.796875 48.1875 \nQ 26.515625 48.1875 22.3125 43.546875 \nQ 18.109375 38.921875 18.109375 30.90625 \nL 18.109375 0 \nL 9.078125 0 \nL 9.078125 54.6875 \nL 18.109375 54.6875 \nL 18.109375 46.1875 \nQ 21.34375 51.125 25.703125 53.5625 \nQ 30.078125 56 35.796875 56 \nQ 45.21875 56 50.046875 50.171875 \nQ 54.890625 44.34375 54.890625 33.015625 \nz\n\" id=\"DejaVuSans-110\"/>\n       <path d=\"M 18.3125 70.21875 \nL 18.3125 54.6875 \nL 36.8125 54.6875 \nL 36.8125 47.703125 \nL 18.3125 47.703125 \nL 18.3125 18.015625 \nQ 18.3125 11.328125 20.140625 9.421875 \nQ 21.96875 7.515625 27.59375 7.515625 \nL 36.8125 7.515625 \nL 36.8125 0 \nL 27.59375 0 \nQ 17.1875 0 13.234375 3.875 \nQ 9.28125 7.765625 9.28125 18.015625 \nL 9.28125 47.703125 \nL 2.6875 47.703125 \nL 2.6875 54.6875 \nL 9.28125 54.6875 \nL 9.28125 70.21875 \nz\n\" id=\"DejaVuSans-116\"/>\n      </defs>\n      <use xlink:href=\"#DejaVuSans-99\"/>\n      <use x=\"54.980469\" xlink:href=\"#DejaVuSans-111\"/>\n      <use x=\"116.162109\" xlink:href=\"#DejaVuSans-117\"/>\n      <use x=\"179.541016\" xlink:href=\"#DejaVuSans-110\"/>\n      <use x=\"242.919922\" xlink:href=\"#DejaVuSans-116\"/>\n     </g>\n    </g>\n   </g>\n   <g id=\"patch_45\">\n    <path d=\"M 53.328125 822.6 \nL 53.328125 7.2 \n\" style=\"fill:none;stroke:#000000;stroke-linecap:square;stroke-linejoin:miter;stroke-width:0.8;\"/>\n   </g>\n   <g id=\"patch_46\">\n    <path d=\"M 890.328125 822.6 \nL 890.328125 7.2 \n\" style=\"fill:none;stroke:#000000;stroke-linecap:square;stroke-linejoin:miter;stroke-width:0.8;\"/>\n   </g>\n   <g id=\"patch_47\">\n    <path d=\"M 53.328125 822.6 \nL 890.328125 822.6 \n\" style=\"fill:none;stroke:#000000;stroke-linecap:square;stroke-linejoin:miter;stroke-width:0.8;\"/>\n   </g>\n   <g id=\"patch_48\">\n    <path d=\"M 53.328125 7.2 \nL 890.328125 7.2 \n\" style=\"fill:none;stroke:#000000;stroke-linecap:square;stroke-linejoin:miter;stroke-width:0.8;\"/>\n   </g>\n  </g>\n </g>\n <defs>\n  <clipPath id=\"p24fd4a039a\">\n   <rect height=\"815.4\" width=\"837\" x=\"53.328125\" y=\"7.2\"/>\n  </clipPath>\n </defs>\n</svg>\n",
      "image/png": "[encoded data removed]"
     },
     "metadata": {
      "needs_background": "light"
     }
    }
   ],
   "source": [
    "fig = plt.figure(figsize=(15, 15))\n",
    "sns.countplot(df[8])"
   ]
  },
  {
   "cell_type": "code",
   "execution_count": 7,
   "metadata": {},
   "outputs": [],
   "source": [
    "for i in df[8]:\n",
    "    if i == 'blind':\n",
    "        print('blind')"
   ]
  },
  {
   "cell_type": "code",
   "execution_count": 8,
   "metadata": {},
   "outputs": [],
   "source": [
    "import pickle\n",
    "with open('/opt/ml/input/data/label_type.pkl', 'rb') as f:\n",
    "    label_type = pickle.load(f)"
   ]
  },
  {
   "cell_type": "code",
   "execution_count": 9,
   "metadata": {},
   "outputs": [
    {
     "output_type": "execute_result",
     "data": {
      "text/plain": [
       "{'관계_없음': 0,\n",
       " '인물:배우자': 1,\n",
       " '인물:직업/직함': 2,\n",
       " '단체:모회사': 3,\n",
       " '인물:소속단체': 4,\n",
       " '인물:동료': 5,\n",
       " '단체:별칭': 6,\n",
       " '인물:출신성분/국적': 7,\n",
       " '인물:부모님': 8,\n",
       " '단체:본사_국가': 9,\n",
       " '단체:구성원': 10,\n",
       " '인물:기타_친족': 11,\n",
       " '단체:창립자': 12,\n",
       " '단체:주주': 13,\n",
       " '인물:사망_일시': 14,\n",
       " '단체:상위_단체': 15,\n",
       " '단체:본사_주(도)': 16,\n",
       " '단체:제작': 17,\n",
       " '인물:사망_원인': 18,\n",
       " '인물:출생_도시': 19,\n",
       " '단체:본사_도시': 20,\n",
       " '인물:자녀': 21,\n",
       " '인물:제작': 22,\n",
       " '단체:하위_단체': 23,\n",
       " '인물:별칭': 24,\n",
       " '인물:형제/자매/남매': 25,\n",
       " '인물:출생_국가': 26,\n",
       " '인물:출생_일시': 27,\n",
       " '단체:구성원_수': 28,\n",
       " '단체:자회사': 29,\n",
       " '인물:거주_주(도)': 30,\n",
       " '단체:해산일': 31,\n",
       " '인물:거주_도시': 32,\n",
       " '단체:창립일': 33,\n",
       " '인물:종교': 34,\n",
       " '인물:거주_국가': 35,\n",
       " '인물:용의자': 36,\n",
       " '인물:사망_도시': 37,\n",
       " '단체:정치/종교성향': 38,\n",
       " '인물:학교': 39,\n",
       " '인물:사망_국가': 40,\n",
       " '인물:나이': 41}"
      ]
     },
     "metadata": {},
     "execution_count": 9
    }
   ],
   "source": [
    "label_type"
   ]
  },
  {
   "cell_type": "code",
   "execution_count": 56,
   "metadata": {},
   "outputs": [],
   "source": [
    "length_list = sorted([len(i) for i in df[1] if len(i) <= 300])\n",
    "length_list = pd.Series(length_list)\n",
    "\n",
    "length_list2 = sorted([len(i) for i in df2[1] if len(i) <= 300])\n",
    "length_list2 = pd.Series(length_list2)\n",
    "\n"
   ]
  },
  {
   "cell_type": "code",
   "execution_count": 57,
   "metadata": {},
   "outputs": [],
   "source": [
    "import matplotlib as mpl\n",
    "import matplotlib.pyplot as plt\n",
    "import seaborn as sns\n"
   ]
  },
  {
   "cell_type": "code",
   "execution_count": 60,
   "metadata": {},
   "outputs": [
    {
     "output_type": "stream",
     "name": "stderr",
     "text": [
      "/opt/conda/lib/python3.7/site-packages/seaborn/_decorators.py:43: FutureWarning: Pass the following variable as a keyword arg: x. From version 0.12, the only valid positional argument will be `data`, and passing other arguments without an explicit keyword will result in an error or misinterpretation.\n  FutureWarning\n/opt/conda/lib/python3.7/site-packages/seaborn/_decorators.py:43: FutureWarning: Pass the following variable as a keyword arg: x. From version 0.12, the only valid positional argument will be `data`, and passing other arguments without an explicit keyword will result in an error or misinterpretation.\n  FutureWarning\n"
     ]
    },
    {
     "output_type": "display_data",
     "data": {
      "text/plain": "<Figure size 1080x720 with 2 Axes>",
      "image/svg+xml": "<?xml version=\"1.0\" encoding=\"utf-8\" standalone=\"no\"?>\n<!DOCTYPE svg PUBLIC \"-//W3C//DTD SVG 1.1//EN\"\n  \"http://www.w3.org/Graphics/SVG/1.1/DTD/svg11.dtd\">\n<!-- Created with matplotlib (https://matplotlib.org/) -->\n<svg height=\"592.075781pt\" version=\"1.1\" viewBox=\"0 0 854.9 592.075781\" width=\"854.9pt\" xmlns=\"http://www.w3.org/2000/svg\" xmlns:xlink=\"http://www.w3.org/1999/xlink\">\n <metadata>\n  <rdf:RDF xmlns:cc=\"http://creativecommons.org/ns#\" xmlns:dc=\"http://purl.org/dc/elements/1.1/\" xmlns:rdf=\"http://www.w3.org/1999/02/22-rdf-syntax-ns#\">\n   <cc:Work>\n    <dc:type rdf:resource=\"http://purl.org/dc/dcmitype/StillImage\"/>\n    <dc:date>2021-04-12T17:07:06.319041</dc:date>\n    <dc:format>image/svg+xml</dc:format>\n    <dc:creator>\n     <cc:Agent>\n      <dc:title>Matplotlib v3.3.4, https://matplotlib.org/</dc:title>\n     </cc:Agent>\n    </dc:creator>\n   </cc:Work>\n  </rdf:RDF>\n </metadata>\n <defs>\n  <style type=\"text/css\">*{stroke-linecap:butt;stroke-linejoin:round;}</style>\n </defs>\n <g id=\"figure_1\">\n  <g id=\"patch_1\">\n   <path d=\"M 0 592.075781 \nL 854.9 592.075781 \nL 854.9 0 \nL 0 0 \nz\n\" style=\"fill:none;\"/>\n  </g>\n  <g id=\"axes_1\">\n   <g id=\"patch_2\">\n    <path d=\"M 10.7 271.688565 \nL 847.7 271.688565 \nL 847.7 24.597656 \nL 10.7 24.597656 \nz\n\" style=\"fill:#ffffff;\"/>\n   </g>\n   <g id=\"patch_3\">\n    <path clip-path=\"url(#pd4fbdfc5aa)\" d=\"M 184.138531 49.306747 \nL 184.138531 246.979474 \nL 335.778777 246.979474 \nL 335.778777 49.306747 \nL 184.138531 49.306747 \nz\n\" style=\"fill:#3274a1;stroke:#3f3f3f;stroke-linejoin:miter;stroke-width:1.5;\"/>\n   </g>\n   <g id=\"matplotlib.axis_1\">\n    <g id=\"xtick_1\">\n     <g id=\"line2d_1\">\n      <defs>\n       <path d=\"M 0 0 \nL 0 3.5 \n\" id=\"md10a7d7ed8\" style=\"stroke:#000000;stroke-width:0.8;\"/>\n      </defs>\n      <g>\n       <use style=\"stroke:#000000;stroke-width:0.8;\" x=\"143.520608\" xlink:href=\"#md10a7d7ed8\" y=\"271.688565\"/>\n      </g>\n     </g>\n     <g id=\"text_1\">\n      <!-- 50 -->\n      <g transform=\"translate(137.158108 286.287003)scale(0.1 -0.1)\">\n       <defs>\n        <path d=\"M 10.796875 72.90625 \nL 49.515625 72.90625 \nL 49.515625 64.59375 \nL 19.828125 64.59375 \nL 19.828125 46.734375 \nQ 21.96875 47.46875 24.109375 47.828125 \nQ 26.265625 48.1875 28.421875 48.1875 \nQ 40.625 48.1875 47.75 41.5 \nQ 54.890625 34.8125 54.890625 23.390625 \nQ 54.890625 11.625 47.5625 5.09375 \nQ 40.234375 -1.421875 26.90625 -1.421875 \nQ 22.3125 -1.421875 17.546875 -0.640625 \nQ 12.796875 0.140625 7.71875 1.703125 \nL 7.71875 11.625 \nQ 12.109375 9.234375 16.796875 8.0625 \nQ 21.484375 6.890625 26.703125 6.890625 \nQ 35.15625 6.890625 40.078125 11.328125 \nQ 45.015625 15.765625 45.015625 23.390625 \nQ 45.015625 31 40.078125 35.4375 \nQ 35.15625 39.890625 26.703125 39.890625 \nQ 22.75 39.890625 18.8125 39.015625 \nQ 14.890625 38.140625 10.796875 36.28125 \nz\n\" id=\"DejaVuSans-53\"/>\n        <path d=\"M 31.78125 66.40625 \nQ 24.171875 66.40625 20.328125 58.90625 \nQ 16.5 51.421875 16.5 36.375 \nQ 16.5 21.390625 20.328125 13.890625 \nQ 24.171875 6.390625 31.78125 6.390625 \nQ 39.453125 6.390625 43.28125 13.890625 \nQ 47.125 21.390625 47.125 36.375 \nQ 47.125 51.421875 43.28125 58.90625 \nQ 39.453125 66.40625 31.78125 66.40625 \nz\nM 31.78125 74.21875 \nQ 44.046875 74.21875 50.515625 64.515625 \nQ 56.984375 54.828125 56.984375 36.375 \nQ 56.984375 17.96875 50.515625 8.265625 \nQ 44.046875 -1.421875 31.78125 -1.421875 \nQ 19.53125 -1.421875 13.0625 8.265625 \nQ 6.59375 17.96875 6.59375 36.375 \nQ 6.59375 54.828125 13.0625 64.515625 \nQ 19.53125 74.21875 31.78125 74.21875 \nz\n\" id=\"DejaVuSans-48\"/>\n       </defs>\n       <use xlink:href=\"#DejaVuSans-53\"/>\n       <use x=\"63.623047\" xlink:href=\"#DejaVuSans-48\"/>\n      </g>\n     </g>\n    </g>\n    <g id=\"xtick_2\">\n     <g id=\"line2d_2\">\n      <g>\n       <use style=\"stroke:#000000;stroke-width:0.8;\" x=\"278.913685\" xlink:href=\"#md10a7d7ed8\" y=\"271.688565\"/>\n      </g>\n     </g>\n     <g id=\"text_2\">\n      <!-- 100 -->\n      <g transform=\"translate(269.369935 286.287003)scale(0.1 -0.1)\">\n       <defs>\n        <path d=\"M 12.40625 8.296875 \nL 28.515625 8.296875 \nL 28.515625 63.921875 \nL 10.984375 60.40625 \nL 10.984375 69.390625 \nL 28.421875 72.90625 \nL 38.28125 72.90625 \nL 38.28125 8.296875 \nL 54.390625 8.296875 \nL 54.390625 0 \nL 12.40625 0 \nz\n\" id=\"DejaVuSans-49\"/>\n       </defs>\n       <use xlink:href=\"#DejaVuSans-49\"/>\n       <use x=\"63.623047\" xlink:href=\"#DejaVuSans-48\"/>\n       <use x=\"127.246094\" xlink:href=\"#DejaVuSans-48\"/>\n      </g>\n     </g>\n    </g>\n    <g id=\"xtick_3\">\n     <g id=\"line2d_3\">\n      <g>\n       <use style=\"stroke:#000000;stroke-width:0.8;\" x=\"414.306762\" xlink:href=\"#md10a7d7ed8\" y=\"271.688565\"/>\n      </g>\n     </g>\n     <g id=\"text_3\">\n      <!-- 150 -->\n      <g transform=\"translate(404.763012 286.287003)scale(0.1 -0.1)\">\n       <use xlink:href=\"#DejaVuSans-49\"/>\n       <use x=\"63.623047\" xlink:href=\"#DejaVuSans-53\"/>\n       <use x=\"127.246094\" xlink:href=\"#DejaVuSans-48\"/>\n      </g>\n     </g>\n    </g>\n    <g id=\"xtick_4\">\n     <g id=\"line2d_4\">\n      <g>\n       <use style=\"stroke:#000000;stroke-width:0.8;\" x=\"549.699838\" xlink:href=\"#md10a7d7ed8\" y=\"271.688565\"/>\n      </g>\n     </g>\n     <g id=\"text_4\">\n      <!-- 200 -->\n      <g transform=\"translate(540.156088 286.287003)scale(0.1 -0.1)\">\n       <defs>\n        <path d=\"M 19.1875 8.296875 \nL 53.609375 8.296875 \nL 53.609375 0 \nL 7.328125 0 \nL 7.328125 8.296875 \nQ 12.9375 14.109375 22.625 23.890625 \nQ 32.328125 33.6875 34.8125 36.53125 \nQ 39.546875 41.84375 41.421875 45.53125 \nQ 43.3125 49.21875 43.3125 52.78125 \nQ 43.3125 58.59375 39.234375 62.25 \nQ 35.15625 65.921875 28.609375 65.921875 \nQ 23.96875 65.921875 18.8125 64.3125 \nQ 13.671875 62.703125 7.8125 59.421875 \nL 7.8125 69.390625 \nQ 13.765625 71.78125 18.9375 73 \nQ 24.125 74.21875 28.421875 74.21875 \nQ 39.75 74.21875 46.484375 68.546875 \nQ 53.21875 62.890625 53.21875 53.421875 \nQ 53.21875 48.921875 51.53125 44.890625 \nQ 49.859375 40.875 45.40625 35.40625 \nQ 44.1875 33.984375 37.640625 27.21875 \nQ 31.109375 20.453125 19.1875 8.296875 \nz\n\" id=\"DejaVuSans-50\"/>\n       </defs>\n       <use xlink:href=\"#DejaVuSans-50\"/>\n       <use x=\"63.623047\" xlink:href=\"#DejaVuSans-48\"/>\n       <use x=\"127.246094\" xlink:href=\"#DejaVuSans-48\"/>\n      </g>\n     </g>\n    </g>\n    <g id=\"xtick_5\">\n     <g id=\"line2d_5\">\n      <g>\n       <use style=\"stroke:#000000;stroke-width:0.8;\" x=\"685.092915\" xlink:href=\"#md10a7d7ed8\" y=\"271.688565\"/>\n      </g>\n     </g>\n     <g id=\"text_5\">\n      <!-- 250 -->\n      <g transform=\"translate(675.549165 286.287003)scale(0.1 -0.1)\">\n       <use xlink:href=\"#DejaVuSans-50\"/>\n       <use x=\"63.623047\" xlink:href=\"#DejaVuSans-53\"/>\n       <use x=\"127.246094\" xlink:href=\"#DejaVuSans-48\"/>\n      </g>\n     </g>\n    </g>\n    <g id=\"xtick_6\">\n     <g id=\"line2d_6\">\n      <g>\n       <use style=\"stroke:#000000;stroke-width:0.8;\" x=\"820.485992\" xlink:href=\"#md10a7d7ed8\" y=\"271.688565\"/>\n      </g>\n     </g>\n     <g id=\"text_6\">\n      <!-- 300 -->\n      <g transform=\"translate(810.942242 286.287003)scale(0.1 -0.1)\">\n       <defs>\n        <path d=\"M 40.578125 39.3125 \nQ 47.65625 37.796875 51.625 33 \nQ 55.609375 28.21875 55.609375 21.1875 \nQ 55.609375 10.40625 48.1875 4.484375 \nQ 40.765625 -1.421875 27.09375 -1.421875 \nQ 22.515625 -1.421875 17.65625 -0.515625 \nQ 12.796875 0.390625 7.625 2.203125 \nL 7.625 11.71875 \nQ 11.71875 9.328125 16.59375 8.109375 \nQ 21.484375 6.890625 26.8125 6.890625 \nQ 36.078125 6.890625 40.9375 10.546875 \nQ 45.796875 14.203125 45.796875 21.1875 \nQ 45.796875 27.640625 41.28125 31.265625 \nQ 36.765625 34.90625 28.71875 34.90625 \nL 20.21875 34.90625 \nL 20.21875 43.015625 \nL 29.109375 43.015625 \nQ 36.375 43.015625 40.234375 45.921875 \nQ 44.09375 48.828125 44.09375 54.296875 \nQ 44.09375 59.90625 40.109375 62.90625 \nQ 36.140625 65.921875 28.71875 65.921875 \nQ 24.65625 65.921875 20.015625 65.03125 \nQ 15.375 64.15625 9.8125 62.3125 \nL 9.8125 71.09375 \nQ 15.4375 72.65625 20.34375 73.4375 \nQ 25.25 74.21875 29.59375 74.21875 \nQ 40.828125 74.21875 47.359375 69.109375 \nQ 53.90625 64.015625 53.90625 55.328125 \nQ 53.90625 49.265625 50.4375 45.09375 \nQ 46.96875 40.921875 40.578125 39.3125 \nz\n\" id=\"DejaVuSans-51\"/>\n       </defs>\n       <use xlink:href=\"#DejaVuSans-51\"/>\n       <use x=\"63.623047\" xlink:href=\"#DejaVuSans-48\"/>\n       <use x=\"127.246094\" xlink:href=\"#DejaVuSans-48\"/>\n      </g>\n     </g>\n    </g>\n   </g>\n   <g id=\"matplotlib.axis_2\">\n    <g id=\"ytick_1\">\n     <g id=\"line2d_7\">\n      <defs>\n       <path d=\"M 0 0 \nL -3.5 0 \n\" id=\"m6151c7f467\" style=\"stroke:#000000;stroke-width:0.8;\"/>\n      </defs>\n      <g>\n       <use style=\"stroke:#000000;stroke-width:0.8;\" x=\"10.7\" xlink:href=\"#m6151c7f467\" y=\"148.143111\"/>\n      </g>\n     </g>\n    </g>\n   </g>\n   <g id=\"line2d_8\">\n    <path clip-path=\"url(#pd4fbdfc5aa)\" d=\"M 184.138531 148.143111 \nL 48.745455 148.143111 \n\" style=\"fill:none;stroke:#3f3f3f;stroke-linecap:square;stroke-width:1.5;\"/>\n   </g>\n   <g id=\"line2d_9\">\n    <path clip-path=\"url(#pd4fbdfc5aa)\" d=\"M 335.778777 148.143111 \nL 563.239146 148.143111 \n\" style=\"fill:none;stroke:#3f3f3f;stroke-linecap:square;stroke-width:1.5;\"/>\n   </g>\n   <g id=\"line2d_10\">\n    <path clip-path=\"url(#pd4fbdfc5aa)\" d=\"M 48.745455 98.724929 \nL 48.745455 197.561293 \n\" style=\"fill:none;stroke:#3f3f3f;stroke-linecap:square;stroke-width:1.5;\"/>\n   </g>\n   <g id=\"line2d_11\">\n    <path clip-path=\"url(#pd4fbdfc5aa)\" d=\"M 563.239146 98.724929 \nL 563.239146 197.561293 \n\" style=\"fill:none;stroke:#3f3f3f;stroke-linecap:square;stroke-width:1.5;\"/>\n   </g>\n   <g id=\"line2d_12\">\n    <defs>\n     <path d=\"M -0 3.535534 \nL 2.12132 0 \nL -0 -3.535534 \nL -2.12132 -0 \nz\n\" id=\"mfdb5162cb8\" style=\"stroke:#3f3f3f;stroke-linejoin:miter;\"/>\n    </defs>\n    <g clip-path=\"url(#pd4fbdfc5aa)\">\n     <use style=\"fill:#3f3f3f;stroke:#3f3f3f;stroke-linejoin:miter;\" x=\"565.947007\" xlink:href=\"#mfdb5162cb8\" y=\"148.143111\"/>\n     <use style=\"fill:#3f3f3f;stroke:#3f3f3f;stroke-linejoin:miter;\" x=\"565.947007\" xlink:href=\"#mfdb5162cb8\" y=\"148.143111\"/>\n     <use style=\"fill:#3f3f3f;stroke:#3f3f3f;stroke-linejoin:miter;\" x=\"565.947007\" xlink:href=\"#mfdb5162cb8\" y=\"148.143111\"/>\n     <use style=\"fill:#3f3f3f;stroke:#3f3f3f;stroke-linejoin:miter;\" x=\"565.947007\" xlink:href=\"#mfdb5162cb8\" y=\"148.143111\"/>\n     <use style=\"fill:#3f3f3f;stroke:#3f3f3f;stroke-linejoin:miter;\" x=\"565.947007\" xlink:href=\"#mfdb5162cb8\" y=\"148.143111\"/>\n     <use style=\"fill:#3f3f3f;stroke:#3f3f3f;stroke-linejoin:miter;\" x=\"565.947007\" xlink:href=\"#mfdb5162cb8\" y=\"148.143111\"/>\n     <use style=\"fill:#3f3f3f;stroke:#3f3f3f;stroke-linejoin:miter;\" x=\"565.947007\" xlink:href=\"#mfdb5162cb8\" y=\"148.143111\"/>\n     <use style=\"fill:#3f3f3f;stroke:#3f3f3f;stroke-linejoin:miter;\" x=\"565.947007\" xlink:href=\"#mfdb5162cb8\" y=\"148.143111\"/>\n     <use style=\"fill:#3f3f3f;stroke:#3f3f3f;stroke-linejoin:miter;\" x=\"565.947007\" xlink:href=\"#mfdb5162cb8\" y=\"148.143111\"/>\n     <use style=\"fill:#3f3f3f;stroke:#3f3f3f;stroke-linejoin:miter;\" x=\"568.654869\" xlink:href=\"#mfdb5162cb8\" y=\"148.143111\"/>\n     <use style=\"fill:#3f3f3f;stroke:#3f3f3f;stroke-linejoin:miter;\" x=\"568.654869\" xlink:href=\"#mfdb5162cb8\" y=\"148.143111\"/>\n     <use style=\"fill:#3f3f3f;stroke:#3f3f3f;stroke-linejoin:miter;\" x=\"568.654869\" xlink:href=\"#mfdb5162cb8\" y=\"148.143111\"/>\n     <use style=\"fill:#3f3f3f;stroke:#3f3f3f;stroke-linejoin:miter;\" x=\"568.654869\" xlink:href=\"#mfdb5162cb8\" y=\"148.143111\"/>\n     <use style=\"fill:#3f3f3f;stroke:#3f3f3f;stroke-linejoin:miter;\" x=\"571.362731\" xlink:href=\"#mfdb5162cb8\" y=\"148.143111\"/>\n     <use style=\"fill:#3f3f3f;stroke:#3f3f3f;stroke-linejoin:miter;\" x=\"574.070592\" xlink:href=\"#mfdb5162cb8\" y=\"148.143111\"/>\n     <use style=\"fill:#3f3f3f;stroke:#3f3f3f;stroke-linejoin:miter;\" x=\"574.070592\" xlink:href=\"#mfdb5162cb8\" y=\"148.143111\"/>\n     <use style=\"fill:#3f3f3f;stroke:#3f3f3f;stroke-linejoin:miter;\" x=\"574.070592\" xlink:href=\"#mfdb5162cb8\" y=\"148.143111\"/>\n     <use style=\"fill:#3f3f3f;stroke:#3f3f3f;stroke-linejoin:miter;\" x=\"576.778454\" xlink:href=\"#mfdb5162cb8\" y=\"148.143111\"/>\n     <use style=\"fill:#3f3f3f;stroke:#3f3f3f;stroke-linejoin:miter;\" x=\"576.778454\" xlink:href=\"#mfdb5162cb8\" y=\"148.143111\"/>\n     <use style=\"fill:#3f3f3f;stroke:#3f3f3f;stroke-linejoin:miter;\" x=\"576.778454\" xlink:href=\"#mfdb5162cb8\" y=\"148.143111\"/>\n     <use style=\"fill:#3f3f3f;stroke:#3f3f3f;stroke-linejoin:miter;\" x=\"576.778454\" xlink:href=\"#mfdb5162cb8\" y=\"148.143111\"/>\n     <use style=\"fill:#3f3f3f;stroke:#3f3f3f;stroke-linejoin:miter;\" x=\"576.778454\" xlink:href=\"#mfdb5162cb8\" y=\"148.143111\"/>\n     <use style=\"fill:#3f3f3f;stroke:#3f3f3f;stroke-linejoin:miter;\" x=\"576.778454\" xlink:href=\"#mfdb5162cb8\" y=\"148.143111\"/>\n     <use style=\"fill:#3f3f3f;stroke:#3f3f3f;stroke-linejoin:miter;\" x=\"576.778454\" xlink:href=\"#mfdb5162cb8\" y=\"148.143111\"/>\n     <use style=\"fill:#3f3f3f;stroke:#3f3f3f;stroke-linejoin:miter;\" x=\"576.778454\" xlink:href=\"#mfdb5162cb8\" y=\"148.143111\"/>\n     <use style=\"fill:#3f3f3f;stroke:#3f3f3f;stroke-linejoin:miter;\" x=\"576.778454\" xlink:href=\"#mfdb5162cb8\" y=\"148.143111\"/>\n     <use style=\"fill:#3f3f3f;stroke:#3f3f3f;stroke-linejoin:miter;\" x=\"576.778454\" xlink:href=\"#mfdb5162cb8\" y=\"148.143111\"/>\n     <use style=\"fill:#3f3f3f;stroke:#3f3f3f;stroke-linejoin:miter;\" x=\"579.486315\" xlink:href=\"#mfdb5162cb8\" y=\"148.143111\"/>\n     <use style=\"fill:#3f3f3f;stroke:#3f3f3f;stroke-linejoin:miter;\" x=\"579.486315\" xlink:href=\"#mfdb5162cb8\" y=\"148.143111\"/>\n     <use style=\"fill:#3f3f3f;stroke:#3f3f3f;stroke-linejoin:miter;\" x=\"579.486315\" xlink:href=\"#mfdb5162cb8\" y=\"148.143111\"/>\n     <use style=\"fill:#3f3f3f;stroke:#3f3f3f;stroke-linejoin:miter;\" x=\"579.486315\" xlink:href=\"#mfdb5162cb8\" y=\"148.143111\"/>\n     <use style=\"fill:#3f3f3f;stroke:#3f3f3f;stroke-linejoin:miter;\" x=\"582.194177\" xlink:href=\"#mfdb5162cb8\" y=\"148.143111\"/>\n     <use style=\"fill:#3f3f3f;stroke:#3f3f3f;stroke-linejoin:miter;\" x=\"582.194177\" xlink:href=\"#mfdb5162cb8\" y=\"148.143111\"/>\n     <use style=\"fill:#3f3f3f;stroke:#3f3f3f;stroke-linejoin:miter;\" x=\"582.194177\" xlink:href=\"#mfdb5162cb8\" y=\"148.143111\"/>\n     <use style=\"fill:#3f3f3f;stroke:#3f3f3f;stroke-linejoin:miter;\" x=\"582.194177\" xlink:href=\"#mfdb5162cb8\" y=\"148.143111\"/>\n     <use style=\"fill:#3f3f3f;stroke:#3f3f3f;stroke-linejoin:miter;\" x=\"584.902038\" xlink:href=\"#mfdb5162cb8\" y=\"148.143111\"/>\n     <use style=\"fill:#3f3f3f;stroke:#3f3f3f;stroke-linejoin:miter;\" x=\"584.902038\" xlink:href=\"#mfdb5162cb8\" y=\"148.143111\"/>\n     <use style=\"fill:#3f3f3f;stroke:#3f3f3f;stroke-linejoin:miter;\" x=\"584.902038\" xlink:href=\"#mfdb5162cb8\" y=\"148.143111\"/>\n     <use style=\"fill:#3f3f3f;stroke:#3f3f3f;stroke-linejoin:miter;\" x=\"584.902038\" xlink:href=\"#mfdb5162cb8\" y=\"148.143111\"/>\n     <use style=\"fill:#3f3f3f;stroke:#3f3f3f;stroke-linejoin:miter;\" x=\"584.902038\" xlink:href=\"#mfdb5162cb8\" y=\"148.143111\"/>\n     <use style=\"fill:#3f3f3f;stroke:#3f3f3f;stroke-linejoin:miter;\" x=\"584.902038\" xlink:href=\"#mfdb5162cb8\" y=\"148.143111\"/>\n     <use style=\"fill:#3f3f3f;stroke:#3f3f3f;stroke-linejoin:miter;\" x=\"587.6099\" xlink:href=\"#mfdb5162cb8\" y=\"148.143111\"/>\n     <use style=\"fill:#3f3f3f;stroke:#3f3f3f;stroke-linejoin:miter;\" x=\"587.6099\" xlink:href=\"#mfdb5162cb8\" y=\"148.143111\"/>\n     <use style=\"fill:#3f3f3f;stroke:#3f3f3f;stroke-linejoin:miter;\" x=\"587.6099\" xlink:href=\"#mfdb5162cb8\" y=\"148.143111\"/>\n     <use style=\"fill:#3f3f3f;stroke:#3f3f3f;stroke-linejoin:miter;\" x=\"587.6099\" xlink:href=\"#mfdb5162cb8\" y=\"148.143111\"/>\n     <use style=\"fill:#3f3f3f;stroke:#3f3f3f;stroke-linejoin:miter;\" x=\"587.6099\" xlink:href=\"#mfdb5162cb8\" y=\"148.143111\"/>\n     <use style=\"fill:#3f3f3f;stroke:#3f3f3f;stroke-linejoin:miter;\" x=\"587.6099\" xlink:href=\"#mfdb5162cb8\" y=\"148.143111\"/>\n     <use style=\"fill:#3f3f3f;stroke:#3f3f3f;stroke-linejoin:miter;\" x=\"587.6099\" xlink:href=\"#mfdb5162cb8\" y=\"148.143111\"/>\n     <use style=\"fill:#3f3f3f;stroke:#3f3f3f;stroke-linejoin:miter;\" x=\"587.6099\" xlink:href=\"#mfdb5162cb8\" y=\"148.143111\"/>\n     <use style=\"fill:#3f3f3f;stroke:#3f3f3f;stroke-linejoin:miter;\" x=\"590.317761\" xlink:href=\"#mfdb5162cb8\" y=\"148.143111\"/>\n     <use style=\"fill:#3f3f3f;stroke:#3f3f3f;stroke-linejoin:miter;\" x=\"590.317761\" xlink:href=\"#mfdb5162cb8\" y=\"148.143111\"/>\n     <use style=\"fill:#3f3f3f;stroke:#3f3f3f;stroke-linejoin:miter;\" x=\"590.317761\" xlink:href=\"#mfdb5162cb8\" y=\"148.143111\"/>\n     <use style=\"fill:#3f3f3f;stroke:#3f3f3f;stroke-linejoin:miter;\" x=\"590.317761\" xlink:href=\"#mfdb5162cb8\" y=\"148.143111\"/>\n     <use style=\"fill:#3f3f3f;stroke:#3f3f3f;stroke-linejoin:miter;\" x=\"590.317761\" xlink:href=\"#mfdb5162cb8\" y=\"148.143111\"/>\n     <use style=\"fill:#3f3f3f;stroke:#3f3f3f;stroke-linejoin:miter;\" x=\"590.317761\" xlink:href=\"#mfdb5162cb8\" y=\"148.143111\"/>\n     <use style=\"fill:#3f3f3f;stroke:#3f3f3f;stroke-linejoin:miter;\" x=\"593.025623\" xlink:href=\"#mfdb5162cb8\" y=\"148.143111\"/>\n     <use style=\"fill:#3f3f3f;stroke:#3f3f3f;stroke-linejoin:miter;\" x=\"593.025623\" xlink:href=\"#mfdb5162cb8\" y=\"148.143111\"/>\n     <use style=\"fill:#3f3f3f;stroke:#3f3f3f;stroke-linejoin:miter;\" x=\"593.025623\" xlink:href=\"#mfdb5162cb8\" y=\"148.143111\"/>\n     <use style=\"fill:#3f3f3f;stroke:#3f3f3f;stroke-linejoin:miter;\" x=\"593.025623\" xlink:href=\"#mfdb5162cb8\" y=\"148.143111\"/>\n     <use style=\"fill:#3f3f3f;stroke:#3f3f3f;stroke-linejoin:miter;\" x=\"593.025623\" xlink:href=\"#mfdb5162cb8\" y=\"148.143111\"/>\n     <use style=\"fill:#3f3f3f;stroke:#3f3f3f;stroke-linejoin:miter;\" x=\"593.025623\" xlink:href=\"#mfdb5162cb8\" y=\"148.143111\"/>\n     <use style=\"fill:#3f3f3f;stroke:#3f3f3f;stroke-linejoin:miter;\" x=\"593.025623\" xlink:href=\"#mfdb5162cb8\" y=\"148.143111\"/>\n     <use style=\"fill:#3f3f3f;stroke:#3f3f3f;stroke-linejoin:miter;\" x=\"593.025623\" xlink:href=\"#mfdb5162cb8\" y=\"148.143111\"/>\n     <use style=\"fill:#3f3f3f;stroke:#3f3f3f;stroke-linejoin:miter;\" x=\"593.025623\" xlink:href=\"#mfdb5162cb8\" y=\"148.143111\"/>\n     <use style=\"fill:#3f3f3f;stroke:#3f3f3f;stroke-linejoin:miter;\" x=\"593.025623\" xlink:href=\"#mfdb5162cb8\" y=\"148.143111\"/>\n     <use style=\"fill:#3f3f3f;stroke:#3f3f3f;stroke-linejoin:miter;\" x=\"595.733484\" xlink:href=\"#mfdb5162cb8\" y=\"148.143111\"/>\n     <use style=\"fill:#3f3f3f;stroke:#3f3f3f;stroke-linejoin:miter;\" x=\"595.733484\" xlink:href=\"#mfdb5162cb8\" y=\"148.143111\"/>\n     <use style=\"fill:#3f3f3f;stroke:#3f3f3f;stroke-linejoin:miter;\" x=\"595.733484\" xlink:href=\"#mfdb5162cb8\" y=\"148.143111\"/>\n     <use style=\"fill:#3f3f3f;stroke:#3f3f3f;stroke-linejoin:miter;\" x=\"595.733484\" xlink:href=\"#mfdb5162cb8\" y=\"148.143111\"/>\n     <use style=\"fill:#3f3f3f;stroke:#3f3f3f;stroke-linejoin:miter;\" x=\"595.733484\" xlink:href=\"#mfdb5162cb8\" y=\"148.143111\"/>\n     <use style=\"fill:#3f3f3f;stroke:#3f3f3f;stroke-linejoin:miter;\" x=\"595.733484\" xlink:href=\"#mfdb5162cb8\" y=\"148.143111\"/>\n     <use style=\"fill:#3f3f3f;stroke:#3f3f3f;stroke-linejoin:miter;\" x=\"595.733484\" xlink:href=\"#mfdb5162cb8\" y=\"148.143111\"/>\n     <use style=\"fill:#3f3f3f;stroke:#3f3f3f;stroke-linejoin:miter;\" x=\"595.733484\" xlink:href=\"#mfdb5162cb8\" y=\"148.143111\"/>\n     <use style=\"fill:#3f3f3f;stroke:#3f3f3f;stroke-linejoin:miter;\" x=\"595.733484\" xlink:href=\"#mfdb5162cb8\" y=\"148.143111\"/>\n     <use style=\"fill:#3f3f3f;stroke:#3f3f3f;stroke-linejoin:miter;\" x=\"595.733484\" xlink:href=\"#mfdb5162cb8\" y=\"148.143111\"/>\n     <use style=\"fill:#3f3f3f;stroke:#3f3f3f;stroke-linejoin:miter;\" x=\"595.733484\" xlink:href=\"#mfdb5162cb8\" y=\"148.143111\"/>\n     <use style=\"fill:#3f3f3f;stroke:#3f3f3f;stroke-linejoin:miter;\" x=\"595.733484\" xlink:href=\"#mfdb5162cb8\" y=\"148.143111\"/>\n     <use style=\"fill:#3f3f3f;stroke:#3f3f3f;stroke-linejoin:miter;\" x=\"595.733484\" xlink:href=\"#mfdb5162cb8\" y=\"148.143111\"/>\n     <use style=\"fill:#3f3f3f;stroke:#3f3f3f;stroke-linejoin:miter;\" x=\"598.441346\" xlink:href=\"#mfdb5162cb8\" y=\"148.143111\"/>\n     <use style=\"fill:#3f3f3f;stroke:#3f3f3f;stroke-linejoin:miter;\" x=\"598.441346\" xlink:href=\"#mfdb5162cb8\" y=\"148.143111\"/>\n     <use style=\"fill:#3f3f3f;stroke:#3f3f3f;stroke-linejoin:miter;\" x=\"598.441346\" xlink:href=\"#mfdb5162cb8\" y=\"148.143111\"/>\n     <use style=\"fill:#3f3f3f;stroke:#3f3f3f;stroke-linejoin:miter;\" x=\"601.149207\" xlink:href=\"#mfdb5162cb8\" y=\"148.143111\"/>\n     <use style=\"fill:#3f3f3f;stroke:#3f3f3f;stroke-linejoin:miter;\" x=\"601.149207\" xlink:href=\"#mfdb5162cb8\" y=\"148.143111\"/>\n     <use style=\"fill:#3f3f3f;stroke:#3f3f3f;stroke-linejoin:miter;\" x=\"601.149207\" xlink:href=\"#mfdb5162cb8\" y=\"148.143111\"/>\n     <use style=\"fill:#3f3f3f;stroke:#3f3f3f;stroke-linejoin:miter;\" x=\"601.149207\" xlink:href=\"#mfdb5162cb8\" y=\"148.143111\"/>\n     <use style=\"fill:#3f3f3f;stroke:#3f3f3f;stroke-linejoin:miter;\" x=\"601.149207\" xlink:href=\"#mfdb5162cb8\" y=\"148.143111\"/>\n     <use style=\"fill:#3f3f3f;stroke:#3f3f3f;stroke-linejoin:miter;\" x=\"603.857069\" xlink:href=\"#mfdb5162cb8\" y=\"148.143111\"/>\n     <use style=\"fill:#3f3f3f;stroke:#3f3f3f;stroke-linejoin:miter;\" x=\"603.857069\" xlink:href=\"#mfdb5162cb8\" y=\"148.143111\"/>\n     <use style=\"fill:#3f3f3f;stroke:#3f3f3f;stroke-linejoin:miter;\" x=\"603.857069\" xlink:href=\"#mfdb5162cb8\" y=\"148.143111\"/>\n     <use style=\"fill:#3f3f3f;stroke:#3f3f3f;stroke-linejoin:miter;\" x=\"603.857069\" xlink:href=\"#mfdb5162cb8\" y=\"148.143111\"/>\n     <use style=\"fill:#3f3f3f;stroke:#3f3f3f;stroke-linejoin:miter;\" x=\"606.56493\" xlink:href=\"#mfdb5162cb8\" y=\"148.143111\"/>\n     <use style=\"fill:#3f3f3f;stroke:#3f3f3f;stroke-linejoin:miter;\" x=\"606.56493\" xlink:href=\"#mfdb5162cb8\" y=\"148.143111\"/>\n     <use style=\"fill:#3f3f3f;stroke:#3f3f3f;stroke-linejoin:miter;\" x=\"606.56493\" xlink:href=\"#mfdb5162cb8\" y=\"148.143111\"/>\n     <use style=\"fill:#3f3f3f;stroke:#3f3f3f;stroke-linejoin:miter;\" x=\"606.56493\" xlink:href=\"#mfdb5162cb8\" y=\"148.143111\"/>\n     <use style=\"fill:#3f3f3f;stroke:#3f3f3f;stroke-linejoin:miter;\" x=\"606.56493\" xlink:href=\"#mfdb5162cb8\" y=\"148.143111\"/>\n     <use style=\"fill:#3f3f3f;stroke:#3f3f3f;stroke-linejoin:miter;\" x=\"606.56493\" xlink:href=\"#mfdb5162cb8\" y=\"148.143111\"/>\n     <use style=\"fill:#3f3f3f;stroke:#3f3f3f;stroke-linejoin:miter;\" x=\"606.56493\" xlink:href=\"#mfdb5162cb8\" y=\"148.143111\"/>\n     <use style=\"fill:#3f3f3f;stroke:#3f3f3f;stroke-linejoin:miter;\" x=\"606.56493\" xlink:href=\"#mfdb5162cb8\" y=\"148.143111\"/>\n     <use style=\"fill:#3f3f3f;stroke:#3f3f3f;stroke-linejoin:miter;\" x=\"606.56493\" xlink:href=\"#mfdb5162cb8\" y=\"148.143111\"/>\n     <use style=\"fill:#3f3f3f;stroke:#3f3f3f;stroke-linejoin:miter;\" x=\"606.56493\" xlink:href=\"#mfdb5162cb8\" y=\"148.143111\"/>\n     <use style=\"fill:#3f3f3f;stroke:#3f3f3f;stroke-linejoin:miter;\" x=\"606.56493\" xlink:href=\"#mfdb5162cb8\" y=\"148.143111\"/>\n     <use style=\"fill:#3f3f3f;stroke:#3f3f3f;stroke-linejoin:miter;\" x=\"606.56493\" xlink:href=\"#mfdb5162cb8\" y=\"148.143111\"/>\n     <use style=\"fill:#3f3f3f;stroke:#3f3f3f;stroke-linejoin:miter;\" x=\"606.56493\" xlink:href=\"#mfdb5162cb8\" y=\"148.143111\"/>\n     <use style=\"fill:#3f3f3f;stroke:#3f3f3f;stroke-linejoin:miter;\" x=\"606.56493\" xlink:href=\"#mfdb5162cb8\" y=\"148.143111\"/>\n     <use style=\"fill:#3f3f3f;stroke:#3f3f3f;stroke-linejoin:miter;\" x=\"606.56493\" xlink:href=\"#mfdb5162cb8\" y=\"148.143111\"/>\n     <use style=\"fill:#3f3f3f;stroke:#3f3f3f;stroke-linejoin:miter;\" x=\"609.272792\" xlink:href=\"#mfdb5162cb8\" y=\"148.143111\"/>\n     <use style=\"fill:#3f3f3f;stroke:#3f3f3f;stroke-linejoin:miter;\" x=\"609.272792\" xlink:href=\"#mfdb5162cb8\" y=\"148.143111\"/>\n     <use style=\"fill:#3f3f3f;stroke:#3f3f3f;stroke-linejoin:miter;\" x=\"611.980654\" xlink:href=\"#mfdb5162cb8\" y=\"148.143111\"/>\n     <use style=\"fill:#3f3f3f;stroke:#3f3f3f;stroke-linejoin:miter;\" x=\"611.980654\" xlink:href=\"#mfdb5162cb8\" y=\"148.143111\"/>\n     <use style=\"fill:#3f3f3f;stroke:#3f3f3f;stroke-linejoin:miter;\" x=\"614.688515\" xlink:href=\"#mfdb5162cb8\" y=\"148.143111\"/>\n     <use style=\"fill:#3f3f3f;stroke:#3f3f3f;stroke-linejoin:miter;\" x=\"614.688515\" xlink:href=\"#mfdb5162cb8\" y=\"148.143111\"/>\n     <use style=\"fill:#3f3f3f;stroke:#3f3f3f;stroke-linejoin:miter;\" x=\"617.396377\" xlink:href=\"#mfdb5162cb8\" y=\"148.143111\"/>\n     <use style=\"fill:#3f3f3f;stroke:#3f3f3f;stroke-linejoin:miter;\" x=\"617.396377\" xlink:href=\"#mfdb5162cb8\" y=\"148.143111\"/>\n     <use style=\"fill:#3f3f3f;stroke:#3f3f3f;stroke-linejoin:miter;\" x=\"617.396377\" xlink:href=\"#mfdb5162cb8\" y=\"148.143111\"/>\n     <use style=\"fill:#3f3f3f;stroke:#3f3f3f;stroke-linejoin:miter;\" x=\"617.396377\" xlink:href=\"#mfdb5162cb8\" y=\"148.143111\"/>\n     <use style=\"fill:#3f3f3f;stroke:#3f3f3f;stroke-linejoin:miter;\" x=\"617.396377\" xlink:href=\"#mfdb5162cb8\" y=\"148.143111\"/>\n     <use style=\"fill:#3f3f3f;stroke:#3f3f3f;stroke-linejoin:miter;\" x=\"617.396377\" xlink:href=\"#mfdb5162cb8\" y=\"148.143111\"/>\n     <use style=\"fill:#3f3f3f;stroke:#3f3f3f;stroke-linejoin:miter;\" x=\"620.104238\" xlink:href=\"#mfdb5162cb8\" y=\"148.143111\"/>\n     <use style=\"fill:#3f3f3f;stroke:#3f3f3f;stroke-linejoin:miter;\" x=\"620.104238\" xlink:href=\"#mfdb5162cb8\" y=\"148.143111\"/>\n     <use style=\"fill:#3f3f3f;stroke:#3f3f3f;stroke-linejoin:miter;\" x=\"622.8121\" xlink:href=\"#mfdb5162cb8\" y=\"148.143111\"/>\n     <use style=\"fill:#3f3f3f;stroke:#3f3f3f;stroke-linejoin:miter;\" x=\"622.8121\" xlink:href=\"#mfdb5162cb8\" y=\"148.143111\"/>\n     <use style=\"fill:#3f3f3f;stroke:#3f3f3f;stroke-linejoin:miter;\" x=\"622.8121\" xlink:href=\"#mfdb5162cb8\" y=\"148.143111\"/>\n     <use style=\"fill:#3f3f3f;stroke:#3f3f3f;stroke-linejoin:miter;\" x=\"622.8121\" xlink:href=\"#mfdb5162cb8\" y=\"148.143111\"/>\n     <use style=\"fill:#3f3f3f;stroke:#3f3f3f;stroke-linejoin:miter;\" x=\"622.8121\" xlink:href=\"#mfdb5162cb8\" y=\"148.143111\"/>\n     <use style=\"fill:#3f3f3f;stroke:#3f3f3f;stroke-linejoin:miter;\" x=\"628.227823\" xlink:href=\"#mfdb5162cb8\" y=\"148.143111\"/>\n     <use style=\"fill:#3f3f3f;stroke:#3f3f3f;stroke-linejoin:miter;\" x=\"628.227823\" xlink:href=\"#mfdb5162cb8\" y=\"148.143111\"/>\n     <use style=\"fill:#3f3f3f;stroke:#3f3f3f;stroke-linejoin:miter;\" x=\"628.227823\" xlink:href=\"#mfdb5162cb8\" y=\"148.143111\"/>\n     <use style=\"fill:#3f3f3f;stroke:#3f3f3f;stroke-linejoin:miter;\" x=\"628.227823\" xlink:href=\"#mfdb5162cb8\" y=\"148.143111\"/>\n     <use style=\"fill:#3f3f3f;stroke:#3f3f3f;stroke-linejoin:miter;\" x=\"628.227823\" xlink:href=\"#mfdb5162cb8\" y=\"148.143111\"/>\n     <use style=\"fill:#3f3f3f;stroke:#3f3f3f;stroke-linejoin:miter;\" x=\"628.227823\" xlink:href=\"#mfdb5162cb8\" y=\"148.143111\"/>\n     <use style=\"fill:#3f3f3f;stroke:#3f3f3f;stroke-linejoin:miter;\" x=\"628.227823\" xlink:href=\"#mfdb5162cb8\" y=\"148.143111\"/>\n     <use style=\"fill:#3f3f3f;stroke:#3f3f3f;stroke-linejoin:miter;\" x=\"628.227823\" xlink:href=\"#mfdb5162cb8\" y=\"148.143111\"/>\n     <use style=\"fill:#3f3f3f;stroke:#3f3f3f;stroke-linejoin:miter;\" x=\"630.935684\" xlink:href=\"#mfdb5162cb8\" y=\"148.143111\"/>\n     <use style=\"fill:#3f3f3f;stroke:#3f3f3f;stroke-linejoin:miter;\" x=\"630.935684\" xlink:href=\"#mfdb5162cb8\" y=\"148.143111\"/>\n     <use style=\"fill:#3f3f3f;stroke:#3f3f3f;stroke-linejoin:miter;\" x=\"630.935684\" xlink:href=\"#mfdb5162cb8\" y=\"148.143111\"/>\n     <use style=\"fill:#3f3f3f;stroke:#3f3f3f;stroke-linejoin:miter;\" x=\"633.643546\" xlink:href=\"#mfdb5162cb8\" y=\"148.143111\"/>\n     <use style=\"fill:#3f3f3f;stroke:#3f3f3f;stroke-linejoin:miter;\" x=\"633.643546\" xlink:href=\"#mfdb5162cb8\" y=\"148.143111\"/>\n     <use style=\"fill:#3f3f3f;stroke:#3f3f3f;stroke-linejoin:miter;\" x=\"633.643546\" xlink:href=\"#mfdb5162cb8\" y=\"148.143111\"/>\n     <use style=\"fill:#3f3f3f;stroke:#3f3f3f;stroke-linejoin:miter;\" x=\"636.351407\" xlink:href=\"#mfdb5162cb8\" y=\"148.143111\"/>\n     <use style=\"fill:#3f3f3f;stroke:#3f3f3f;stroke-linejoin:miter;\" x=\"636.351407\" xlink:href=\"#mfdb5162cb8\" y=\"148.143111\"/>\n     <use style=\"fill:#3f3f3f;stroke:#3f3f3f;stroke-linejoin:miter;\" x=\"639.059269\" xlink:href=\"#mfdb5162cb8\" y=\"148.143111\"/>\n     <use style=\"fill:#3f3f3f;stroke:#3f3f3f;stroke-linejoin:miter;\" x=\"639.059269\" xlink:href=\"#mfdb5162cb8\" y=\"148.143111\"/>\n     <use style=\"fill:#3f3f3f;stroke:#3f3f3f;stroke-linejoin:miter;\" x=\"639.059269\" xlink:href=\"#mfdb5162cb8\" y=\"148.143111\"/>\n     <use style=\"fill:#3f3f3f;stroke:#3f3f3f;stroke-linejoin:miter;\" x=\"639.059269\" xlink:href=\"#mfdb5162cb8\" y=\"148.143111\"/>\n     <use style=\"fill:#3f3f3f;stroke:#3f3f3f;stroke-linejoin:miter;\" x=\"641.76713\" xlink:href=\"#mfdb5162cb8\" y=\"148.143111\"/>\n     <use style=\"fill:#3f3f3f;stroke:#3f3f3f;stroke-linejoin:miter;\" x=\"641.76713\" xlink:href=\"#mfdb5162cb8\" y=\"148.143111\"/>\n     <use style=\"fill:#3f3f3f;stroke:#3f3f3f;stroke-linejoin:miter;\" x=\"641.76713\" xlink:href=\"#mfdb5162cb8\" y=\"148.143111\"/>\n     <use style=\"fill:#3f3f3f;stroke:#3f3f3f;stroke-linejoin:miter;\" x=\"641.76713\" xlink:href=\"#mfdb5162cb8\" y=\"148.143111\"/>\n     <use style=\"fill:#3f3f3f;stroke:#3f3f3f;stroke-linejoin:miter;\" x=\"641.76713\" xlink:href=\"#mfdb5162cb8\" y=\"148.143111\"/>\n     <use style=\"fill:#3f3f3f;stroke:#3f3f3f;stroke-linejoin:miter;\" x=\"644.474992\" xlink:href=\"#mfdb5162cb8\" y=\"148.143111\"/>\n     <use style=\"fill:#3f3f3f;stroke:#3f3f3f;stroke-linejoin:miter;\" x=\"644.474992\" xlink:href=\"#mfdb5162cb8\" y=\"148.143111\"/>\n     <use style=\"fill:#3f3f3f;stroke:#3f3f3f;stroke-linejoin:miter;\" x=\"644.474992\" xlink:href=\"#mfdb5162cb8\" y=\"148.143111\"/>\n     <use style=\"fill:#3f3f3f;stroke:#3f3f3f;stroke-linejoin:miter;\" x=\"644.474992\" xlink:href=\"#mfdb5162cb8\" y=\"148.143111\"/>\n     <use style=\"fill:#3f3f3f;stroke:#3f3f3f;stroke-linejoin:miter;\" x=\"644.474992\" xlink:href=\"#mfdb5162cb8\" y=\"148.143111\"/>\n     <use style=\"fill:#3f3f3f;stroke:#3f3f3f;stroke-linejoin:miter;\" x=\"647.182853\" xlink:href=\"#mfdb5162cb8\" y=\"148.143111\"/>\n     <use style=\"fill:#3f3f3f;stroke:#3f3f3f;stroke-linejoin:miter;\" x=\"647.182853\" xlink:href=\"#mfdb5162cb8\" y=\"148.143111\"/>\n     <use style=\"fill:#3f3f3f;stroke:#3f3f3f;stroke-linejoin:miter;\" x=\"649.890715\" xlink:href=\"#mfdb5162cb8\" y=\"148.143111\"/>\n     <use style=\"fill:#3f3f3f;stroke:#3f3f3f;stroke-linejoin:miter;\" x=\"649.890715\" xlink:href=\"#mfdb5162cb8\" y=\"148.143111\"/>\n     <use style=\"fill:#3f3f3f;stroke:#3f3f3f;stroke-linejoin:miter;\" x=\"649.890715\" xlink:href=\"#mfdb5162cb8\" y=\"148.143111\"/>\n     <use style=\"fill:#3f3f3f;stroke:#3f3f3f;stroke-linejoin:miter;\" x=\"649.890715\" xlink:href=\"#mfdb5162cb8\" y=\"148.143111\"/>\n     <use style=\"fill:#3f3f3f;stroke:#3f3f3f;stroke-linejoin:miter;\" x=\"652.598577\" xlink:href=\"#mfdb5162cb8\" y=\"148.143111\"/>\n     <use style=\"fill:#3f3f3f;stroke:#3f3f3f;stroke-linejoin:miter;\" x=\"655.306438\" xlink:href=\"#mfdb5162cb8\" y=\"148.143111\"/>\n     <use style=\"fill:#3f3f3f;stroke:#3f3f3f;stroke-linejoin:miter;\" x=\"655.306438\" xlink:href=\"#mfdb5162cb8\" y=\"148.143111\"/>\n     <use style=\"fill:#3f3f3f;stroke:#3f3f3f;stroke-linejoin:miter;\" x=\"655.306438\" xlink:href=\"#mfdb5162cb8\" y=\"148.143111\"/>\n     <use style=\"fill:#3f3f3f;stroke:#3f3f3f;stroke-linejoin:miter;\" x=\"655.306438\" xlink:href=\"#mfdb5162cb8\" y=\"148.143111\"/>\n     <use style=\"fill:#3f3f3f;stroke:#3f3f3f;stroke-linejoin:miter;\" x=\"655.306438\" xlink:href=\"#mfdb5162cb8\" y=\"148.143111\"/>\n     <use style=\"fill:#3f3f3f;stroke:#3f3f3f;stroke-linejoin:miter;\" x=\"660.722161\" xlink:href=\"#mfdb5162cb8\" y=\"148.143111\"/>\n     <use style=\"fill:#3f3f3f;stroke:#3f3f3f;stroke-linejoin:miter;\" x=\"660.722161\" xlink:href=\"#mfdb5162cb8\" y=\"148.143111\"/>\n     <use style=\"fill:#3f3f3f;stroke:#3f3f3f;stroke-linejoin:miter;\" x=\"663.430023\" xlink:href=\"#mfdb5162cb8\" y=\"148.143111\"/>\n     <use style=\"fill:#3f3f3f;stroke:#3f3f3f;stroke-linejoin:miter;\" x=\"666.137884\" xlink:href=\"#mfdb5162cb8\" y=\"148.143111\"/>\n     <use style=\"fill:#3f3f3f;stroke:#3f3f3f;stroke-linejoin:miter;\" x=\"666.137884\" xlink:href=\"#mfdb5162cb8\" y=\"148.143111\"/>\n     <use style=\"fill:#3f3f3f;stroke:#3f3f3f;stroke-linejoin:miter;\" x=\"668.845746\" xlink:href=\"#mfdb5162cb8\" y=\"148.143111\"/>\n     <use style=\"fill:#3f3f3f;stroke:#3f3f3f;stroke-linejoin:miter;\" x=\"668.845746\" xlink:href=\"#mfdb5162cb8\" y=\"148.143111\"/>\n     <use style=\"fill:#3f3f3f;stroke:#3f3f3f;stroke-linejoin:miter;\" x=\"668.845746\" xlink:href=\"#mfdb5162cb8\" y=\"148.143111\"/>\n     <use style=\"fill:#3f3f3f;stroke:#3f3f3f;stroke-linejoin:miter;\" x=\"668.845746\" xlink:href=\"#mfdb5162cb8\" y=\"148.143111\"/>\n     <use style=\"fill:#3f3f3f;stroke:#3f3f3f;stroke-linejoin:miter;\" x=\"668.845746\" xlink:href=\"#mfdb5162cb8\" y=\"148.143111\"/>\n     <use style=\"fill:#3f3f3f;stroke:#3f3f3f;stroke-linejoin:miter;\" x=\"671.553607\" xlink:href=\"#mfdb5162cb8\" y=\"148.143111\"/>\n     <use style=\"fill:#3f3f3f;stroke:#3f3f3f;stroke-linejoin:miter;\" x=\"671.553607\" xlink:href=\"#mfdb5162cb8\" y=\"148.143111\"/>\n     <use style=\"fill:#3f3f3f;stroke:#3f3f3f;stroke-linejoin:miter;\" x=\"674.261469\" xlink:href=\"#mfdb5162cb8\" y=\"148.143111\"/>\n     <use style=\"fill:#3f3f3f;stroke:#3f3f3f;stroke-linejoin:miter;\" x=\"674.261469\" xlink:href=\"#mfdb5162cb8\" y=\"148.143111\"/>\n     <use style=\"fill:#3f3f3f;stroke:#3f3f3f;stroke-linejoin:miter;\" x=\"674.261469\" xlink:href=\"#mfdb5162cb8\" y=\"148.143111\"/>\n     <use style=\"fill:#3f3f3f;stroke:#3f3f3f;stroke-linejoin:miter;\" x=\"676.96933\" xlink:href=\"#mfdb5162cb8\" y=\"148.143111\"/>\n     <use style=\"fill:#3f3f3f;stroke:#3f3f3f;stroke-linejoin:miter;\" x=\"676.96933\" xlink:href=\"#mfdb5162cb8\" y=\"148.143111\"/>\n     <use style=\"fill:#3f3f3f;stroke:#3f3f3f;stroke-linejoin:miter;\" x=\"676.96933\" xlink:href=\"#mfdb5162cb8\" y=\"148.143111\"/>\n     <use style=\"fill:#3f3f3f;stroke:#3f3f3f;stroke-linejoin:miter;\" x=\"676.96933\" xlink:href=\"#mfdb5162cb8\" y=\"148.143111\"/>\n     <use style=\"fill:#3f3f3f;stroke:#3f3f3f;stroke-linejoin:miter;\" x=\"676.96933\" xlink:href=\"#mfdb5162cb8\" y=\"148.143111\"/>\n     <use style=\"fill:#3f3f3f;stroke:#3f3f3f;stroke-linejoin:miter;\" x=\"676.96933\" xlink:href=\"#mfdb5162cb8\" y=\"148.143111\"/>\n     <use style=\"fill:#3f3f3f;stroke:#3f3f3f;stroke-linejoin:miter;\" x=\"679.677192\" xlink:href=\"#mfdb5162cb8\" y=\"148.143111\"/>\n     <use style=\"fill:#3f3f3f;stroke:#3f3f3f;stroke-linejoin:miter;\" x=\"679.677192\" xlink:href=\"#mfdb5162cb8\" y=\"148.143111\"/>\n     <use style=\"fill:#3f3f3f;stroke:#3f3f3f;stroke-linejoin:miter;\" x=\"679.677192\" xlink:href=\"#mfdb5162cb8\" y=\"148.143111\"/>\n     <use style=\"fill:#3f3f3f;stroke:#3f3f3f;stroke-linejoin:miter;\" x=\"679.677192\" xlink:href=\"#mfdb5162cb8\" y=\"148.143111\"/>\n     <use style=\"fill:#3f3f3f;stroke:#3f3f3f;stroke-linejoin:miter;\" x=\"682.385053\" xlink:href=\"#mfdb5162cb8\" y=\"148.143111\"/>\n     <use style=\"fill:#3f3f3f;stroke:#3f3f3f;stroke-linejoin:miter;\" x=\"682.385053\" xlink:href=\"#mfdb5162cb8\" y=\"148.143111\"/>\n     <use style=\"fill:#3f3f3f;stroke:#3f3f3f;stroke-linejoin:miter;\" x=\"685.092915\" xlink:href=\"#mfdb5162cb8\" y=\"148.143111\"/>\n     <use style=\"fill:#3f3f3f;stroke:#3f3f3f;stroke-linejoin:miter;\" x=\"687.800776\" xlink:href=\"#mfdb5162cb8\" y=\"148.143111\"/>\n     <use style=\"fill:#3f3f3f;stroke:#3f3f3f;stroke-linejoin:miter;\" x=\"690.508638\" xlink:href=\"#mfdb5162cb8\" y=\"148.143111\"/>\n     <use style=\"fill:#3f3f3f;stroke:#3f3f3f;stroke-linejoin:miter;\" x=\"690.508638\" xlink:href=\"#mfdb5162cb8\" y=\"148.143111\"/>\n     <use style=\"fill:#3f3f3f;stroke:#3f3f3f;stroke-linejoin:miter;\" x=\"698.632223\" xlink:href=\"#mfdb5162cb8\" y=\"148.143111\"/>\n     <use style=\"fill:#3f3f3f;stroke:#3f3f3f;stroke-linejoin:miter;\" x=\"698.632223\" xlink:href=\"#mfdb5162cb8\" y=\"148.143111\"/>\n     <use style=\"fill:#3f3f3f;stroke:#3f3f3f;stroke-linejoin:miter;\" x=\"701.340084\" xlink:href=\"#mfdb5162cb8\" y=\"148.143111\"/>\n     <use style=\"fill:#3f3f3f;stroke:#3f3f3f;stroke-linejoin:miter;\" x=\"701.340084\" xlink:href=\"#mfdb5162cb8\" y=\"148.143111\"/>\n     <use style=\"fill:#3f3f3f;stroke:#3f3f3f;stroke-linejoin:miter;\" x=\"701.340084\" xlink:href=\"#mfdb5162cb8\" y=\"148.143111\"/>\n     <use style=\"fill:#3f3f3f;stroke:#3f3f3f;stroke-linejoin:miter;\" x=\"701.340084\" xlink:href=\"#mfdb5162cb8\" y=\"148.143111\"/>\n     <use style=\"fill:#3f3f3f;stroke:#3f3f3f;stroke-linejoin:miter;\" x=\"701.340084\" xlink:href=\"#mfdb5162cb8\" y=\"148.143111\"/>\n     <use style=\"fill:#3f3f3f;stroke:#3f3f3f;stroke-linejoin:miter;\" x=\"701.340084\" xlink:href=\"#mfdb5162cb8\" y=\"148.143111\"/>\n     <use style=\"fill:#3f3f3f;stroke:#3f3f3f;stroke-linejoin:miter;\" x=\"704.047946\" xlink:href=\"#mfdb5162cb8\" y=\"148.143111\"/>\n     <use style=\"fill:#3f3f3f;stroke:#3f3f3f;stroke-linejoin:miter;\" x=\"706.755807\" xlink:href=\"#mfdb5162cb8\" y=\"148.143111\"/>\n     <use style=\"fill:#3f3f3f;stroke:#3f3f3f;stroke-linejoin:miter;\" x=\"709.463669\" xlink:href=\"#mfdb5162cb8\" y=\"148.143111\"/>\n     <use style=\"fill:#3f3f3f;stroke:#3f3f3f;stroke-linejoin:miter;\" x=\"709.463669\" xlink:href=\"#mfdb5162cb8\" y=\"148.143111\"/>\n     <use style=\"fill:#3f3f3f;stroke:#3f3f3f;stroke-linejoin:miter;\" x=\"709.463669\" xlink:href=\"#mfdb5162cb8\" y=\"148.143111\"/>\n     <use style=\"fill:#3f3f3f;stroke:#3f3f3f;stroke-linejoin:miter;\" x=\"712.17153\" xlink:href=\"#mfdb5162cb8\" y=\"148.143111\"/>\n     <use style=\"fill:#3f3f3f;stroke:#3f3f3f;stroke-linejoin:miter;\" x=\"712.17153\" xlink:href=\"#mfdb5162cb8\" y=\"148.143111\"/>\n     <use style=\"fill:#3f3f3f;stroke:#3f3f3f;stroke-linejoin:miter;\" x=\"712.17153\" xlink:href=\"#mfdb5162cb8\" y=\"148.143111\"/>\n     <use style=\"fill:#3f3f3f;stroke:#3f3f3f;stroke-linejoin:miter;\" x=\"714.879392\" xlink:href=\"#mfdb5162cb8\" y=\"148.143111\"/>\n     <use style=\"fill:#3f3f3f;stroke:#3f3f3f;stroke-linejoin:miter;\" x=\"717.587253\" xlink:href=\"#mfdb5162cb8\" y=\"148.143111\"/>\n     <use style=\"fill:#3f3f3f;stroke:#3f3f3f;stroke-linejoin:miter;\" x=\"717.587253\" xlink:href=\"#mfdb5162cb8\" y=\"148.143111\"/>\n     <use style=\"fill:#3f3f3f;stroke:#3f3f3f;stroke-linejoin:miter;\" x=\"720.295115\" xlink:href=\"#mfdb5162cb8\" y=\"148.143111\"/>\n     <use style=\"fill:#3f3f3f;stroke:#3f3f3f;stroke-linejoin:miter;\" x=\"723.002976\" xlink:href=\"#mfdb5162cb8\" y=\"148.143111\"/>\n     <use style=\"fill:#3f3f3f;stroke:#3f3f3f;stroke-linejoin:miter;\" x=\"725.710838\" xlink:href=\"#mfdb5162cb8\" y=\"148.143111\"/>\n     <use style=\"fill:#3f3f3f;stroke:#3f3f3f;stroke-linejoin:miter;\" x=\"725.710838\" xlink:href=\"#mfdb5162cb8\" y=\"148.143111\"/>\n     <use style=\"fill:#3f3f3f;stroke:#3f3f3f;stroke-linejoin:miter;\" x=\"728.418699\" xlink:href=\"#mfdb5162cb8\" y=\"148.143111\"/>\n     <use style=\"fill:#3f3f3f;stroke:#3f3f3f;stroke-linejoin:miter;\" x=\"728.418699\" xlink:href=\"#mfdb5162cb8\" y=\"148.143111\"/>\n     <use style=\"fill:#3f3f3f;stroke:#3f3f3f;stroke-linejoin:miter;\" x=\"728.418699\" xlink:href=\"#mfdb5162cb8\" y=\"148.143111\"/>\n     <use style=\"fill:#3f3f3f;stroke:#3f3f3f;stroke-linejoin:miter;\" x=\"728.418699\" xlink:href=\"#mfdb5162cb8\" y=\"148.143111\"/>\n     <use style=\"fill:#3f3f3f;stroke:#3f3f3f;stroke-linejoin:miter;\" x=\"731.126561\" xlink:href=\"#mfdb5162cb8\" y=\"148.143111\"/>\n     <use style=\"fill:#3f3f3f;stroke:#3f3f3f;stroke-linejoin:miter;\" x=\"731.126561\" xlink:href=\"#mfdb5162cb8\" y=\"148.143111\"/>\n     <use style=\"fill:#3f3f3f;stroke:#3f3f3f;stroke-linejoin:miter;\" x=\"731.126561\" xlink:href=\"#mfdb5162cb8\" y=\"148.143111\"/>\n     <use style=\"fill:#3f3f3f;stroke:#3f3f3f;stroke-linejoin:miter;\" x=\"731.126561\" xlink:href=\"#mfdb5162cb8\" y=\"148.143111\"/>\n     <use style=\"fill:#3f3f3f;stroke:#3f3f3f;stroke-linejoin:miter;\" x=\"731.126561\" xlink:href=\"#mfdb5162cb8\" y=\"148.143111\"/>\n     <use style=\"fill:#3f3f3f;stroke:#3f3f3f;stroke-linejoin:miter;\" x=\"733.834423\" xlink:href=\"#mfdb5162cb8\" y=\"148.143111\"/>\n     <use style=\"fill:#3f3f3f;stroke:#3f3f3f;stroke-linejoin:miter;\" x=\"736.542284\" xlink:href=\"#mfdb5162cb8\" y=\"148.143111\"/>\n     <use style=\"fill:#3f3f3f;stroke:#3f3f3f;stroke-linejoin:miter;\" x=\"744.665869\" xlink:href=\"#mfdb5162cb8\" y=\"148.143111\"/>\n     <use style=\"fill:#3f3f3f;stroke:#3f3f3f;stroke-linejoin:miter;\" x=\"747.37373\" xlink:href=\"#mfdb5162cb8\" y=\"148.143111\"/>\n     <use style=\"fill:#3f3f3f;stroke:#3f3f3f;stroke-linejoin:miter;\" x=\"747.37373\" xlink:href=\"#mfdb5162cb8\" y=\"148.143111\"/>\n     <use style=\"fill:#3f3f3f;stroke:#3f3f3f;stroke-linejoin:miter;\" x=\"750.081592\" xlink:href=\"#mfdb5162cb8\" y=\"148.143111\"/>\n     <use style=\"fill:#3f3f3f;stroke:#3f3f3f;stroke-linejoin:miter;\" x=\"750.081592\" xlink:href=\"#mfdb5162cb8\" y=\"148.143111\"/>\n     <use style=\"fill:#3f3f3f;stroke:#3f3f3f;stroke-linejoin:miter;\" x=\"752.789453\" xlink:href=\"#mfdb5162cb8\" y=\"148.143111\"/>\n     <use style=\"fill:#3f3f3f;stroke:#3f3f3f;stroke-linejoin:miter;\" x=\"760.913038\" xlink:href=\"#mfdb5162cb8\" y=\"148.143111\"/>\n     <use style=\"fill:#3f3f3f;stroke:#3f3f3f;stroke-linejoin:miter;\" x=\"760.913038\" xlink:href=\"#mfdb5162cb8\" y=\"148.143111\"/>\n     <use style=\"fill:#3f3f3f;stroke:#3f3f3f;stroke-linejoin:miter;\" x=\"760.913038\" xlink:href=\"#mfdb5162cb8\" y=\"148.143111\"/>\n     <use style=\"fill:#3f3f3f;stroke:#3f3f3f;stroke-linejoin:miter;\" x=\"760.913038\" xlink:href=\"#mfdb5162cb8\" y=\"148.143111\"/>\n     <use style=\"fill:#3f3f3f;stroke:#3f3f3f;stroke-linejoin:miter;\" x=\"760.913038\" xlink:href=\"#mfdb5162cb8\" y=\"148.143111\"/>\n     <use style=\"fill:#3f3f3f;stroke:#3f3f3f;stroke-linejoin:miter;\" x=\"763.620899\" xlink:href=\"#mfdb5162cb8\" y=\"148.143111\"/>\n     <use style=\"fill:#3f3f3f;stroke:#3f3f3f;stroke-linejoin:miter;\" x=\"766.328761\" xlink:href=\"#mfdb5162cb8\" y=\"148.143111\"/>\n     <use style=\"fill:#3f3f3f;stroke:#3f3f3f;stroke-linejoin:miter;\" x=\"779.868069\" xlink:href=\"#mfdb5162cb8\" y=\"148.143111\"/>\n     <use style=\"fill:#3f3f3f;stroke:#3f3f3f;stroke-linejoin:miter;\" x=\"779.868069\" xlink:href=\"#mfdb5162cb8\" y=\"148.143111\"/>\n     <use style=\"fill:#3f3f3f;stroke:#3f3f3f;stroke-linejoin:miter;\" x=\"782.57593\" xlink:href=\"#mfdb5162cb8\" y=\"148.143111\"/>\n     <use style=\"fill:#3f3f3f;stroke:#3f3f3f;stroke-linejoin:miter;\" x=\"782.57593\" xlink:href=\"#mfdb5162cb8\" y=\"148.143111\"/>\n     <use style=\"fill:#3f3f3f;stroke:#3f3f3f;stroke-linejoin:miter;\" x=\"782.57593\" xlink:href=\"#mfdb5162cb8\" y=\"148.143111\"/>\n     <use style=\"fill:#3f3f3f;stroke:#3f3f3f;stroke-linejoin:miter;\" x=\"782.57593\" xlink:href=\"#mfdb5162cb8\" y=\"148.143111\"/>\n     <use style=\"fill:#3f3f3f;stroke:#3f3f3f;stroke-linejoin:miter;\" x=\"793.407376\" xlink:href=\"#mfdb5162cb8\" y=\"148.143111\"/>\n     <use style=\"fill:#3f3f3f;stroke:#3f3f3f;stroke-linejoin:miter;\" x=\"796.115238\" xlink:href=\"#mfdb5162cb8\" y=\"148.143111\"/>\n     <use style=\"fill:#3f3f3f;stroke:#3f3f3f;stroke-linejoin:miter;\" x=\"798.823099\" xlink:href=\"#mfdb5162cb8\" y=\"148.143111\"/>\n     <use style=\"fill:#3f3f3f;stroke:#3f3f3f;stroke-linejoin:miter;\" x=\"801.530961\" xlink:href=\"#mfdb5162cb8\" y=\"148.143111\"/>\n     <use style=\"fill:#3f3f3f;stroke:#3f3f3f;stroke-linejoin:miter;\" x=\"801.530961\" xlink:href=\"#mfdb5162cb8\" y=\"148.143111\"/>\n     <use style=\"fill:#3f3f3f;stroke:#3f3f3f;stroke-linejoin:miter;\" x=\"801.530961\" xlink:href=\"#mfdb5162cb8\" y=\"148.143111\"/>\n     <use style=\"fill:#3f3f3f;stroke:#3f3f3f;stroke-linejoin:miter;\" x=\"804.238822\" xlink:href=\"#mfdb5162cb8\" y=\"148.143111\"/>\n     <use style=\"fill:#3f3f3f;stroke:#3f3f3f;stroke-linejoin:miter;\" x=\"804.238822\" xlink:href=\"#mfdb5162cb8\" y=\"148.143111\"/>\n     <use style=\"fill:#3f3f3f;stroke:#3f3f3f;stroke-linejoin:miter;\" x=\"804.238822\" xlink:href=\"#mfdb5162cb8\" y=\"148.143111\"/>\n     <use style=\"fill:#3f3f3f;stroke:#3f3f3f;stroke-linejoin:miter;\" x=\"809.654545\" xlink:href=\"#mfdb5162cb8\" y=\"148.143111\"/>\n     <use style=\"fill:#3f3f3f;stroke:#3f3f3f;stroke-linejoin:miter;\" x=\"809.654545\" xlink:href=\"#mfdb5162cb8\" y=\"148.143111\"/>\n    </g>\n   </g>\n   <g id=\"line2d_13\">\n    <path clip-path=\"url(#pd4fbdfc5aa)\" d=\"M 249.127208 49.306747 \nL 249.127208 246.979474 \n\" style=\"fill:none;stroke:#3f3f3f;stroke-linecap:square;stroke-width:1.5;\"/>\n   </g>\n   <g id=\"patch_4\">\n    <path d=\"M 10.7 271.688565 \nL 10.7 24.597656 \n\" style=\"fill:none;stroke:#000000;stroke-linecap:square;stroke-linejoin:miter;stroke-width:0.8;\"/>\n   </g>\n   <g id=\"patch_5\">\n    <path d=\"M 847.7 271.688565 \nL 847.7 24.597656 \n\" style=\"fill:none;stroke:#000000;stroke-linecap:square;stroke-linejoin:miter;stroke-width:0.8;\"/>\n   </g>\n   <g id=\"patch_6\">\n    <path d=\"M 10.7 271.688565 \nL 847.7 271.688565 \n\" style=\"fill:none;stroke:#000000;stroke-linecap:square;stroke-linejoin:miter;stroke-width:0.8;\"/>\n   </g>\n   <g id=\"patch_7\">\n    <path d=\"M 10.7 24.597656 \nL 847.7 24.597656 \n\" style=\"fill:none;stroke:#000000;stroke-linecap:square;stroke-linejoin:miter;stroke-width:0.8;\"/>\n   </g>\n   <g id=\"text_7\">\n    <!-- Train -->\n    <g transform=\"translate(411.209375 18.597656)scale(0.15 -0.15)\">\n     <defs>\n      <path d=\"M -0.296875 72.90625 \nL 61.375 72.90625 \nL 61.375 64.59375 \nL 35.5 64.59375 \nL 35.5 0 \nL 25.59375 0 \nL 25.59375 64.59375 \nL -0.296875 64.59375 \nz\n\" id=\"DejaVuSans-84\"/>\n      <path d=\"M 41.109375 46.296875 \nQ 39.59375 47.171875 37.8125 47.578125 \nQ 36.03125 48 33.890625 48 \nQ 26.265625 48 22.1875 43.046875 \nQ 18.109375 38.09375 18.109375 28.8125 \nL 18.109375 0 \nL 9.078125 0 \nL 9.078125 54.6875 \nL 18.109375 54.6875 \nL 18.109375 46.1875 \nQ 20.953125 51.171875 25.484375 53.578125 \nQ 30.03125 56 36.53125 56 \nQ 37.453125 56 38.578125 55.875 \nQ 39.703125 55.765625 41.0625 55.515625 \nz\n\" id=\"DejaVuSans-114\"/>\n      <path d=\"M 34.28125 27.484375 \nQ 23.390625 27.484375 19.1875 25 \nQ 14.984375 22.515625 14.984375 16.5 \nQ 14.984375 11.71875 18.140625 8.90625 \nQ 21.296875 6.109375 26.703125 6.109375 \nQ 34.1875 6.109375 38.703125 11.40625 \nQ 43.21875 16.703125 43.21875 25.484375 \nL 43.21875 27.484375 \nz\nM 52.203125 31.203125 \nL 52.203125 0 \nL 43.21875 0 \nL 43.21875 8.296875 \nQ 40.140625 3.328125 35.546875 0.953125 \nQ 30.953125 -1.421875 24.3125 -1.421875 \nQ 15.921875 -1.421875 10.953125 3.296875 \nQ 6 8.015625 6 15.921875 \nQ 6 25.140625 12.171875 29.828125 \nQ 18.359375 34.515625 30.609375 34.515625 \nL 43.21875 34.515625 \nL 43.21875 35.40625 \nQ 43.21875 41.609375 39.140625 45 \nQ 35.0625 48.390625 27.6875 48.390625 \nQ 23 48.390625 18.546875 47.265625 \nQ 14.109375 46.140625 10.015625 43.890625 \nL 10.015625 52.203125 \nQ 14.9375 54.109375 19.578125 55.046875 \nQ 24.21875 56 28.609375 56 \nQ 40.484375 56 46.34375 49.84375 \nQ 52.203125 43.703125 52.203125 31.203125 \nz\n\" id=\"DejaVuSans-97\"/>\n      <path d=\"M 9.421875 54.6875 \nL 18.40625 54.6875 \nL 18.40625 0 \nL 9.421875 0 \nz\nM 9.421875 75.984375 \nL 18.40625 75.984375 \nL 18.40625 64.59375 \nL 9.421875 64.59375 \nz\n\" id=\"DejaVuSans-105\"/>\n      <path d=\"M 54.890625 33.015625 \nL 54.890625 0 \nL 45.90625 0 \nL 45.90625 32.71875 \nQ 45.90625 40.484375 42.875 44.328125 \nQ 39.84375 48.1875 33.796875 48.1875 \nQ 26.515625 48.1875 22.3125 43.546875 \nQ 18.109375 38.921875 18.109375 30.90625 \nL 18.109375 0 \nL 9.078125 0 \nL 9.078125 54.6875 \nL 18.109375 54.6875 \nL 18.109375 46.1875 \nQ 21.34375 51.125 25.703125 53.5625 \nQ 30.078125 56 35.796875 56 \nQ 45.21875 56 50.046875 50.171875 \nQ 54.890625 44.34375 54.890625 33.015625 \nz\n\" id=\"DejaVuSans-110\"/>\n     </defs>\n     <use xlink:href=\"#DejaVuSans-84\"/>\n     <use x=\"46.333984\" xlink:href=\"#DejaVuSans-114\"/>\n     <use x=\"87.447266\" xlink:href=\"#DejaVuSans-97\"/>\n     <use x=\"148.726562\" xlink:href=\"#DejaVuSans-105\"/>\n     <use x=\"176.509766\" xlink:href=\"#DejaVuSans-110\"/>\n    </g>\n   </g>\n  </g>\n  <g id=\"axes_2\">\n   <g id=\"patch_8\">\n    <path d=\"M 10.7 568.197656 \nL 847.7 568.197656 \nL 847.7 321.106747 \nL 10.7 321.106747 \nz\n\" style=\"fill:#ffffff;\"/>\n   </g>\n   <g id=\"patch_9\">\n    <path clip-path=\"url(#p0094fbb8ea)\" d=\"M 181.558678 345.815838 \nL 181.558678 543.488565 \nL 336.507438 543.488565 \nL 336.507438 345.815838 \nL 181.558678 345.815838 \nz\n\" style=\"fill:#3274a1;stroke:#3f3f3f;stroke-linejoin:miter;stroke-width:1.5;\"/>\n   </g>\n   <g id=\"matplotlib.axis_3\">\n    <g id=\"xtick_7\">\n     <g id=\"line2d_14\">\n      <g>\n       <use style=\"stroke:#000000;stroke-width:0.8;\" x=\"140.054545\" xlink:href=\"#md10a7d7ed8\" y=\"568.197656\"/>\n      </g>\n     </g>\n     <g id=\"text_8\">\n      <!-- 50 -->\n      <g transform=\"translate(133.692045 582.796094)scale(0.1 -0.1)\">\n       <use xlink:href=\"#DejaVuSans-53\"/>\n       <use x=\"63.623047\" xlink:href=\"#DejaVuSans-48\"/>\n      </g>\n     </g>\n    </g>\n    <g id=\"xtick_8\">\n     <g id=\"line2d_15\">\n      <g>\n       <use style=\"stroke:#000000;stroke-width:0.8;\" x=\"278.401653\" xlink:href=\"#md10a7d7ed8\" y=\"568.197656\"/>\n      </g>\n     </g>\n     <g id=\"text_9\">\n      <!-- 100 -->\n      <g transform=\"translate(268.857903 582.796094)scale(0.1 -0.1)\">\n       <use xlink:href=\"#DejaVuSans-49\"/>\n       <use x=\"63.623047\" xlink:href=\"#DejaVuSans-48\"/>\n       <use x=\"127.246094\" xlink:href=\"#DejaVuSans-48\"/>\n      </g>\n     </g>\n    </g>\n    <g id=\"xtick_9\">\n     <g id=\"line2d_16\">\n      <g>\n       <use style=\"stroke:#000000;stroke-width:0.8;\" x=\"416.74876\" xlink:href=\"#md10a7d7ed8\" y=\"568.197656\"/>\n      </g>\n     </g>\n     <g id=\"text_10\">\n      <!-- 150 -->\n      <g transform=\"translate(407.20501 582.796094)scale(0.1 -0.1)\">\n       <use xlink:href=\"#DejaVuSans-49\"/>\n       <use x=\"63.623047\" xlink:href=\"#DejaVuSans-53\"/>\n       <use x=\"127.246094\" xlink:href=\"#DejaVuSans-48\"/>\n      </g>\n     </g>\n    </g>\n    <g id=\"xtick_10\">\n     <g id=\"line2d_17\">\n      <g>\n       <use style=\"stroke:#000000;stroke-width:0.8;\" x=\"555.095868\" xlink:href=\"#md10a7d7ed8\" y=\"568.197656\"/>\n      </g>\n     </g>\n     <g id=\"text_11\">\n      <!-- 200 -->\n      <g transform=\"translate(545.552118 582.796094)scale(0.1 -0.1)\">\n       <use xlink:href=\"#DejaVuSans-50\"/>\n       <use x=\"63.623047\" xlink:href=\"#DejaVuSans-48\"/>\n       <use x=\"127.246094\" xlink:href=\"#DejaVuSans-48\"/>\n      </g>\n     </g>\n    </g>\n    <g id=\"xtick_11\">\n     <g id=\"line2d_18\">\n      <g>\n       <use style=\"stroke:#000000;stroke-width:0.8;\" x=\"693.442975\" xlink:href=\"#md10a7d7ed8\" y=\"568.197656\"/>\n      </g>\n     </g>\n     <g id=\"text_12\">\n      <!-- 250 -->\n      <g transform=\"translate(683.899225 582.796094)scale(0.1 -0.1)\">\n       <use xlink:href=\"#DejaVuSans-50\"/>\n       <use x=\"63.623047\" xlink:href=\"#DejaVuSans-53\"/>\n       <use x=\"127.246094\" xlink:href=\"#DejaVuSans-48\"/>\n      </g>\n     </g>\n    </g>\n    <g id=\"xtick_12\">\n     <g id=\"line2d_19\">\n      <g>\n       <use style=\"stroke:#000000;stroke-width:0.8;\" x=\"831.790083\" xlink:href=\"#md10a7d7ed8\" y=\"568.197656\"/>\n      </g>\n     </g>\n     <g id=\"text_13\">\n      <!-- 300 -->\n      <g transform=\"translate(822.246333 582.796094)scale(0.1 -0.1)\">\n       <use xlink:href=\"#DejaVuSans-51\"/>\n       <use x=\"63.623047\" xlink:href=\"#DejaVuSans-48\"/>\n       <use x=\"127.246094\" xlink:href=\"#DejaVuSans-48\"/>\n      </g>\n     </g>\n    </g>\n   </g>\n   <g id=\"matplotlib.axis_4\">\n    <g id=\"ytick_2\">\n     <g id=\"line2d_20\">\n      <g>\n       <use style=\"stroke:#000000;stroke-width:0.8;\" x=\"10.7\" xlink:href=\"#m6151c7f467\" y=\"444.652202\"/>\n      </g>\n     </g>\n    </g>\n   </g>\n   <g id=\"line2d_21\">\n    <path clip-path=\"url(#p0094fbb8ea)\" d=\"M 181.558678 444.652202 \nL 48.745455 444.652202 \n\" style=\"fill:none;stroke:#3f3f3f;stroke-linecap:square;stroke-width:1.5;\"/>\n   </g>\n   <g id=\"line2d_22\">\n    <path clip-path=\"url(#p0094fbb8ea)\" d=\"M 336.507438 444.652202 \nL 566.163636 444.652202 \n\" style=\"fill:none;stroke:#3f3f3f;stroke-linecap:square;stroke-width:1.5;\"/>\n   </g>\n   <g id=\"line2d_23\">\n    <path clip-path=\"url(#p0094fbb8ea)\" d=\"M 48.745455 395.23402 \nL 48.745455 494.070384 \n\" style=\"fill:none;stroke:#3f3f3f;stroke-linecap:square;stroke-width:1.5;\"/>\n   </g>\n   <g id=\"line2d_24\">\n    <path clip-path=\"url(#p0094fbb8ea)\" d=\"M 566.163636 395.23402 \nL 566.163636 494.070384 \n\" style=\"fill:none;stroke:#3f3f3f;stroke-linecap:square;stroke-width:1.5;\"/>\n   </g>\n   <g id=\"line2d_25\">\n    <g clip-path=\"url(#p0094fbb8ea)\">\n     <use style=\"fill:#3f3f3f;stroke:#3f3f3f;stroke-linejoin:miter;\" x=\"571.697521\" xlink:href=\"#mfdb5162cb8\" y=\"444.652202\"/>\n     <use style=\"fill:#3f3f3f;stroke:#3f3f3f;stroke-linejoin:miter;\" x=\"571.697521\" xlink:href=\"#mfdb5162cb8\" y=\"444.652202\"/>\n     <use style=\"fill:#3f3f3f;stroke:#3f3f3f;stroke-linejoin:miter;\" x=\"574.464463\" xlink:href=\"#mfdb5162cb8\" y=\"444.652202\"/>\n     <use style=\"fill:#3f3f3f;stroke:#3f3f3f;stroke-linejoin:miter;\" x=\"579.998347\" xlink:href=\"#mfdb5162cb8\" y=\"444.652202\"/>\n     <use style=\"fill:#3f3f3f;stroke:#3f3f3f;stroke-linejoin:miter;\" x=\"579.998347\" xlink:href=\"#mfdb5162cb8\" y=\"444.652202\"/>\n     <use style=\"fill:#3f3f3f;stroke:#3f3f3f;stroke-linejoin:miter;\" x=\"582.765289\" xlink:href=\"#mfdb5162cb8\" y=\"444.652202\"/>\n     <use style=\"fill:#3f3f3f;stroke:#3f3f3f;stroke-linejoin:miter;\" x=\"591.066116\" xlink:href=\"#mfdb5162cb8\" y=\"444.652202\"/>\n     <use style=\"fill:#3f3f3f;stroke:#3f3f3f;stroke-linejoin:miter;\" x=\"593.833058\" xlink:href=\"#mfdb5162cb8\" y=\"444.652202\"/>\n     <use style=\"fill:#3f3f3f;stroke:#3f3f3f;stroke-linejoin:miter;\" x=\"602.133884\" xlink:href=\"#mfdb5162cb8\" y=\"444.652202\"/>\n     <use style=\"fill:#3f3f3f;stroke:#3f3f3f;stroke-linejoin:miter;\" x=\"607.667769\" xlink:href=\"#mfdb5162cb8\" y=\"444.652202\"/>\n     <use style=\"fill:#3f3f3f;stroke:#3f3f3f;stroke-linejoin:miter;\" x=\"613.201653\" xlink:href=\"#mfdb5162cb8\" y=\"444.652202\"/>\n     <use style=\"fill:#3f3f3f;stroke:#3f3f3f;stroke-linejoin:miter;\" x=\"615.968595\" xlink:href=\"#mfdb5162cb8\" y=\"444.652202\"/>\n     <use style=\"fill:#3f3f3f;stroke:#3f3f3f;stroke-linejoin:miter;\" x=\"615.968595\" xlink:href=\"#mfdb5162cb8\" y=\"444.652202\"/>\n     <use style=\"fill:#3f3f3f;stroke:#3f3f3f;stroke-linejoin:miter;\" x=\"618.735537\" xlink:href=\"#mfdb5162cb8\" y=\"444.652202\"/>\n     <use style=\"fill:#3f3f3f;stroke:#3f3f3f;stroke-linejoin:miter;\" x=\"621.502479\" xlink:href=\"#mfdb5162cb8\" y=\"444.652202\"/>\n     <use style=\"fill:#3f3f3f;stroke:#3f3f3f;stroke-linejoin:miter;\" x=\"621.502479\" xlink:href=\"#mfdb5162cb8\" y=\"444.652202\"/>\n     <use style=\"fill:#3f3f3f;stroke:#3f3f3f;stroke-linejoin:miter;\" x=\"624.269421\" xlink:href=\"#mfdb5162cb8\" y=\"444.652202\"/>\n     <use style=\"fill:#3f3f3f;stroke:#3f3f3f;stroke-linejoin:miter;\" x=\"629.803306\" xlink:href=\"#mfdb5162cb8\" y=\"444.652202\"/>\n     <use style=\"fill:#3f3f3f;stroke:#3f3f3f;stroke-linejoin:miter;\" x=\"629.803306\" xlink:href=\"#mfdb5162cb8\" y=\"444.652202\"/>\n     <use style=\"fill:#3f3f3f;stroke:#3f3f3f;stroke-linejoin:miter;\" x=\"635.33719\" xlink:href=\"#mfdb5162cb8\" y=\"444.652202\"/>\n     <use style=\"fill:#3f3f3f;stroke:#3f3f3f;stroke-linejoin:miter;\" x=\"635.33719\" xlink:href=\"#mfdb5162cb8\" y=\"444.652202\"/>\n     <use style=\"fill:#3f3f3f;stroke:#3f3f3f;stroke-linejoin:miter;\" x=\"649.171901\" xlink:href=\"#mfdb5162cb8\" y=\"444.652202\"/>\n     <use style=\"fill:#3f3f3f;stroke:#3f3f3f;stroke-linejoin:miter;\" x=\"671.307438\" xlink:href=\"#mfdb5162cb8\" y=\"444.652202\"/>\n     <use style=\"fill:#3f3f3f;stroke:#3f3f3f;stroke-linejoin:miter;\" x=\"682.375207\" xlink:href=\"#mfdb5162cb8\" y=\"444.652202\"/>\n     <use style=\"fill:#3f3f3f;stroke:#3f3f3f;stroke-linejoin:miter;\" x=\"690.676033\" xlink:href=\"#mfdb5162cb8\" y=\"444.652202\"/>\n     <use style=\"fill:#3f3f3f;stroke:#3f3f3f;stroke-linejoin:miter;\" x=\"707.277686\" xlink:href=\"#mfdb5162cb8\" y=\"444.652202\"/>\n     <use style=\"fill:#3f3f3f;stroke:#3f3f3f;stroke-linejoin:miter;\" x=\"710.044628\" xlink:href=\"#mfdb5162cb8\" y=\"444.652202\"/>\n     <use style=\"fill:#3f3f3f;stroke:#3f3f3f;stroke-linejoin:miter;\" x=\"718.345455\" xlink:href=\"#mfdb5162cb8\" y=\"444.652202\"/>\n     <use style=\"fill:#3f3f3f;stroke:#3f3f3f;stroke-linejoin:miter;\" x=\"721.112397\" xlink:href=\"#mfdb5162cb8\" y=\"444.652202\"/>\n     <use style=\"fill:#3f3f3f;stroke:#3f3f3f;stroke-linejoin:miter;\" x=\"748.781818\" xlink:href=\"#mfdb5162cb8\" y=\"444.652202\"/>\n     <use style=\"fill:#3f3f3f;stroke:#3f3f3f;stroke-linejoin:miter;\" x=\"762.616529\" xlink:href=\"#mfdb5162cb8\" y=\"444.652202\"/>\n     <use style=\"fill:#3f3f3f;stroke:#3f3f3f;stroke-linejoin:miter;\" x=\"770.917355\" xlink:href=\"#mfdb5162cb8\" y=\"444.652202\"/>\n     <use style=\"fill:#3f3f3f;stroke:#3f3f3f;stroke-linejoin:miter;\" x=\"809.654545\" xlink:href=\"#mfdb5162cb8\" y=\"444.652202\"/>\n    </g>\n   </g>\n   <g id=\"line2d_26\">\n    <path clip-path=\"url(#p0094fbb8ea)\" d=\"M 242.431405 345.815838 \nL 242.431405 543.488565 \n\" style=\"fill:none;stroke:#3f3f3f;stroke-linecap:square;stroke-width:1.5;\"/>\n   </g>\n   <g id=\"patch_10\">\n    <path d=\"M 10.7 568.197656 \nL 10.7 321.106747 \n\" style=\"fill:none;stroke:#000000;stroke-linecap:square;stroke-linejoin:miter;stroke-width:0.8;\"/>\n   </g>\n   <g id=\"patch_11\">\n    <path d=\"M 847.7 568.197656 \nL 847.7 321.106747 \n\" style=\"fill:none;stroke:#000000;stroke-linecap:square;stroke-linejoin:miter;stroke-width:0.8;\"/>\n   </g>\n   <g id=\"patch_12\">\n    <path d=\"M 10.7 568.197656 \nL 847.7 568.197656 \n\" style=\"fill:none;stroke:#000000;stroke-linecap:square;stroke-linejoin:miter;stroke-width:0.8;\"/>\n   </g>\n   <g id=\"patch_13\">\n    <path d=\"M 10.7 321.106747 \nL 847.7 321.106747 \n\" style=\"fill:none;stroke:#000000;stroke-linecap:square;stroke-linejoin:miter;stroke-width:0.8;\"/>\n   </g>\n   <g id=\"text_14\">\n    <!-- Test -->\n    <g transform=\"translate(414.432031 315.106747)scale(0.15 -0.15)\">\n     <defs>\n      <path d=\"M 56.203125 29.59375 \nL 56.203125 25.203125 \nL 14.890625 25.203125 \nQ 15.484375 15.921875 20.484375 11.0625 \nQ 25.484375 6.203125 34.421875 6.203125 \nQ 39.59375 6.203125 44.453125 7.46875 \nQ 49.3125 8.734375 54.109375 11.28125 \nL 54.109375 2.78125 \nQ 49.265625 0.734375 44.1875 -0.34375 \nQ 39.109375 -1.421875 33.890625 -1.421875 \nQ 20.796875 -1.421875 13.15625 6.1875 \nQ 5.515625 13.8125 5.515625 26.8125 \nQ 5.515625 40.234375 12.765625 48.109375 \nQ 20.015625 56 32.328125 56 \nQ 43.359375 56 49.78125 48.890625 \nQ 56.203125 41.796875 56.203125 29.59375 \nz\nM 47.21875 32.234375 \nQ 47.125 39.59375 43.09375 43.984375 \nQ 39.0625 48.390625 32.421875 48.390625 \nQ 24.90625 48.390625 20.390625 44.140625 \nQ 15.875 39.890625 15.1875 32.171875 \nz\n\" id=\"DejaVuSans-101\"/>\n      <path d=\"M 44.28125 53.078125 \nL 44.28125 44.578125 \nQ 40.484375 46.53125 36.375 47.5 \nQ 32.28125 48.484375 27.875 48.484375 \nQ 21.1875 48.484375 17.84375 46.4375 \nQ 14.5 44.390625 14.5 40.28125 \nQ 14.5 37.15625 16.890625 35.375 \nQ 19.28125 33.59375 26.515625 31.984375 \nL 29.59375 31.296875 \nQ 39.15625 29.25 43.1875 25.515625 \nQ 47.21875 21.78125 47.21875 15.09375 \nQ 47.21875 7.46875 41.1875 3.015625 \nQ 35.15625 -1.421875 24.609375 -1.421875 \nQ 20.21875 -1.421875 15.453125 -0.5625 \nQ 10.6875 0.296875 5.421875 2 \nL 5.421875 11.28125 \nQ 10.40625 8.6875 15.234375 7.390625 \nQ 20.0625 6.109375 24.8125 6.109375 \nQ 31.15625 6.109375 34.5625 8.28125 \nQ 37.984375 10.453125 37.984375 14.40625 \nQ 37.984375 18.0625 35.515625 20.015625 \nQ 33.0625 21.96875 24.703125 23.78125 \nL 21.578125 24.515625 \nQ 13.234375 26.265625 9.515625 29.90625 \nQ 5.8125 33.546875 5.8125 39.890625 \nQ 5.8125 47.609375 11.28125 51.796875 \nQ 16.75 56 26.8125 56 \nQ 31.78125 56 36.171875 55.265625 \nQ 40.578125 54.546875 44.28125 53.078125 \nz\n\" id=\"DejaVuSans-115\"/>\n      <path d=\"M 18.3125 70.21875 \nL 18.3125 54.6875 \nL 36.8125 54.6875 \nL 36.8125 47.703125 \nL 18.3125 47.703125 \nL 18.3125 18.015625 \nQ 18.3125 11.328125 20.140625 9.421875 \nQ 21.96875 7.515625 27.59375 7.515625 \nL 36.8125 7.515625 \nL 36.8125 0 \nL 27.59375 0 \nQ 17.1875 0 13.234375 3.875 \nQ 9.28125 7.765625 9.28125 18.015625 \nL 9.28125 47.703125 \nL 2.6875 47.703125 \nL 2.6875 54.6875 \nL 9.28125 54.6875 \nL 9.28125 70.21875 \nz\n\" id=\"DejaVuSans-116\"/>\n     </defs>\n     <use xlink:href=\"#DejaVuSans-84\"/>\n     <use x=\"44.083984\" xlink:href=\"#DejaVuSans-101\"/>\n     <use x=\"105.607422\" xlink:href=\"#DejaVuSans-115\"/>\n     <use x=\"157.707031\" xlink:href=\"#DejaVuSans-116\"/>\n    </g>\n   </g>\n  </g>\n </g>\n <defs>\n  <clipPath id=\"pd4fbdfc5aa\">\n   <rect height=\"247.090909\" width=\"837\" x=\"10.7\" y=\"24.597656\"/>\n  </clipPath>\n  <clipPath id=\"p0094fbb8ea\">\n   <rect height=\"247.090909\" width=\"837\" x=\"10.7\" y=\"321.106747\"/>\n  </clipPath>\n </defs>\n</svg>\n",
      "image/png": "[encoded data removed]"
     },
     "metadata": {
      "needs_background": "light"
     }
    }
   ],
   "source": [
    "fig = plt.figure(figsize=(15, 10))\n",
    "\n",
    "ax1 = fig.add_subplot(211)\n",
    "ax1.set_title('Train', fontsize=15)\n",
    "sns.boxplot(length_list)\n",
    "\n",
    "ax2 = fig.add_subplot(212)\n",
    "ax2.set_title('Test', fontsize=15)\n",
    "sns.boxplot(length_list2)\n",
    "\n",
    "plt.show()\n"
   ]
  },
  {
   "cell_type": "code",
   "execution_count": 50,
   "metadata": {},
   "outputs": [],
   "source": [
    "import pathlib"
   ]
  },
  {
   "cell_type": "code",
   "execution_count": 62,
   "metadata": {},
   "outputs": [],
   "source": [
    "cur = pathlib.Path('/opt/ml/code').cwd()\n",
    "root = list(cur.parents)[0]\n"
   ]
  },
  {
   "cell_type": "code",
   "execution_count": 63,
   "metadata": {},
   "outputs": [],
   "source": [
    "input = list(root.glob('**/input'))[0]\n",
    "input = input.glob('**/agreement_content.txt')"
   ]
  },
  {
   "cell_type": "code",
   "execution_count": 64,
   "metadata": {},
   "outputs": [],
   "source": [
    "additional_data = list(input)[0]"
   ]
  },
  {
   "cell_type": "code",
   "execution_count": 65,
   "metadata": {},
   "outputs": [],
   "source": [
    "with open(additional_data, 'r', ) as f:\n",
    "    data = f.readlines()"
   ]
  },
  {
   "cell_type": "code",
   "execution_count": 66,
   "metadata": {},
   "outputs": [],
   "source": [
    "splitted = []\n",
    "for line in data:\n",
    "    splitted.append(line.split('\\t'))"
   ]
  },
  {
   "cell_type": "code",
   "execution_count": 67,
   "metadata": {},
   "outputs": [
    {
     "output_type": "execute_result",
     "data": {
      "text/plain": [
       "['판초_비야',\n",
       " '멕시코_혁명',\n",
       " 'battle',\n",
       " '치와와 주는  [[ _obj_ ]]  때에는 가장 중요한 역할을 한 곳으로,  [[ _sbj_ ]] 가 인솔하는 혁명군과 연방 정부군의 사이의 전쟁지였다.',\n",
       " 'battle369',\n",
       " 'yes\\n']"
      ]
     },
     "metadata": {},
     "execution_count": 67
    }
   ],
   "source": [
    "splitted[0]"
   ]
  },
  {
   "cell_type": "code",
   "execution_count": 68,
   "metadata": {},
   "outputs": [
    {
     "output_type": "execute_result",
     "data": {
      "text/plain": [
       "['판초_비야',\n",
       " '멕시코_혁명',\n",
       " 'battle',\n",
       " '치와와 주는  [[ _obj_ ]]  때에는 가장 중요한 역할을 한 곳으로,  [[ _sbj_ ]] 가 인솔하는 혁명군과 연방 정부군의 사이의 전쟁지였다.',\n",
       " 'battle369',\n",
       " 'yes\\n']"
      ]
     },
     "metadata": {},
     "execution_count": 68
    }
   ],
   "source": [
    "splitted[0]"
   ]
  },
  {
   "cell_type": "code",
   "execution_count": 69,
   "metadata": {},
   "outputs": [],
   "source": [
    "temp = splitted[0]\n",
    "temp[3] = temp[3].replace('[[ _sbj_ ]]', temp[0])\n",
    "temp[3] = temp[3].replace('[[ _obj_ ]]', temp[1])"
   ]
  },
  {
   "cell_type": "code",
   "execution_count": 70,
   "metadata": {},
   "outputs": [
    {
     "output_type": "execute_result",
     "data": {
      "text/plain": [
       "['판초_비야',\n",
       " '멕시코_혁명',\n",
       " 'battle',\n",
       " '치와와 주는  멕시코_혁명  때에는 가장 중요한 역할을 한 곳으로,  판초_비야 가 인솔하는 혁명군과 연방 정부군의 사이의 전쟁지였다.',\n",
       " 'battle369',\n",
       " 'yes\\n']"
      ]
     },
     "metadata": {},
     "execution_count": 70
    }
   ],
   "source": [
    "temp"
   ]
  },
  {
   "cell_type": "code",
   "execution_count": 71,
   "metadata": {},
   "outputs": [
    {
     "output_type": "stream",
     "name": "stdout",
     "text": [
      "['바부르', '카불', 'restingPlace', ' 이전에 후세인의 후원으로  [[ _obj_ ]] 을 정복한바 있던  [[ _sbj_ ]] 는 이때쯤 헤라트를 방문했는데, 형제의 싸움을 보고서는 우즈베크족과 싸우기를 포기하고 카불로 돌아갔다.', 'restingPlace5', 'no\\n']\n['이승만', '국립서울현충원', 'restingPlace', '2014년 1월 1일에는 신년을 맞아  [[ _obj_ ]] 에서  [[ 김대중 ]] ,  [[ _sbj_ ]] ,  [[ 박정희 ]]  묘역을 참배했다.', 'restingPlace392', 'yes\\n']\n['김정일', '조선민주주의인민공화국', 'restingPlace', '선군정치(先軍政治) 또는 선군사상(先軍思想)은  [[ _obj_ ]] 의  [[ _sbj_ ]]   [[ 조선민주주의인민공화국_국방위원회 ]] 이 1995년 이후부터 내건 정치 사상이다.', 'restingPlace394', 'no\\n']\n['네로', '로마', 'restingPlace', '  [[ 그리스도교 ]]  전승에 따르면 그는  [[ _obj_ ]] 에서 교회를 지도하던 중  [[ _sbj_ ]]  황제의 박해에 휘말려 거꾸로 된  [[ 십자가 ]] 에 못박혀 순교하였다고 전해 내려온다.', 'restingPlace38', 'no\\n']\n"
     ]
    }
   ],
   "source": [
    "for text in splitted:\n",
    "    if text[2] == 'restingPlace':\n",
    "        print(text)"
   ]
  },
  {
   "cell_type": "code",
   "execution_count": 73,
   "metadata": {},
   "outputs": [],
   "source": [
    "input2 = list(root.glob('**/input'))[0]\n",
    "input2 = input2.glob('**/conflict2agreement_content.txt')"
   ]
  },
  {
   "cell_type": "code",
   "execution_count": 75,
   "metadata": {},
   "outputs": [],
   "source": [
    "additional_data2 = list(input2)[0]\n",
    "with open(additional_data2, 'r', ) as f:\n",
    "    data2 = f.readlines()"
   ]
  },
  {
   "cell_type": "code",
   "execution_count": 76,
   "metadata": {},
   "outputs": [],
   "source": [
    "splitted2 = []\n",
    "for line in data2:\n",
    "    splitted2.append(line.split('\\t'))"
   ]
  },
  {
   "cell_type": "code",
   "execution_count": 77,
   "metadata": {},
   "outputs": [
    {
     "output_type": "stream",
     "name": "stdout",
     "text": [
      "['쑨원', '중화민국', 'restingPlace', '저명한 졸업생으로  [[ _obj_ ]] 을 성립시킨  [[ _sbj_ ]] 이 있다.', 'restingPlace158', 'no\\n']\n['아우구스투스', '로마', 'restingPlace', '아우구스투스 영묘는  [[ 기원전_28년 ]] 에  [[ _sbj_ ]]  일가의 무덤으로 사용하기 위하여  [[ _obj_ ]] 의  [[ 마르스_광장 ]] 에 지어진 건축물이다.', 'restingPlace408', 'yes\\n']\n"
     ]
    }
   ],
   "source": [
    "for text in splitted2:\n",
    "    if text[2] == 'restingPlace':\n",
    "        print(text)"
   ]
  },
  {
   "cell_type": "code",
   "execution_count": 3,
   "metadata": {},
   "outputs": [],
   "source": [
    "df = pd.read_csv(\"/opt/ml/input/data/train/all_csv.tsv\", delimiter='\\t', header=None)\n"
   ]
  },
  {
   "cell_type": "code",
   "execution_count": 4,
   "metadata": {},
   "outputs": [
    {
     "output_type": "execute_result",
     "data": {
      "text/plain": [
       "                   0                                                  1  \\\n",
       "0   from train_csv 5  카터 는 이집트 와 이스라엘 을 조정 하 여 , 캠프 데이비드 에서 안와르 사다트 ...   \n",
       "1   from train_csv 8  카터 는 이집트 와 이스라엘 을 조정 하 여 , 캠프 데이비드 에서 안와르 사다트 ...   \n",
       "2   from train_csv 9  카터 는 이집트 와 이스라엘 을 조정 하 여 , 캠프 데이비드 에서 안와르 사다트 ...   \n",
       "3  from train_csv 11  카터 는 이집트 와 이스라엘 을 조정 하 여 , 캠프 데이비드 에서 안와르 사다트 ...   \n",
       "4  from train_csv 65  선거 전 까지 각축전 을 벌인 유력 한 후보 는 15 대 대통령 선거 에 나와 김대...   \n",
       "\n",
       "           2   3   4     5   6   7           8  \n",
       "0    안와르 사다트  38  44   이집트   5   7  인물:출신성분/국적  \n",
       "1  캠프데이비드 협정  78  86  이스라엘  11  14      단체:구성원  \n",
       "2  캠프데이비드 협정  78  86   이집트   5   7      단체:구성원  \n",
       "3     메나헴 베긴  52  57  이스라엘  11  14  인물:출신성분/국적  \n",
       "4       한나라당  63  66   이회창  75  77      단체:구성원  "
      ],
      "text/html": "<div>\n<style scoped>\n    .dataframe tbody tr th:only-of-type {\n        vertical-align: middle;\n    }\n\n    .dataframe tbody tr th {\n        vertical-align: top;\n    }\n\n    .dataframe thead th {\n        text-align: right;\n    }\n</style>\n<table border=\"1\" class=\"dataframe\">\n  <thead>\n    <tr style=\"text-align: right;\">\n      <th></th>\n      <th>0</th>\n      <th>1</th>\n      <th>2</th>\n      <th>3</th>\n      <th>4</th>\n      <th>5</th>\n      <th>6</th>\n      <th>7</th>\n      <th>8</th>\n    </tr>\n  </thead>\n  <tbody>\n    <tr>\n      <th>0</th>\n      <td>from train_csv 5</td>\n      <td>카터 는 이집트 와 이스라엘 을 조정 하 여 , 캠프 데이비드 에서 안와르 사다트 ...</td>\n      <td>안와르 사다트</td>\n      <td>38</td>\n      <td>44</td>\n      <td>이집트</td>\n      <td>5</td>\n      <td>7</td>\n      <td>인물:출신성분/국적</td>\n    </tr>\n    <tr>\n      <th>1</th>\n      <td>from train_csv 8</td>\n      <td>카터 는 이집트 와 이스라엘 을 조정 하 여 , 캠프 데이비드 에서 안와르 사다트 ...</td>\n      <td>캠프데이비드 협정</td>\n      <td>78</td>\n      <td>86</td>\n      <td>이스라엘</td>\n      <td>11</td>\n      <td>14</td>\n      <td>단체:구성원</td>\n    </tr>\n    <tr>\n      <th>2</th>\n      <td>from train_csv 9</td>\n      <td>카터 는 이집트 와 이스라엘 을 조정 하 여 , 캠프 데이비드 에서 안와르 사다트 ...</td>\n      <td>캠프데이비드 협정</td>\n      <td>78</td>\n      <td>86</td>\n      <td>이집트</td>\n      <td>5</td>\n      <td>7</td>\n      <td>단체:구성원</td>\n    </tr>\n    <tr>\n      <th>3</th>\n      <td>from train_csv 11</td>\n      <td>카터 는 이집트 와 이스라엘 을 조정 하 여 , 캠프 데이비드 에서 안와르 사다트 ...</td>\n      <td>메나헴 베긴</td>\n      <td>52</td>\n      <td>57</td>\n      <td>이스라엘</td>\n      <td>11</td>\n      <td>14</td>\n      <td>인물:출신성분/국적</td>\n    </tr>\n    <tr>\n      <th>4</th>\n      <td>from train_csv 65</td>\n      <td>선거 전 까지 각축전 을 벌인 유력 한 후보 는 15 대 대통령 선거 에 나와 김대...</td>\n      <td>한나라당</td>\n      <td>63</td>\n      <td>66</td>\n      <td>이회창</td>\n      <td>75</td>\n      <td>77</td>\n      <td>단체:구성원</td>\n    </tr>\n  </tbody>\n</table>\n</div>"
     },
     "metadata": {},
     "execution_count": 4
    }
   ],
   "source": [
    "df.head()"
   ]
  },
  {
   "cell_type": "code",
   "execution_count": 5,
   "metadata": {},
   "outputs": [],
   "source": [
    "label = df[8]"
   ]
  },
  {
   "cell_type": "code",
   "execution_count": 7,
   "metadata": {},
   "outputs": [
    {
     "output_type": "execute_result",
     "data": {
      "text/plain": [
       "인물:출신성분/국적    77850\n",
       "인물:직업/직함      34615\n",
       "단체:창립일        27757\n",
       "인물:제작         16601\n",
       "단체:제작         15039\n",
       "단체:구성원        13779\n",
       "인물:배우자        11205\n",
       "인물:자녀         10461\n",
       "인물:기타_친족       9650\n",
       "인물:부모님         4566\n",
       "단체:상위_단체       3436\n",
       "인물:학교          2062\n",
       "단체:정치/종교성향     1591\n",
       "인물:소속단체         875\n",
       "단체:창립자          124\n",
       "Name: 8, dtype: int64"
      ]
     },
     "metadata": {},
     "execution_count": 7
    }
   ],
   "source": [
    "label.value_counts() # 하위단체 entity reverse"
   ]
  },
  {
   "cell_type": "code",
   "execution_count": 9,
   "metadata": {},
   "outputs": [
    {
     "output_type": "execute_result",
     "data": {
      "text/plain": [
       "15"
      ]
     },
     "metadata": {},
     "execution_count": 9
    }
   ],
   "source": [
    "len(label.unique())"
   ]
  },
  {
   "cell_type": "code",
   "execution_count": 39,
   "metadata": {},
   "outputs": [],
   "source": [
    "label_counts = label.value_counts()"
   ]
  },
  {
   "cell_type": "code",
   "execution_count": 40,
   "metadata": {},
   "outputs": [
    {
     "output_type": "execute_result",
     "data": {
      "text/plain": [
       "인물:출신성분/국적    77850\n",
       "인물:직업/직함      34615\n",
       "단체:창립일        27757\n",
       "인물:제작         16601\n",
       "단체:제작         15039\n",
       "단체:구성원        13779\n",
       "인물:배우자        11205\n",
       "인물:자녀         10461\n",
       "인물:기타_친족       9650\n",
       "인물:부모님         4566\n",
       "단체:상위_단체       3436\n",
       "인물:학교          2062\n",
       "단체:정치/종교성향     1591\n",
       "인물:소속단체         875\n",
       "단체:창립자          124\n",
       "Name: 8, dtype: int64"
      ]
     },
     "metadata": {},
     "execution_count": 40
    }
   ],
   "source": [
    "label_counts"
   ]
  },
  {
   "cell_type": "code",
   "execution_count": 41,
   "metadata": {},
   "outputs": [],
   "source": [
    "weights = []\n",
    "for i in range(len(label_counts)):\n",
    "    weights.append(len(df)/label_counts[i])"
   ]
  },
  {
   "cell_type": "code",
   "execution_count": 42,
   "metadata": {},
   "outputs": [],
   "source": [
    "weights/=sum(weights)"
   ]
  },
  {
   "cell_type": "code",
   "execution_count": 43,
   "metadata": {},
   "outputs": [
    {
     "output_type": "execute_result",
     "data": {
      "text/plain": [
       "array([0.00112712, 0.00253493, 0.00316124, 0.00528562, 0.0058346 ,\n",
       "       0.00636814, 0.00783102, 0.00838797, 0.00909291, 0.01921739,\n",
       "       0.02553743, 0.04255412, 0.05515185, 0.10028182, 0.70763383])"
      ]
     },
     "metadata": {},
     "execution_count": 43
    }
   ],
   "source": [
    "weights"
   ]
  },
  {
   "cell_type": "code",
   "execution_count": 44,
   "metadata": {},
   "outputs": [
    {
     "output_type": "execute_result",
     "data": {
      "text/plain": [
       "                   0                                                  1  \\\n",
       "0   from train_csv 5  카터 는 이집트 와 이스라엘 을 조정 하 여 , 캠프 데이비드 에서 안와르 사다트 ...   \n",
       "1   from train_csv 8  카터 는 이집트 와 이스라엘 을 조정 하 여 , 캠프 데이비드 에서 안와르 사다트 ...   \n",
       "2   from train_csv 9  카터 는 이집트 와 이스라엘 을 조정 하 여 , 캠프 데이비드 에서 안와르 사다트 ...   \n",
       "3  from train_csv 11  카터 는 이집트 와 이스라엘 을 조정 하 여 , 캠프 데이비드 에서 안와르 사다트 ...   \n",
       "4  from train_csv 65  선거 전 까지 각축전 을 벌인 유력 한 후보 는 15 대 대통령 선거 에 나와 김대...   \n",
       "\n",
       "           2   3   4     5   6   7           8  \n",
       "0    안와르 사다트  38  44   이집트   5   7  인물:출신성분/국적  \n",
       "1  캠프데이비드 협정  78  86  이스라엘  11  14      단체:구성원  \n",
       "2  캠프데이비드 협정  78  86   이집트   5   7      단체:구성원  \n",
       "3     메나헴 베긴  52  57  이스라엘  11  14  인물:출신성분/국적  \n",
       "4       한나라당  63  66   이회창  75  77      단체:구성원  "
      ],
      "text/html": "<div>\n<style scoped>\n    .dataframe tbody tr th:only-of-type {\n        vertical-align: middle;\n    }\n\n    .dataframe tbody tr th {\n        vertical-align: top;\n    }\n\n    .dataframe thead th {\n        text-align: right;\n    }\n</style>\n<table border=\"1\" class=\"dataframe\">\n  <thead>\n    <tr style=\"text-align: right;\">\n      <th></th>\n      <th>0</th>\n      <th>1</th>\n      <th>2</th>\n      <th>3</th>\n      <th>4</th>\n      <th>5</th>\n      <th>6</th>\n      <th>7</th>\n      <th>8</th>\n    </tr>\n  </thead>\n  <tbody>\n    <tr>\n      <th>0</th>\n      <td>from train_csv 5</td>\n      <td>카터 는 이집트 와 이스라엘 을 조정 하 여 , 캠프 데이비드 에서 안와르 사다트 ...</td>\n      <td>안와르 사다트</td>\n      <td>38</td>\n      <td>44</td>\n      <td>이집트</td>\n      <td>5</td>\n      <td>7</td>\n      <td>인물:출신성분/국적</td>\n    </tr>\n    <tr>\n      <th>1</th>\n      <td>from train_csv 8</td>\n      <td>카터 는 이집트 와 이스라엘 을 조정 하 여 , 캠프 데이비드 에서 안와르 사다트 ...</td>\n      <td>캠프데이비드 협정</td>\n      <td>78</td>\n      <td>86</td>\n      <td>이스라엘</td>\n      <td>11</td>\n      <td>14</td>\n      <td>단체:구성원</td>\n    </tr>\n    <tr>\n      <th>2</th>\n      <td>from train_csv 9</td>\n      <td>카터 는 이집트 와 이스라엘 을 조정 하 여 , 캠프 데이비드 에서 안와르 사다트 ...</td>\n      <td>캠프데이비드 협정</td>\n      <td>78</td>\n      <td>86</td>\n      <td>이집트</td>\n      <td>5</td>\n      <td>7</td>\n      <td>단체:구성원</td>\n    </tr>\n    <tr>\n      <th>3</th>\n      <td>from train_csv 11</td>\n      <td>카터 는 이집트 와 이스라엘 을 조정 하 여 , 캠프 데이비드 에서 안와르 사다트 ...</td>\n      <td>메나헴 베긴</td>\n      <td>52</td>\n      <td>57</td>\n      <td>이스라엘</td>\n      <td>11</td>\n      <td>14</td>\n      <td>인물:출신성분/국적</td>\n    </tr>\n    <tr>\n      <th>4</th>\n      <td>from train_csv 65</td>\n      <td>선거 전 까지 각축전 을 벌인 유력 한 후보 는 15 대 대통령 선거 에 나와 김대...</td>\n      <td>한나라당</td>\n      <td>63</td>\n      <td>66</td>\n      <td>이회창</td>\n      <td>75</td>\n      <td>77</td>\n      <td>단체:구성원</td>\n    </tr>\n  </tbody>\n</table>\n</div>"
     },
     "metadata": {},
     "execution_count": 44
    }
   ],
   "source": [
    "df.head()"
   ]
  },
  {
   "cell_type": "code",
   "execution_count": 51,
   "metadata": {},
   "outputs": [],
   "source": [
    "temp = df.sample(n=30000, axis='index',random_state=42)"
   ]
  },
  {
   "cell_type": "code",
   "execution_count": 52,
   "metadata": {},
   "outputs": [],
   "source": [
    "temp_label = temp[8]"
   ]
  },
  {
   "cell_type": "code",
   "execution_count": 53,
   "metadata": {},
   "outputs": [
    {
     "output_type": "execute_result",
     "data": {
      "text/plain": [
       "인물:출신성분/국적    10076\n",
       "인물:직업/직함       4471\n",
       "단체:창립일         3645\n",
       "인물:제작          2136\n",
       "단체:제작          1992\n",
       "단체:구성원         1790\n",
       "인물:배우자         1450\n",
       "인물:자녀          1399\n",
       "인물:기타_친족       1354\n",
       "인물:부모님          639\n",
       "단체:상위_단체        469\n",
       "인물:학교           245\n",
       "단체:정치/종교성향      217\n",
       "인물:소속단체         105\n",
       "단체:창립자           12\n",
       "Name: 8, dtype: int64"
      ]
     },
     "metadata": {},
     "execution_count": 53
    }
   ],
   "source": [
    "temp_label.value_counts()"
   ]
  },
  {
   "cell_type": "code",
   "execution_count": 38,
   "metadata": {},
   "outputs": [
    {
     "output_type": "error",
     "ename": "KeyError",
     "evalue": "0",
     "traceback": [
      "\u001b[0;31m---------------------------------------------------------------------------\u001b[0m",
      "\u001b[0;31mKeyError\u001b[0m                                  Traceback (most recent call last)",
      "\u001b[0;32m/opt/conda/lib/python3.7/site-packages/pandas/core/indexes/base.py\u001b[0m in \u001b[0;36mget_loc\u001b[0;34m(self, key, method, tolerance)\u001b[0m\n\u001b[1;32m   3079\u001b[0m             \u001b[0;32mtry\u001b[0m\u001b[0;34m:\u001b[0m\u001b[0;34m\u001b[0m\u001b[0;34m\u001b[0m\u001b[0m\n\u001b[0;32m-> 3080\u001b[0;31m                 \u001b[0;32mreturn\u001b[0m \u001b[0mself\u001b[0m\u001b[0;34m.\u001b[0m\u001b[0m_engine\u001b[0m\u001b[0;34m.\u001b[0m\u001b[0mget_loc\u001b[0m\u001b[0;34m(\u001b[0m\u001b[0mcasted_key\u001b[0m\u001b[0;34m)\u001b[0m\u001b[0;34m\u001b[0m\u001b[0;34m\u001b[0m\u001b[0m\n\u001b[0m\u001b[1;32m   3081\u001b[0m             \u001b[0;32mexcept\u001b[0m \u001b[0mKeyError\u001b[0m \u001b[0;32mas\u001b[0m \u001b[0merr\u001b[0m\u001b[0;34m:\u001b[0m\u001b[0;34m\u001b[0m\u001b[0;34m\u001b[0m\u001b[0m\n",
      "\u001b[0;32mpandas/_libs/index.pyx\u001b[0m in \u001b[0;36mpandas._libs.index.IndexEngine.get_loc\u001b[0;34m()\u001b[0m\n",
      "\u001b[0;32mpandas/_libs/index.pyx\u001b[0m in \u001b[0;36mpandas._libs.index.IndexEngine.get_loc\u001b[0;34m()\u001b[0m\n",
      "\u001b[0;32mpandas/_libs/hashtable_class_helper.pxi\u001b[0m in \u001b[0;36mpandas._libs.hashtable.Int64HashTable.get_item\u001b[0;34m()\u001b[0m\n",
      "\u001b[0;32mpandas/_libs/hashtable_class_helper.pxi\u001b[0m in \u001b[0;36mpandas._libs.hashtable.Int64HashTable.get_item\u001b[0;34m()\u001b[0m\n",
      "\u001b[0;31mKeyError\u001b[0m: 0",
      "\nThe above exception was the direct cause of the following exception:\n",
      "\u001b[0;31mKeyError\u001b[0m                                  Traceback (most recent call last)",
      "\u001b[0;32m<ipython-input-38-e210a52ffad2>\u001b[0m in \u001b[0;36m<module>\u001b[0;34m\u001b[0m\n\u001b[1;32m      1\u001b[0m \u001b[0mweights\u001b[0m \u001b[0;34m=\u001b[0m \u001b[0;34m[\u001b[0m\u001b[0;34m]\u001b[0m\u001b[0;34m\u001b[0m\u001b[0;34m\u001b[0m\u001b[0m\n\u001b[1;32m      2\u001b[0m \u001b[0;32mfor\u001b[0m \u001b[0mi\u001b[0m \u001b[0;32min\u001b[0m \u001b[0mrange\u001b[0m\u001b[0;34m(\u001b[0m\u001b[0mlen\u001b[0m\u001b[0;34m(\u001b[0m\u001b[0mtemp_label\u001b[0m\u001b[0;34m)\u001b[0m\u001b[0;34m)\u001b[0m\u001b[0;34m:\u001b[0m\u001b[0;34m\u001b[0m\u001b[0;34m\u001b[0m\u001b[0m\n\u001b[0;32m----> 3\u001b[0;31m     \u001b[0mweights\u001b[0m\u001b[0;34m.\u001b[0m\u001b[0mappend\u001b[0m\u001b[0;34m(\u001b[0m\u001b[0mlen\u001b[0m\u001b[0;34m(\u001b[0m\u001b[0mdf\u001b[0m\u001b[0;34m)\u001b[0m\u001b[0;34m/\u001b[0m\u001b[0mtemp_label\u001b[0m\u001b[0;34m[\u001b[0m\u001b[0mi\u001b[0m\u001b[0;34m]\u001b[0m\u001b[0;34m)\u001b[0m\u001b[0;34m\u001b[0m\u001b[0;34m\u001b[0m\u001b[0m\n\u001b[0m",
      "\u001b[0;32m/opt/conda/lib/python3.7/site-packages/pandas/core/series.py\u001b[0m in \u001b[0;36m__getitem__\u001b[0;34m(self, key)\u001b[0m\n\u001b[1;32m    851\u001b[0m \u001b[0;34m\u001b[0m\u001b[0m\n\u001b[1;32m    852\u001b[0m         \u001b[0;32melif\u001b[0m \u001b[0mkey_is_scalar\u001b[0m\u001b[0;34m:\u001b[0m\u001b[0;34m\u001b[0m\u001b[0;34m\u001b[0m\u001b[0m\n\u001b[0;32m--> 853\u001b[0;31m             \u001b[0;32mreturn\u001b[0m \u001b[0mself\u001b[0m\u001b[0;34m.\u001b[0m\u001b[0m_get_value\u001b[0m\u001b[0;34m(\u001b[0m\u001b[0mkey\u001b[0m\u001b[0;34m)\u001b[0m\u001b[0;34m\u001b[0m\u001b[0;34m\u001b[0m\u001b[0m\n\u001b[0m\u001b[1;32m    854\u001b[0m \u001b[0;34m\u001b[0m\u001b[0m\n\u001b[1;32m    855\u001b[0m         \u001b[0;32mif\u001b[0m \u001b[0mis_hashable\u001b[0m\u001b[0;34m(\u001b[0m\u001b[0mkey\u001b[0m\u001b[0;34m)\u001b[0m\u001b[0;34m:\u001b[0m\u001b[0;34m\u001b[0m\u001b[0;34m\u001b[0m\u001b[0m\n",
      "\u001b[0;32m/opt/conda/lib/python3.7/site-packages/pandas/core/series.py\u001b[0m in \u001b[0;36m_get_value\u001b[0;34m(self, label, takeable)\u001b[0m\n\u001b[1;32m    959\u001b[0m \u001b[0;34m\u001b[0m\u001b[0m\n\u001b[1;32m    960\u001b[0m         \u001b[0;31m# Similar to Index.get_value, but we do not fall back to positional\u001b[0m\u001b[0;34m\u001b[0m\u001b[0;34m\u001b[0m\u001b[0;34m\u001b[0m\u001b[0m\n\u001b[0;32m--> 961\u001b[0;31m         \u001b[0mloc\u001b[0m \u001b[0;34m=\u001b[0m \u001b[0mself\u001b[0m\u001b[0;34m.\u001b[0m\u001b[0mindex\u001b[0m\u001b[0;34m.\u001b[0m\u001b[0mget_loc\u001b[0m\u001b[0;34m(\u001b[0m\u001b[0mlabel\u001b[0m\u001b[0;34m)\u001b[0m\u001b[0;34m\u001b[0m\u001b[0;34m\u001b[0m\u001b[0m\n\u001b[0m\u001b[1;32m    962\u001b[0m         \u001b[0;32mreturn\u001b[0m \u001b[0mself\u001b[0m\u001b[0;34m.\u001b[0m\u001b[0mindex\u001b[0m\u001b[0;34m.\u001b[0m\u001b[0m_get_values_for_loc\u001b[0m\u001b[0;34m(\u001b[0m\u001b[0mself\u001b[0m\u001b[0;34m,\u001b[0m \u001b[0mloc\u001b[0m\u001b[0;34m,\u001b[0m \u001b[0mlabel\u001b[0m\u001b[0;34m)\u001b[0m\u001b[0;34m\u001b[0m\u001b[0;34m\u001b[0m\u001b[0m\n\u001b[1;32m    963\u001b[0m \u001b[0;34m\u001b[0m\u001b[0m\n",
      "\u001b[0;32m/opt/conda/lib/python3.7/site-packages/pandas/core/indexes/base.py\u001b[0m in \u001b[0;36mget_loc\u001b[0;34m(self, key, method, tolerance)\u001b[0m\n\u001b[1;32m   3080\u001b[0m                 \u001b[0;32mreturn\u001b[0m \u001b[0mself\u001b[0m\u001b[0;34m.\u001b[0m\u001b[0m_engine\u001b[0m\u001b[0;34m.\u001b[0m\u001b[0mget_loc\u001b[0m\u001b[0;34m(\u001b[0m\u001b[0mcasted_key\u001b[0m\u001b[0;34m)\u001b[0m\u001b[0;34m\u001b[0m\u001b[0;34m\u001b[0m\u001b[0m\n\u001b[1;32m   3081\u001b[0m             \u001b[0;32mexcept\u001b[0m \u001b[0mKeyError\u001b[0m \u001b[0;32mas\u001b[0m \u001b[0merr\u001b[0m\u001b[0;34m:\u001b[0m\u001b[0;34m\u001b[0m\u001b[0;34m\u001b[0m\u001b[0m\n\u001b[0;32m-> 3082\u001b[0;31m                 \u001b[0;32mraise\u001b[0m \u001b[0mKeyError\u001b[0m\u001b[0;34m(\u001b[0m\u001b[0mkey\u001b[0m\u001b[0;34m)\u001b[0m \u001b[0;32mfrom\u001b[0m \u001b[0merr\u001b[0m\u001b[0;34m\u001b[0m\u001b[0;34m\u001b[0m\u001b[0m\n\u001b[0m\u001b[1;32m   3083\u001b[0m \u001b[0;34m\u001b[0m\u001b[0m\n\u001b[1;32m   3084\u001b[0m         \u001b[0;32mif\u001b[0m \u001b[0mtolerance\u001b[0m \u001b[0;32mis\u001b[0m \u001b[0;32mnot\u001b[0m \u001b[0;32mNone\u001b[0m\u001b[0;34m:\u001b[0m\u001b[0;34m\u001b[0m\u001b[0;34m\u001b[0m\u001b[0m\n",
      "\u001b[0;31mKeyError\u001b[0m: 0"
     ]
    }
   ],
   "source": []
  },
  {
   "cell_type": "code",
   "execution_count": null,
   "metadata": {},
   "outputs": [],
   "source": []
  }
 ]
}