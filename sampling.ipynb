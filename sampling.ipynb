{
 "metadata": {
  "language_info": {
   "codemirror_mode": {
    "name": "ipython",
    "version": 3
   },
   "file_extension": ".py",
   "mimetype": "text/x-python",
   "name": "python",
   "nbconvert_exporter": "python",
   "pygments_lexer": "ipython3",
   "version": "3.7.7"
  },
  "orig_nbformat": 2,
  "kernelspec": {
   "name": "python377jvsc74a57bd098b0a9b7b4eaaa670588a142fd0a9b87eaafe866f1db4228be72b4211d12040f",
   "display_name": "Python 3.7.7 64-bit ('conda': conda)"
  }
 },
 "nbformat": 4,
 "nbformat_minor": 2,
 "cells": [
  {
   "cell_type": "code",
   "execution_count": 1,
   "metadata": {},
   "outputs": [],
   "source": [
    "import pandas as pd\n",
    "from pororo import Pororo"
   ]
  },
  {
   "cell_type": "code",
   "execution_count": 2,
   "metadata": {},
   "outputs": [
    {
     "output_type": "stream",
     "name": "stderr",
     "text": [
      "\n",
      "/opt/conda/lib/python3.7/importlib/_bootstrap.py:219: RuntimeWarning: numpy.ufunc size changed, may indicate binary incompatibility. Expected 192 from C header, got 216 from PyObject\n",
      "  return f(*args, **kwds)\n",
      "[nltk_data] Downloading package punkt to /opt/ml/nltk_data...\n",
      "[nltk_data]   Unzipping tokenizers/punkt.zip.\n",
      "\n"
     ]
    }
   ],
   "source": [
    " ner = Pororo(task=\"ner\", lang=\"ko\")"
   ]
  },
  {
   "cell_type": "code",
   "execution_count": 3,
   "metadata": {},
   "outputs": [],
   "source": [
    "df = pd.read_csv(\"/opt/ml/input/data/train/train.tsv\", delimiter='\\t', header=None)\n",
    "df_add = pd.read_csv(\"/opt/ml/input/data/train/all_csv.tsv\", delimiter='\\t', header=None)\n",
    "df_born_city = pd.read_csv(\"/opt/ml/input/data/train/19_bornIn_city.tsv\", delimiter='\\t', header=0)\n",
    "df_born_ctry = pd.read_csv(\"/opt/ml/input/data/train/26_bornIn_country.tsv\", delimiter='\\t', header=0)\n",
    "df_death_city = pd.read_csv(\"/opt/ml/input/data/train/37_dienIn_city.tsv\", delimiter='\\t', header=0)\n",
    "df_death_ctry = pd.read_csv(\"/opt/ml/input/data/train/40_dienIn_country.tsv\", delimiter='\\t', header=0)\n"
   ]
  },
  {
   "cell_type": "code",
   "execution_count": 4,
   "metadata": {},
   "outputs": [
    {
     "output_type": "execute_result",
     "data": {
      "text/plain": [
       "4"
      ]
     },
     "metadata": {},
     "execution_count": 4
    }
   ],
   "source": [
    "# df_add.loc[0, 1]\n",
    "len(df_add[df_add[1] == df_add.loc[0,1]])"
   ]
  },
  {
   "cell_type": "code",
   "execution_count": 5,
   "metadata": {},
   "outputs": [
    {
     "output_type": "stream",
     "name": "stdout",
     "text": [
      "8573\n9000\n"
     ]
    }
   ],
   "source": [
    "print(len(df[1].unique()))\n",
    "print(len(df))"
   ]
  },
  {
   "cell_type": "code",
   "execution_count": 6,
   "metadata": {},
   "outputs": [
    {
     "output_type": "execute_result",
     "data": {
      "text/plain": [
       "                   0                                                  1  \\\n",
       "0   from train_csv 5  카터 는 이집트 와 이스라엘 을 조정 하 여 , 캠프 데이비드 에서 안와르 사다트 ...   \n",
       "1   from train_csv 8  카터 는 이집트 와 이스라엘 을 조정 하 여 , 캠프 데이비드 에서 안와르 사다트 ...   \n",
       "2   from train_csv 9  카터 는 이집트 와 이스라엘 을 조정 하 여 , 캠프 데이비드 에서 안와르 사다트 ...   \n",
       "3  from train_csv 11  카터 는 이집트 와 이스라엘 을 조정 하 여 , 캠프 데이비드 에서 안와르 사다트 ...   \n",
       "4  from train_csv 65  선거 전 까지 각축전 을 벌인 유력 한 후보 는 15 대 대통령 선거 에 나와 김대...   \n",
       "\n",
       "           2   3   4     5   6   7           8  \n",
       "0    안와르 사다트  38  44   이집트   5   7  인물:출신성분/국적  \n",
       "1  캠프데이비드 협정  78  86  이스라엘  11  14      단체:구성원  \n",
       "2  캠프데이비드 협정  78  86   이집트   5   7      단체:구성원  \n",
       "3     메나헴 베긴  52  57  이스라엘  11  14  인물:출신성분/국적  \n",
       "4       한나라당  63  66   이회창  75  77      단체:구성원  "
      ],
      "text/html": "<div>\n<style scoped>\n    .dataframe tbody tr th:only-of-type {\n        vertical-align: middle;\n    }\n\n    .dataframe tbody tr th {\n        vertical-align: top;\n    }\n\n    .dataframe thead th {\n        text-align: right;\n    }\n</style>\n<table border=\"1\" class=\"dataframe\">\n  <thead>\n    <tr style=\"text-align: right;\">\n      <th></th>\n      <th>0</th>\n      <th>1</th>\n      <th>2</th>\n      <th>3</th>\n      <th>4</th>\n      <th>5</th>\n      <th>6</th>\n      <th>7</th>\n      <th>8</th>\n    </tr>\n  </thead>\n  <tbody>\n    <tr>\n      <th>0</th>\n      <td>from train_csv 5</td>\n      <td>카터 는 이집트 와 이스라엘 을 조정 하 여 , 캠프 데이비드 에서 안와르 사다트 ...</td>\n      <td>안와르 사다트</td>\n      <td>38</td>\n      <td>44</td>\n      <td>이집트</td>\n      <td>5</td>\n      <td>7</td>\n      <td>인물:출신성분/국적</td>\n    </tr>\n    <tr>\n      <th>1</th>\n      <td>from train_csv 8</td>\n      <td>카터 는 이집트 와 이스라엘 을 조정 하 여 , 캠프 데이비드 에서 안와르 사다트 ...</td>\n      <td>캠프데이비드 협정</td>\n      <td>78</td>\n      <td>86</td>\n      <td>이스라엘</td>\n      <td>11</td>\n      <td>14</td>\n      <td>단체:구성원</td>\n    </tr>\n    <tr>\n      <th>2</th>\n      <td>from train_csv 9</td>\n      <td>카터 는 이집트 와 이스라엘 을 조정 하 여 , 캠프 데이비드 에서 안와르 사다트 ...</td>\n      <td>캠프데이비드 협정</td>\n      <td>78</td>\n      <td>86</td>\n      <td>이집트</td>\n      <td>5</td>\n      <td>7</td>\n      <td>단체:구성원</td>\n    </tr>\n    <tr>\n      <th>3</th>\n      <td>from train_csv 11</td>\n      <td>카터 는 이집트 와 이스라엘 을 조정 하 여 , 캠프 데이비드 에서 안와르 사다트 ...</td>\n      <td>메나헴 베긴</td>\n      <td>52</td>\n      <td>57</td>\n      <td>이스라엘</td>\n      <td>11</td>\n      <td>14</td>\n      <td>인물:출신성분/국적</td>\n    </tr>\n    <tr>\n      <th>4</th>\n      <td>from train_csv 65</td>\n      <td>선거 전 까지 각축전 을 벌인 유력 한 후보 는 15 대 대통령 선거 에 나와 김대...</td>\n      <td>한나라당</td>\n      <td>63</td>\n      <td>66</td>\n      <td>이회창</td>\n      <td>75</td>\n      <td>77</td>\n      <td>단체:구성원</td>\n    </tr>\n  </tbody>\n</table>\n</div>"
     },
     "metadata": {},
     "execution_count": 6
    }
   ],
   "source": [
    "df_add.head(\n",
    ")"
   ]
  },
  {
   "cell_type": "code",
   "execution_count": 14,
   "metadata": {},
   "outputs": [
    {
     "output_type": "stream",
     "name": "stdout",
     "text": [
      "total sentence : 229611\nunique sentence : 179733\n"
     ]
    }
   ],
   "source": [
    "print(f\"total sentence : {len(df_add)}\")\n",
    "print(f\"unique sentence : {len(df_add[1].unique())}\")"
   ]
  },
  {
   "cell_type": "code",
   "execution_count": 15,
   "metadata": {},
   "outputs": [
    {
     "output_type": "stream",
     "name": "stdout",
     "text": [
      "total sentence : 15402\nunique sentence : 14504\n"
     ]
    }
   ],
   "source": [
    "print(f\"total sentence : {len(df_born_city)}\")\n",
    "print(f\"unique sentence : {len(ddf_born_city1'sentence'.unique())}\")"
   ]
  },
  {
   "cell_type": "code",
   "execution_count": 8,
   "metadata": {},
   "outputs": [],
   "source": [
    "sentence1 = df[1]\n",
    "sentence2 = df_add[1]\n",
    "sentence3 = df_born_city['sentence']\n",
    "sentence4 = df_born_ctry['sentence']\n",
    "sentence5 = df_death_city['sentence']\n",
    "sentence6 = df_death_city['sentence']"
   ]
  },
  {
   "cell_type": "code",
   "execution_count": 10,
   "metadata": {},
   "outputs": [],
   "source": [
    "sentences = pd.concat([sentence1, sentence2, sentence3, sentence4, sentence5, sentence6])"
   ]
  },
  {
   "cell_type": "code",
   "execution_count": 14,
   "metadata": {},
   "outputs": [
    {
     "output_type": "stream",
     "name": "stdout",
     "text": [
      "198008\n283152\n"
     ]
    }
   ],
   "source": [
    "print(len(sentences.unique()))\n",
    "print(len(sentences))"
   ]
  },
  {
   "cell_type": "code",
   "execution_count": 9,
   "metadata": {},
   "outputs": [],
   "source": [
    "def delete_duplicate(df):\n",
    "    return df.drop_duplicates([1])\n"
   ]
  },
  {
   "cell_type": "code",
   "execution_count": 10,
   "metadata": {},
   "outputs": [],
   "source": [
    "df_new = delete_duplicate(df_add)"
   ]
  },
  {
   "cell_type": "code",
   "execution_count": 11,
   "metadata": {},
   "outputs": [
    {
     "output_type": "stream",
     "name": "stdout",
     "text": [
      "229611\n179733\n"
     ]
    }
   ],
   "source": [
    "print(len(df_add))\n",
    "print(len(df_new))\n"
   ]
  },
  {
   "cell_type": "code",
   "execution_count": 12,
   "metadata": {},
   "outputs": [
    {
     "output_type": "execute_result",
     "data": {
      "text/plain": [
       "                   0                                                  1  \\\n",
       "0   from train_csv 5  카터 는 이집트 와 이스라엘 을 조정 하 여 , 캠프 데이비드 에서 안와르 사다트 ...   \n",
       "4  from train_csv 65  선거 전 까지 각축전 을 벌인 유력 한 후보 는 15 대 대통령 선거 에 나와 김대...   \n",
       "6  from train_csv 68   한나라당 은 2002 년 4 월 13 일 부터 5 월 9 일 까지 경선 을 통해 ...   \n",
       "7  from train_csv 69   함석헌 ( 咸錫憲 , 1901 년 3 월 13 일 ~ 1989 년 2 월 4 일 ...   \n",
       "9  from train_csv 73  그 의 종교 는 초기 에 는 일본 유학 중 에 우치무라 간조 의 영향 을 받 아 무...   \n",
       "\n",
       "         2   3   4    5   6   7           8  \n",
       "0  안와르 사다트  38  44  이집트   5   7  인물:출신성분/국적  \n",
       "4     한나라당  63  66  이회창  75  77      단체:구성원  \n",
       "6     한나라당   1   4  이회창  46  48      단체:구성원  \n",
       "7      함석헌   1   3  종교인  66  68    인물:직업/직함  \n",
       "9  우치무라 간조  26  32   일본  16  17  인물:출신성분/국적  "
      ],
      "text/html": "<div>\n<style scoped>\n    .dataframe tbody tr th:only-of-type {\n        vertical-align: middle;\n    }\n\n    .dataframe tbody tr th {\n        vertical-align: top;\n    }\n\n    .dataframe thead th {\n        text-align: right;\n    }\n</style>\n<table border=\"1\" class=\"dataframe\">\n  <thead>\n    <tr style=\"text-align: right;\">\n      <th></th>\n      <th>0</th>\n      <th>1</th>\n      <th>2</th>\n      <th>3</th>\n      <th>4</th>\n      <th>5</th>\n      <th>6</th>\n      <th>7</th>\n      <th>8</th>\n    </tr>\n  </thead>\n  <tbody>\n    <tr>\n      <th>0</th>\n      <td>from train_csv 5</td>\n      <td>카터 는 이집트 와 이스라엘 을 조정 하 여 , 캠프 데이비드 에서 안와르 사다트 ...</td>\n      <td>안와르 사다트</td>\n      <td>38</td>\n      <td>44</td>\n      <td>이집트</td>\n      <td>5</td>\n      <td>7</td>\n      <td>인물:출신성분/국적</td>\n    </tr>\n    <tr>\n      <th>4</th>\n      <td>from train_csv 65</td>\n      <td>선거 전 까지 각축전 을 벌인 유력 한 후보 는 15 대 대통령 선거 에 나와 김대...</td>\n      <td>한나라당</td>\n      <td>63</td>\n      <td>66</td>\n      <td>이회창</td>\n      <td>75</td>\n      <td>77</td>\n      <td>단체:구성원</td>\n    </tr>\n    <tr>\n      <th>6</th>\n      <td>from train_csv 68</td>\n      <td>한나라당 은 2002 년 4 월 13 일 부터 5 월 9 일 까지 경선 을 통해 ...</td>\n      <td>한나라당</td>\n      <td>1</td>\n      <td>4</td>\n      <td>이회창</td>\n      <td>46</td>\n      <td>48</td>\n      <td>단체:구성원</td>\n    </tr>\n    <tr>\n      <th>7</th>\n      <td>from train_csv 69</td>\n      <td>함석헌 ( 咸錫憲 , 1901 년 3 월 13 일 ~ 1989 년 2 월 4 일 ...</td>\n      <td>함석헌</td>\n      <td>1</td>\n      <td>3</td>\n      <td>종교인</td>\n      <td>66</td>\n      <td>68</td>\n      <td>인물:직업/직함</td>\n    </tr>\n    <tr>\n      <th>9</th>\n      <td>from train_csv 73</td>\n      <td>그 의 종교 는 초기 에 는 일본 유학 중 에 우치무라 간조 의 영향 을 받 아 무...</td>\n      <td>우치무라 간조</td>\n      <td>26</td>\n      <td>32</td>\n      <td>일본</td>\n      <td>16</td>\n      <td>17</td>\n      <td>인물:출신성분/국적</td>\n    </tr>\n  </tbody>\n</table>\n</div>"
     },
     "metadata": {},
     "execution_count": 12
    }
   ],
   "source": [
    "df_new.head()"
   ]
  },
  {
   "cell_type": "code",
   "execution_count": 37,
   "metadata": {},
   "outputs": [
    {
     "output_type": "execute_result",
     "data": {
      "text/plain": [
       "                                            sentence entity_01 entity_02  \\\n",
       "0                 함석헌 은 1901 년  평안북도 용천 에서 출생 했 다 .        함석헌      평안북도   \n",
       "1   토마스 만 은 평의원 이 며 곡물 상인 이 었 던 토마스 요한 하인리히 만 과 율...     토마스 만       뤼베크   \n",
       "2   하인리히 뵐 ( Heinrich B ö ll , 쾰른 , 1917 년 12 월 2...    하인리히 뵐    랑엔브로이히   \n",
       "3   하인리히 뵐 ( Heinrich B ö ll , 쾰른 , 1917 년 12 월 2...    하인리히 뵐        쾰른   \n",
       "4  노무현 은 ' 1986 년  부산광역시 에서 송기인 신부 로부터 영세 를 받 아 '...       송기인     부산광역시   \n",
       "\n",
       "   label  \n",
       "0     19  \n",
       "1     19  \n",
       "2     19  \n",
       "3     19  \n",
       "4     19  "
      ],
      "text/html": "<div>\n<style scoped>\n    .dataframe tbody tr th:only-of-type {\n        vertical-align: middle;\n    }\n\n    .dataframe tbody tr th {\n        vertical-align: top;\n    }\n\n    .dataframe thead th {\n        text-align: right;\n    }\n</style>\n<table border=\"1\" class=\"dataframe\">\n  <thead>\n    <tr style=\"text-align: right;\">\n      <th></th>\n      <th>sentence</th>\n      <th>entity_01</th>\n      <th>entity_02</th>\n      <th>label</th>\n    </tr>\n  </thead>\n  <tbody>\n    <tr>\n      <th>0</th>\n      <td>함석헌 은 1901 년  평안북도 용천 에서 출생 했 다 .</td>\n      <td>함석헌</td>\n      <td>평안북도</td>\n      <td>19</td>\n    </tr>\n    <tr>\n      <th>1</th>\n      <td>토마스 만 은 평의원 이 며 곡물 상인 이 었 던 토마스 요한 하인리히 만 과 율...</td>\n      <td>토마스 만</td>\n      <td>뤼베크</td>\n      <td>19</td>\n    </tr>\n    <tr>\n      <th>2</th>\n      <td>하인리히 뵐 ( Heinrich B ö ll , 쾰른 , 1917 년 12 월 2...</td>\n      <td>하인리히 뵐</td>\n      <td>랑엔브로이히</td>\n      <td>19</td>\n    </tr>\n    <tr>\n      <th>3</th>\n      <td>하인리히 뵐 ( Heinrich B ö ll , 쾰른 , 1917 년 12 월 2...</td>\n      <td>하인리히 뵐</td>\n      <td>쾰른</td>\n      <td>19</td>\n    </tr>\n    <tr>\n      <th>4</th>\n      <td>노무현 은 ' 1986 년  부산광역시 에서 송기인 신부 로부터 영세 를 받 아 '...</td>\n      <td>송기인</td>\n      <td>부산광역시</td>\n      <td>19</td>\n    </tr>\n  </tbody>\n</table>\n</div>"
     },
     "metadata": {},
     "execution_count": 37
    }
   ],
   "source": [
    "df_born_city.head()"
   ]
  },
  {
   "cell_type": "code",
   "execution_count": 7,
   "metadata": {},
   "outputs": [
    {
     "output_type": "stream",
     "name": "stdout",
     "text": [
      "9000\n229611\n15402\n28037\n551\n6910\n"
     ]
    }
   ],
   "source": [
    "print(len(df))\n",
    "print(len(df_add))\n",
    "print(len(df_born_city))\n",
    "print(len(df_born_ctry))\n",
    "print(len(df_death_city))\n",
    "print(len(df_death_ctry))"
   ]
  },
  {
   "cell_type": "code",
   "execution_count": 55,
   "metadata": {},
   "outputs": [
    {
     "output_type": "execute_result",
     "data": {
      "text/plain": [
       "관계_없음          4432\n",
       "단체:구성원          815\n",
       "인물:소속단체         683\n",
       "인물:직업/직함        553\n",
       "단체:상위_단체        335\n",
       "단체:별칭           231\n",
       "인물:출신성분/국적      209\n",
       "인물:동료           186\n",
       "단체:제작           171\n",
       "인물:부모님          164\n",
       "단체:본사_도시        135\n",
       "단체:본사_국가        115\n",
       "인물:별칭           103\n",
       "인물:배우자           92\n",
       "인물:자녀            84\n",
       "단체:하위_단체         79\n",
       "단체:창립일           67\n",
       "인물:기타_친족         58\n",
       "인물:제작            56\n",
       "인물:형제/자매/남매      52\n",
       "인물:사망_일시         45\n",
       "단체:창립자           45\n",
       "단체:모회사           44\n",
       "인물:출생_일시         36\n",
       "인물:거주_국가         27\n",
       "인물:거주_도시         26\n",
       "단체:본사_주(도)       23\n",
       "단체:정치/종교성향       18\n",
       "인물:종교            15\n",
       "단체:해산일           15\n",
       "인물:거주_주(도)       12\n",
       "단체:주주            11\n",
       "인물:용의자           11\n",
       "인물:학교             9\n",
       "단체:구성원_수          9\n",
       "인물:출생_국가          8\n",
       "인물:사망_원인          7\n",
       "단체:자회사            6\n",
       "인물:나이             5\n",
       "인물:출생_도시          4\n",
       "인물:사망_도시          3\n",
       "인물:사망_국가          1\n",
       "Name: 8, dtype: int64"
      ]
     },
     "metadata": {},
     "execution_count": 55
    }
   ],
   "source": [
    "df[8].value_counts()"
   ]
  },
  {
   "cell_type": "code",
   "execution_count": 56,
   "metadata": {},
   "outputs": [
    {
     "output_type": "execute_result",
     "data": {
      "text/plain": [
       "인물:출신성분/국적    77850\n",
       "인물:직업/직함      34615\n",
       "단체:창립일        27757\n",
       "인물:제작         16601\n",
       "단체:제작         15039\n",
       "단체:구성원        13779\n",
       "인물:배우자        11205\n",
       "인물:자녀         10461\n",
       "인물:기타_친족       9650\n",
       "인물:부모님         4566\n",
       "단체:상위_단체       3436\n",
       "인물:학교          2062\n",
       "단체:정치/종교성향     1591\n",
       "인물:소속단체         875\n",
       "단체:창립자          124\n",
       "Name: 8, dtype: int64"
      ]
     },
     "metadata": {},
     "execution_count": 56
    }
   ],
   "source": [
    "df_add[8].value_counts()"
   ]
  },
  {
   "cell_type": "code",
   "execution_count": 59,
   "metadata": {},
   "outputs": [],
   "source": [
    "labels = df_add[8].unique()"
   ]
  },
  {
   "cell_type": "code",
   "execution_count": 11,
   "metadata": {},
   "outputs": [
    {
     "output_type": "execute_result",
     "data": {
      "text/plain": [
       "인물:출신성분/국적    3030\n",
       "인물:직업/직함      1312\n",
       "단체:창립일        1110\n",
       "인물:제작          655\n",
       "단체:제작          600\n",
       "단체:구성원         542\n",
       "인물:배우자         434\n",
       "인물:기타_친족       408\n",
       "인물:자녀          388\n",
       "인물:부모님         205\n",
       "단체:상위_단체       138\n",
       "인물:학교           77\n",
       "단체:정치/종교성향      63\n",
       "인물:소속단체         35\n",
       "단체:창립자           3\n",
       "Name: 8, dtype: int64"
      ]
     },
     "metadata": {},
     "execution_count": 11
    }
   ],
   "source": [
    "sampled_data = df_add.sample(9000, random_state=42)\n",
    "sampled_data[8].value_counts()"
   ]
  },
  {
   "cell_type": "code",
   "execution_count": 60,
   "metadata": {},
   "outputs": [],
   "source": [
    "for label in labels:\n",
    "    temp_df = df_add[df_add[8] == label]\n",
    "    df = pd.concat([df, temp_df.iloc[:100]], axis=0, ignore_index=True)\n",
    "        \n"
   ]
  },
  {
   "cell_type": "code",
   "execution_count": 61,
   "metadata": {},
   "outputs": [
    {
     "output_type": "execute_result",
     "data": {
      "text/plain": [
       "관계_없음          4432\n",
       "단체:구성원          915\n",
       "인물:소속단체         783\n",
       "인물:직업/직함        653\n",
       "단체:상위_단체        435\n",
       "인물:출신성분/국적      309\n",
       "단체:제작           271\n",
       "인물:부모님          264\n",
       "단체:별칭           231\n",
       "인물:배우자          192\n",
       "인물:동료           186\n",
       "인물:자녀           184\n",
       "단체:창립일          167\n",
       "인물:기타_친족        158\n",
       "인물:제작           156\n",
       "단체:창립자          145\n",
       "단체:본사_도시        135\n",
       "단체:정치/종교성향      118\n",
       "단체:본사_국가        115\n",
       "인물:학교           109\n",
       "인물:별칭           103\n",
       "단체:하위_단체         79\n",
       "인물:형제/자매/남매      52\n",
       "인물:사망_일시         45\n",
       "단체:모회사           44\n",
       "인물:출생_일시         36\n",
       "인물:거주_국가         27\n",
       "인물:거주_도시         26\n",
       "단체:본사_주(도)       23\n",
       "인물:종교            15\n",
       "단체:해산일           15\n",
       "인물:거주_주(도)       12\n",
       "단체:주주            11\n",
       "인물:용의자           11\n",
       "단체:구성원_수          9\n",
       "인물:출생_국가          8\n",
       "인물:사망_원인          7\n",
       "단체:자회사            6\n",
       "인물:나이             5\n",
       "인물:출생_도시          4\n",
       "인물:사망_도시          3\n",
       "인물:사망_국가          1\n",
       "Name: 8, dtype: int64"
      ]
     },
     "metadata": {},
     "execution_count": 61
    }
   ],
   "source": [
    "df[8].value_counts()"
   ]
  },
  {
   "cell_type": "code",
   "execution_count": 67,
   "metadata": {},
   "outputs": [],
   "source": [
    "from sklearn.model_selection import train_test_split\n",
    "train, val = train_test_split(df, test_size=0.2, random_state=42)"
   ]
  },
  {
   "cell_type": "code",
   "execution_count": 68,
   "metadata": {},
   "outputs": [
    {
     "output_type": "stream",
     "name": "stdout",
     "text": [
      "8400\n2100\n"
     ]
    }
   ],
   "source": [
    "print(len(train))\n",
    "print(len(val))"
   ]
  },
  {
   "cell_type": "code",
   "execution_count": 69,
   "metadata": {},
   "outputs": [
    {
     "output_type": "execute_result",
     "data": {
      "text/plain": [
       "관계_없음          3546\n",
       "단체:구성원          732\n",
       "인물:소속단체         632\n",
       "인물:직업/직함        518\n",
       "단체:상위_단체        335\n",
       "인물:출신성분/국적      234\n",
       "인물:부모님          218\n",
       "단체:제작           214\n",
       "단체:별칭           186\n",
       "인물:자녀           155\n",
       "인물:배우자          151\n",
       "인물:동료           150\n",
       "단체:창립일          136\n",
       "인물:기타_친족        133\n",
       "인물:제작           127\n",
       "단체:본사_도시        116\n",
       "단체:창립자          110\n",
       "단체:정치/종교성향       97\n",
       "단체:본사_국가         90\n",
       "인물:학교            87\n",
       "인물:별칭            84\n",
       "단체:하위_단체         63\n",
       "인물:형제/자매/남매      43\n",
       "인물:사망_일시         37\n",
       "단체:모회사           32\n",
       "인물:출생_일시         31\n",
       "인물:거주_국가         24\n",
       "단체:본사_주(도)       19\n",
       "인물:거주_도시         18\n",
       "단체:해산일           13\n",
       "인물:거주_주(도)       12\n",
       "인물:용의자           10\n",
       "인물:종교            10\n",
       "단체:구성원_수          6\n",
       "인물:사망_원인          6\n",
       "단체:주주             5\n",
       "인물:출생_국가          5\n",
       "단체:자회사            5\n",
       "인물:나이             4\n",
       "인물:출생_도시          3\n",
       "인물:사망_도시          2\n",
       "인물:사망_국가          1\n",
       "Name: 8, dtype: int64"
      ]
     },
     "metadata": {},
     "execution_count": 69
    }
   ],
   "source": [
    "train[8].value_counts()"
   ]
  },
  {
   "cell_type": "code",
   "execution_count": 44,
   "metadata": {},
   "outputs": [],
   "source": [
    "def preprocessing_dataset(dataset, label_type, train=True):\n",
    "    label = []\n",
    "    for i in dataset[8]:\n",
    "        if i == 'blind':\n",
    "            label.append(100)\n",
    "        else:\n",
    "            label.append(label_type[i])\n",
    "    out_dataset = pd.DataFrame(\n",
    "        {'sentence': dataset[1], 'entity_01': dataset[2], 'entity_02': dataset[5], 'label': label, })\n",
    "\n",
    "    if train:\n",
    "        # 추가 데이터\n",
    "        df_born_city = pd.read_csv(\n",
    "            \"/opt/ml/input/data/train/19_bornIn_city.tsv\", delimiter='\\t', header=0)\n",
    "        df_born_ctry = pd.read_csv(\n",
    "            \"/opt/ml/input/data/train/26_bornIn_country.tsv\", delimiter='\\t', header=0)\n",
    "        df_death_city = pd.read_csv(\n",
    "            \"/opt/ml/input/data/train/37_dienIn_city.tsv\", delimiter='\\t', header=0)\n",
    "        df_death_ctry = pd.read_csv(\n",
    "            \"/opt/ml/input/data/train/40_dienIn_country.tsv\", delimiter='\\t', header=0)\n",
    "\n",
    "        df_born_city = df_born_city.iloc[:10]\n",
    "        df_born_ctry = df_born_ctry.iloc[:10]\n",
    "        df_death_city = df_death_city.iloc[:10]\n",
    "        df_death_ctry = df_death_ctry.iloc[:10]\n",
    "        out_dataset = pd.concat([out_dataset, df_born_city, df_born_ctry,\n",
    "                                df_death_city, df_death_ctry], axis=0, ignore_index=True)\n",
    "        train, val = train_test_split(out_dataset, test_size=0.2, stratify=out_dataset['label'], shuffle=True, random_state=42)\n",
    "    ##########\n",
    "        return train, val\n",
    "    else:\n",
    "        return out_dataset"
   ]
  },
  {
   "cell_type": "code",
   "execution_count": 45,
   "metadata": {},
   "outputs": [],
   "source": [
    "def load_data(dataset_dir, train=True):\n",
    "    # load label_type, classes\n",
    "    with open('/opt/ml/input/data/label_type.pkl', 'rb') as f:\n",
    "        label_type = pickle.load(f)\n",
    "    # load dataset\n",
    "    dataset = pd.read_csv(dataset_dir, delimiter='\\t', header=None)\n",
    "    ### 추가 데이터셋 투입(라벨별 100개씩만) ###\n",
    "\n",
    "    ##########################################\n",
    "    # preprecessing dataset\n",
    "    if train:\n",
    "        additional_dataset = pd.read_csv(\n",
    "            \"/opt/ml/input/data/train/all_csv.tsv\", delimiter='\\t', header=None)\n",
    "        # labels = additional_datast[8].unique()\n",
    "        # for label in labels:\n",
    "        #     temp_df = additional_datast[additional_datast[8] == label]\n",
    "        #     dataset = pd.concat([dataset, temp_df.iloc[:100]],\n",
    "        #                         axis=0, ignore_index=True)\n",
    "        additional_dataset = additional_dataset.sample(4000, random_state=42)\n",
    "        dataset = pd.concat([dataset, additional_dataset],\n",
    "                            axis=0, ignore_index=True)\n",
    "        train, val = preprocessing_dataset(dataset, label_type)\n",
    "        return train, val\n",
    "    else:\n",
    "        dataset = preprocessing_dataset(dataset, label_type, train=False)\n",
    "        return dataset"
   ]
  },
  {
   "cell_type": "code",
   "execution_count": 46,
   "metadata": {},
   "outputs": [],
   "source": [
    "from sklearn.model_selection import train_test_split\n",
    "import pickle\n",
    "train_dataset, val_dataset = load_data(\n",
    "        \"/opt/ml/input/data/train/train.tsv\")\n",
    "    #dev_dataset = load_data(\"./dataset/train/dev.tsv\")\n",
    "train_label = train_dataset['label'].values\n",
    "val_label = val_dataset['label'].values"
   ]
  },
  {
   "cell_type": "code",
   "execution_count": null,
   "metadata": {},
   "outputs": [],
   "source": []
  },
  {
   "cell_type": "code",
   "execution_count": null,
   "metadata": {},
   "outputs": [],
   "source": [
    "sorted(pd.Series(train_label).unique())"
   ]
  },
  {
   "cell_type": "code",
   "execution_count": null,
   "metadata": {},
   "outputs": [],
   "source": [
    "sorted(pd.Series(val_label).unique())"
   ]
  },
  {
   "cell_type": "code",
   "execution_count": 27,
   "metadata": {},
   "outputs": [],
   "source": [
    "with open('/opt/ml/input/data/label_type.pkl', 'rb') as f:\n",
    "        label_type = pickle.load(f)"
   ]
  },
  {
   "cell_type": "code",
   "execution_count": 28,
   "metadata": {},
   "outputs": [
    {
     "output_type": "execute_result",
     "data": {
      "text/plain": [
       "{'관계_없음': 0,\n",
       " '인물:배우자': 1,\n",
       " '인물:직업/직함': 2,\n",
       " '단체:모회사': 3,\n",
       " '인물:소속단체': 4,\n",
       " '인물:동료': 5,\n",
       " '단체:별칭': 6,\n",
       " '인물:출신성분/국적': 7,\n",
       " '인물:부모님': 8,\n",
       " '단체:본사_국가': 9,\n",
       " '단체:구성원': 10,\n",
       " '인물:기타_친족': 11,\n",
       " '단체:창립자': 12,\n",
       " '단체:주주': 13,\n",
       " '인물:사망_일시': 14,\n",
       " '단체:상위_단체': 15,\n",
       " '단체:본사_주(도)': 16,\n",
       " '단체:제작': 17,\n",
       " '인물:사망_원인': 18,\n",
       " '인물:출생_도시': 19,\n",
       " '단체:본사_도시': 20,\n",
       " '인물:자녀': 21,\n",
       " '인물:제작': 22,\n",
       " '단체:하위_단체': 23,\n",
       " '인물:별칭': 24,\n",
       " '인물:형제/자매/남매': 25,\n",
       " '인물:출생_국가': 26,\n",
       " '인물:출생_일시': 27,\n",
       " '단체:구성원_수': 28,\n",
       " '단체:자회사': 29,\n",
       " '인물:거주_주(도)': 30,\n",
       " '단체:해산일': 31,\n",
       " '인물:거주_도시': 32,\n",
       " '단체:창립일': 33,\n",
       " '인물:종교': 34,\n",
       " '인물:거주_국가': 35,\n",
       " '인물:용의자': 36,\n",
       " '인물:사망_도시': 37,\n",
       " '단체:정치/종교성향': 38,\n",
       " '인물:학교': 39,\n",
       " '인물:사망_국가': 40,\n",
       " '인물:나이': 41}"
      ]
     },
     "metadata": {},
     "execution_count": 28
    }
   ],
   "source": [
    "label_type"
   ]
  },
  {
   "cell_type": "code",
   "execution_count": null,
   "metadata": {},
   "outputs": [],
   "source": []
  }
 ]
}